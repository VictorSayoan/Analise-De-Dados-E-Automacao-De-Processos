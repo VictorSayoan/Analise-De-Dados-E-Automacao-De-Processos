{
 "cells": [
  {
   "cell_type": "code",
   "execution_count": null,
   "metadata": {},
   "outputs": [],
   "source": [
    "import os\n",
    "import pandas as pd\n",
    "import plotly_express as px\n",
    "\n",
    "def formata_valor(valor):\n",
    "    return \"R$ {:.2f}\".format(valor)\n",
    "\n",
    "dados_vendas = []\n",
    "lista_arquivos = os.listdir(r'E:\\Documentos-Victor\\01-Projetos - Análise de Dados\\Projeto01-Indicadores_de_vendas_e_devolução\\Vendas')\n",
    "\n",
    "for arquivos in lista_arquivos:\n",
    "    if \"Vendas\" in arquivos:\n",
    "        dados_doc = pd.read_csv(fr'E:\\Documentos-Victor\\01-Projetos - Análise de Dados\\Projeto01-Indicadores_de_vendas_e_devolução\\Vendas\\{arquivos}')\n",
    "        dados_vendas.append(dados_doc)\n",
    "        \n",
    "dados_combinados_vendas=pd.concat(dados_vendas)\n",
    "dados_combinados_vendas.to_csv('dados_combinados.csv', index=False)\n",
    "      "
   ]
  },
  {
   "cell_type": "code",
   "execution_count": null,
   "metadata": {},
   "outputs": [],
   "source": [
    "dados_combinados_vendas"
   ]
  },
  {
   "cell_type": "code",
   "execution_count": null,
   "metadata": {},
   "outputs": [],
   "source": [
    "# Produtos mais vendidos:\n",
    "\n",
    "Produtos_mais_vendidos=dados_combinados_vendas.groupby('Produto').sum()\n",
    "Produtos_mais_vendidos=Produtos_mais_vendidos[['Quantidade Vendida']].sort_values(by='Quantidade Vendida', ascending=False)\n",
    "Produtos_mais_vendidos\n",
    "\n",
    "fig1 = px.bar(Produtos_mais_vendidos, x=Produtos_mais_vendidos.index, y='Quantidade Vendida',\n",
    "              hover_data=['Quantidade Vendida', Produtos_mais_vendidos.index], color='Quantidade Vendida',\n",
    "              labels={'Quantidade Vendida':'Quantidade Vendida'}, height=400)\n",
    "fig1.show()"
   ]
  },
  {
   "cell_type": "code",
   "execution_count": null,
   "metadata": {},
   "outputs": [],
   "source": [
    "# Loja que mais vendeu (Em quantidade de produtos):\n",
    "\n",
    "Loja_Mais_Produtiva = dados_combinados_vendas.groupby('Loja').sum()\n",
    "Loja_Mais_Produtiva=Loja_Mais_Produtiva[['Quantidade Vendida']].sort_values(by='Quantidade Vendida', ascending=False)\n",
    "Loja_Mais_Produtiva\n",
    "\n",
    "fig2 = px.bar(Loja_Mais_Produtiva, x=Loja_Mais_Produtiva.index, y='Quantidade Vendida',\n",
    "             hover_data=['Quantidade Vendida', Loja_Mais_Produtiva.index], color='Quantidade Vendida',\n",
    "             labels={'Quantidade Vendida':'Quantidade Vendida'}, height=400)\n",
    "fig2.show()"
   ]
  },
  {
   "cell_type": "code",
   "execution_count": null,
   "metadata": {},
   "outputs": [],
   "source": [
    "# Loja que mais vendeu (Em valores unitários):\n",
    "\n",
    "Loja_Mais_Vendeu = dados_combinados_vendas.groupby('Loja').sum()\n",
    "Loja_Mais_Vendeu=Loja_Mais_Vendeu[['Preco Unitario']].sort_values(by='Preco Unitario', ascending=False)\n",
    "\n",
    "Loja_Mais_Vendeu['Preco Unitario']=Loja_Mais_Vendeu['Preco Unitario'].map(formata_valor)\n",
    "Loja_Mais_Vendeu\n",
    "\n",
    "fig3 = px.bar(Loja_Mais_Vendeu, x=Loja_Mais_Vendeu.index, y='Preco Unitario',\n",
    "              hover_data=['Preco Unitario', Loja_Mais_Vendeu.index], color='Preco Unitario',\n",
    "              labels={'Preco Unitario': 'Preco Unitario'}, height=400)\n",
    "fig3.show()"
   ]
  },
  {
   "cell_type": "code",
   "execution_count": null,
   "metadata": {},
   "outputs": [],
   "source": [
    "# Vendedor que mais vendeu:\n",
    "\n",
    "Vendedor_Mais_Vendeu = dados_combinados_vendas.groupby(['Primeiro Nome']).sum()\n",
    "Vendedor_Mais_Vendeu=Vendedor_Mais_Vendeu[['Preco Unitario']].sort_values(by='Preco Unitario', ascending=False)\n",
    "\n",
    "Vendedor_Mais_Vendeu['Preco Unitario']=Vendedor_Mais_Vendeu['Preco Unitario'].map(formata_valor)\n",
    "\n",
    "fig4 = px.bar(Vendedor_Mais_Vendeu, x=Vendedor_Mais_Vendeu.index, y='Preco Unitario',\n",
    "              hover_data=[Vendedor_Mais_Vendeu.index, 'Preco Unitario'], color='Preco Unitario',\n",
    "              labels={'Preco Unitario':'Preco Unitario'}, height=400)\n",
    "fig4.show()\n",
    "\n",
    "Vendedor_Mais_Vendeu\n",
    "\n"
   ]
  },
  {
   "cell_type": "code",
   "execution_count": null,
   "metadata": {},
   "outputs": [],
   "source": [
    "# Produto que mais faturou:\n",
    "\n",
    "dados_combinados_vendas['Faturamento']=dados_combinados_vendas['Quantidade Vendida'] * dados_combinados_vendas['Preco Unitario']\n",
    "dados_faturamento = dados_combinados_vendas.groupby('Produto').sum()\n",
    "dados_faturamento = dados_faturamento[['Faturamento']].sort_values(by='Faturamento', ascending=False)\n",
    "\n",
    "dados_faturamento['Faturamento']=dados_faturamento['Faturamento'].map(formata_valor)\n",
    "dados_faturamento\n",
    "\n",
    "fig5 = px.bar(dados_faturamento, x=dados_faturamento.index, y='Faturamento',\n",
    "              hover_data=['Faturamento', dados_faturamento.index],\n",
    "              labels={'Faturamento':'Faturamento'}, color='Faturamento',\n",
    "              height=400)\n",
    "fig5.show()\n",
    "\n",
    " "
   ]
  }
 ],
 "metadata": {
  "kernelspec": {
   "display_name": "Python 3",
   "language": "python",
   "name": "python3"
  },
  "language_info": {
   "codemirror_mode": {
    "name": "ipython",
    "version": 3
   },
   "file_extension": ".py",
   "mimetype": "text/x-python",
   "name": "python",
   "nbconvert_exporter": "python",
   "pygments_lexer": "ipython3",
   "version": "3.11.4"
  },
  "orig_nbformat": 4
 },
 "nbformat": 4,
 "nbformat_minor": 2
}
