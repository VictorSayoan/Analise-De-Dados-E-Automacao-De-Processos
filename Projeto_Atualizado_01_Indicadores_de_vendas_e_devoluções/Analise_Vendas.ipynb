{
 "cells": [
  {
   "cell_type": "code",
   "execution_count": 4,
   "metadata": {},
   "outputs": [],
   "source": [
    "import os\n",
    "import pandas as pd\n",
    "import plotly_express as px\n",
    "import plotly.graph_objects as go\n",
    "\n",
    "\n",
    "def formata_valor(valor):\n",
    "    return \"R$ {:.2f}\".format(valor)\n",
    "\n",
    "dados_vendas = []\n",
    "lista_arquivos = os.listdir(r'E:\\Documentos-Victor\\GitHub_Novo\\Analise-De-Dados-E-Automacao-De-Processos\\Projeto_Atualizado_01_Indicadores_de_vendas_e_devoluções\\Vendas')\n",
    "\n",
    "for arquivos in lista_arquivos:\n",
    "    if \"Vendas\" in arquivos:\n",
    "        dados_doc = pd.read_csv(fr'E:\\Documentos-Victor\\GitHub_Novo\\Analise-De-Dados-E-Automacao-De-Processos\\Projeto_Atualizado_01_Indicadores_de_vendas_e_devoluções\\Vendas\\{arquivos}')\n",
    "        dados_vendas.append(dados_doc)\n",
    "        \n",
    "dados_combinados_vendas=pd.concat(dados_vendas)\n",
    "dados_combinados_vendas.to_csv('dados_combinados.csv', index=False)\n",
    "      "
   ]
  },
  {
   "cell_type": "code",
   "execution_count": 15,
   "metadata": {},
   "outputs": [
    {
     "data": {
      "application/vnd.plotly.v1+json": {
       "config": {
        "plotlyServerURL": "https://plot.ly"
       },
       "data": [
        {
         "alignmentgroup": "True",
         "hovertemplate": "index=%{x}<br>Quantidade Vendida=%{marker.color}<extra></extra>",
         "legendgroup": "",
         "marker": {
          "color": [
           8974,
           5931,
           3249,
           3183,
           2980,
           2921,
           2805
          ],
          "coloraxis": "coloraxis",
          "pattern": {
           "shape": ""
          }
         },
         "name": "",
         "offsetgroup": "",
         "orientation": "v",
         "showlegend": false,
         "textposition": "auto",
         "type": "bar",
         "x": [
          0,
          1,
          2,
          3,
          4,
          5,
          6
         ],
         "xaxis": "x",
         "y": [
          8974,
          5931,
          3249,
          3183,
          2980,
          2921,
          2805
         ],
         "yaxis": "y"
        }
       ],
       "layout": {
        "barmode": "relative",
        "coloraxis": {
         "colorbar": {
          "title": {
           "text": "Quantidade Vendida"
          }
         },
         "colorscale": [
          [
           0,
           "#0d0887"
          ],
          [
           0.1111111111111111,
           "#46039f"
          ],
          [
           0.2222222222222222,
           "#7201a8"
          ],
          [
           0.3333333333333333,
           "#9c179e"
          ],
          [
           0.4444444444444444,
           "#bd3786"
          ],
          [
           0.5555555555555556,
           "#d8576b"
          ],
          [
           0.6666666666666666,
           "#ed7953"
          ],
          [
           0.7777777777777778,
           "#fb9f3a"
          ],
          [
           0.8888888888888888,
           "#fdca26"
          ],
          [
           1,
           "#f0f921"
          ]
         ]
        },
        "height": 400,
        "legend": {
         "tracegroupgap": 0
        },
        "margin": {
         "t": 60
        },
        "template": {
         "data": {
          "bar": [
           {
            "error_x": {
             "color": "#2a3f5f"
            },
            "error_y": {
             "color": "#2a3f5f"
            },
            "marker": {
             "line": {
              "color": "#E5ECF6",
              "width": 0.5
             },
             "pattern": {
              "fillmode": "overlay",
              "size": 10,
              "solidity": 0.2
             }
            },
            "type": "bar"
           }
          ],
          "barpolar": [
           {
            "marker": {
             "line": {
              "color": "#E5ECF6",
              "width": 0.5
             },
             "pattern": {
              "fillmode": "overlay",
              "size": 10,
              "solidity": 0.2
             }
            },
            "type": "barpolar"
           }
          ],
          "carpet": [
           {
            "aaxis": {
             "endlinecolor": "#2a3f5f",
             "gridcolor": "white",
             "linecolor": "white",
             "minorgridcolor": "white",
             "startlinecolor": "#2a3f5f"
            },
            "baxis": {
             "endlinecolor": "#2a3f5f",
             "gridcolor": "white",
             "linecolor": "white",
             "minorgridcolor": "white",
             "startlinecolor": "#2a3f5f"
            },
            "type": "carpet"
           }
          ],
          "choropleth": [
           {
            "colorbar": {
             "outlinewidth": 0,
             "ticks": ""
            },
            "type": "choropleth"
           }
          ],
          "contour": [
           {
            "colorbar": {
             "outlinewidth": 0,
             "ticks": ""
            },
            "colorscale": [
             [
              0,
              "#0d0887"
             ],
             [
              0.1111111111111111,
              "#46039f"
             ],
             [
              0.2222222222222222,
              "#7201a8"
             ],
             [
              0.3333333333333333,
              "#9c179e"
             ],
             [
              0.4444444444444444,
              "#bd3786"
             ],
             [
              0.5555555555555556,
              "#d8576b"
             ],
             [
              0.6666666666666666,
              "#ed7953"
             ],
             [
              0.7777777777777778,
              "#fb9f3a"
             ],
             [
              0.8888888888888888,
              "#fdca26"
             ],
             [
              1,
              "#f0f921"
             ]
            ],
            "type": "contour"
           }
          ],
          "contourcarpet": [
           {
            "colorbar": {
             "outlinewidth": 0,
             "ticks": ""
            },
            "type": "contourcarpet"
           }
          ],
          "heatmap": [
           {
            "colorbar": {
             "outlinewidth": 0,
             "ticks": ""
            },
            "colorscale": [
             [
              0,
              "#0d0887"
             ],
             [
              0.1111111111111111,
              "#46039f"
             ],
             [
              0.2222222222222222,
              "#7201a8"
             ],
             [
              0.3333333333333333,
              "#9c179e"
             ],
             [
              0.4444444444444444,
              "#bd3786"
             ],
             [
              0.5555555555555556,
              "#d8576b"
             ],
             [
              0.6666666666666666,
              "#ed7953"
             ],
             [
              0.7777777777777778,
              "#fb9f3a"
             ],
             [
              0.8888888888888888,
              "#fdca26"
             ],
             [
              1,
              "#f0f921"
             ]
            ],
            "type": "heatmap"
           }
          ],
          "heatmapgl": [
           {
            "colorbar": {
             "outlinewidth": 0,
             "ticks": ""
            },
            "colorscale": [
             [
              0,
              "#0d0887"
             ],
             [
              0.1111111111111111,
              "#46039f"
             ],
             [
              0.2222222222222222,
              "#7201a8"
             ],
             [
              0.3333333333333333,
              "#9c179e"
             ],
             [
              0.4444444444444444,
              "#bd3786"
             ],
             [
              0.5555555555555556,
              "#d8576b"
             ],
             [
              0.6666666666666666,
              "#ed7953"
             ],
             [
              0.7777777777777778,
              "#fb9f3a"
             ],
             [
              0.8888888888888888,
              "#fdca26"
             ],
             [
              1,
              "#f0f921"
             ]
            ],
            "type": "heatmapgl"
           }
          ],
          "histogram": [
           {
            "marker": {
             "pattern": {
              "fillmode": "overlay",
              "size": 10,
              "solidity": 0.2
             }
            },
            "type": "histogram"
           }
          ],
          "histogram2d": [
           {
            "colorbar": {
             "outlinewidth": 0,
             "ticks": ""
            },
            "colorscale": [
             [
              0,
              "#0d0887"
             ],
             [
              0.1111111111111111,
              "#46039f"
             ],
             [
              0.2222222222222222,
              "#7201a8"
             ],
             [
              0.3333333333333333,
              "#9c179e"
             ],
             [
              0.4444444444444444,
              "#bd3786"
             ],
             [
              0.5555555555555556,
              "#d8576b"
             ],
             [
              0.6666666666666666,
              "#ed7953"
             ],
             [
              0.7777777777777778,
              "#fb9f3a"
             ],
             [
              0.8888888888888888,
              "#fdca26"
             ],
             [
              1,
              "#f0f921"
             ]
            ],
            "type": "histogram2d"
           }
          ],
          "histogram2dcontour": [
           {
            "colorbar": {
             "outlinewidth": 0,
             "ticks": ""
            },
            "colorscale": [
             [
              0,
              "#0d0887"
             ],
             [
              0.1111111111111111,
              "#46039f"
             ],
             [
              0.2222222222222222,
              "#7201a8"
             ],
             [
              0.3333333333333333,
              "#9c179e"
             ],
             [
              0.4444444444444444,
              "#bd3786"
             ],
             [
              0.5555555555555556,
              "#d8576b"
             ],
             [
              0.6666666666666666,
              "#ed7953"
             ],
             [
              0.7777777777777778,
              "#fb9f3a"
             ],
             [
              0.8888888888888888,
              "#fdca26"
             ],
             [
              1,
              "#f0f921"
             ]
            ],
            "type": "histogram2dcontour"
           }
          ],
          "mesh3d": [
           {
            "colorbar": {
             "outlinewidth": 0,
             "ticks": ""
            },
            "type": "mesh3d"
           }
          ],
          "parcoords": [
           {
            "line": {
             "colorbar": {
              "outlinewidth": 0,
              "ticks": ""
             }
            },
            "type": "parcoords"
           }
          ],
          "pie": [
           {
            "automargin": true,
            "type": "pie"
           }
          ],
          "scatter": [
           {
            "fillpattern": {
             "fillmode": "overlay",
             "size": 10,
             "solidity": 0.2
            },
            "type": "scatter"
           }
          ],
          "scatter3d": [
           {
            "line": {
             "colorbar": {
              "outlinewidth": 0,
              "ticks": ""
             }
            },
            "marker": {
             "colorbar": {
              "outlinewidth": 0,
              "ticks": ""
             }
            },
            "type": "scatter3d"
           }
          ],
          "scattercarpet": [
           {
            "marker": {
             "colorbar": {
              "outlinewidth": 0,
              "ticks": ""
             }
            },
            "type": "scattercarpet"
           }
          ],
          "scattergeo": [
           {
            "marker": {
             "colorbar": {
              "outlinewidth": 0,
              "ticks": ""
             }
            },
            "type": "scattergeo"
           }
          ],
          "scattergl": [
           {
            "marker": {
             "colorbar": {
              "outlinewidth": 0,
              "ticks": ""
             }
            },
            "type": "scattergl"
           }
          ],
          "scattermapbox": [
           {
            "marker": {
             "colorbar": {
              "outlinewidth": 0,
              "ticks": ""
             }
            },
            "type": "scattermapbox"
           }
          ],
          "scatterpolar": [
           {
            "marker": {
             "colorbar": {
              "outlinewidth": 0,
              "ticks": ""
             }
            },
            "type": "scatterpolar"
           }
          ],
          "scatterpolargl": [
           {
            "marker": {
             "colorbar": {
              "outlinewidth": 0,
              "ticks": ""
             }
            },
            "type": "scatterpolargl"
           }
          ],
          "scatterternary": [
           {
            "marker": {
             "colorbar": {
              "outlinewidth": 0,
              "ticks": ""
             }
            },
            "type": "scatterternary"
           }
          ],
          "surface": [
           {
            "colorbar": {
             "outlinewidth": 0,
             "ticks": ""
            },
            "colorscale": [
             [
              0,
              "#0d0887"
             ],
             [
              0.1111111111111111,
              "#46039f"
             ],
             [
              0.2222222222222222,
              "#7201a8"
             ],
             [
              0.3333333333333333,
              "#9c179e"
             ],
             [
              0.4444444444444444,
              "#bd3786"
             ],
             [
              0.5555555555555556,
              "#d8576b"
             ],
             [
              0.6666666666666666,
              "#ed7953"
             ],
             [
              0.7777777777777778,
              "#fb9f3a"
             ],
             [
              0.8888888888888888,
              "#fdca26"
             ],
             [
              1,
              "#f0f921"
             ]
            ],
            "type": "surface"
           }
          ],
          "table": [
           {
            "cells": {
             "fill": {
              "color": "#EBF0F8"
             },
             "line": {
              "color": "white"
             }
            },
            "header": {
             "fill": {
              "color": "#C8D4E3"
             },
             "line": {
              "color": "white"
             }
            },
            "type": "table"
           }
          ]
         },
         "layout": {
          "annotationdefaults": {
           "arrowcolor": "#2a3f5f",
           "arrowhead": 0,
           "arrowwidth": 1
          },
          "autotypenumbers": "strict",
          "coloraxis": {
           "colorbar": {
            "outlinewidth": 0,
            "ticks": ""
           }
          },
          "colorscale": {
           "diverging": [
            [
             0,
             "#8e0152"
            ],
            [
             0.1,
             "#c51b7d"
            ],
            [
             0.2,
             "#de77ae"
            ],
            [
             0.3,
             "#f1b6da"
            ],
            [
             0.4,
             "#fde0ef"
            ],
            [
             0.5,
             "#f7f7f7"
            ],
            [
             0.6,
             "#e6f5d0"
            ],
            [
             0.7,
             "#b8e186"
            ],
            [
             0.8,
             "#7fbc41"
            ],
            [
             0.9,
             "#4d9221"
            ],
            [
             1,
             "#276419"
            ]
           ],
           "sequential": [
            [
             0,
             "#0d0887"
            ],
            [
             0.1111111111111111,
             "#46039f"
            ],
            [
             0.2222222222222222,
             "#7201a8"
            ],
            [
             0.3333333333333333,
             "#9c179e"
            ],
            [
             0.4444444444444444,
             "#bd3786"
            ],
            [
             0.5555555555555556,
             "#d8576b"
            ],
            [
             0.6666666666666666,
             "#ed7953"
            ],
            [
             0.7777777777777778,
             "#fb9f3a"
            ],
            [
             0.8888888888888888,
             "#fdca26"
            ],
            [
             1,
             "#f0f921"
            ]
           ],
           "sequentialminus": [
            [
             0,
             "#0d0887"
            ],
            [
             0.1111111111111111,
             "#46039f"
            ],
            [
             0.2222222222222222,
             "#7201a8"
            ],
            [
             0.3333333333333333,
             "#9c179e"
            ],
            [
             0.4444444444444444,
             "#bd3786"
            ],
            [
             0.5555555555555556,
             "#d8576b"
            ],
            [
             0.6666666666666666,
             "#ed7953"
            ],
            [
             0.7777777777777778,
             "#fb9f3a"
            ],
            [
             0.8888888888888888,
             "#fdca26"
            ],
            [
             1,
             "#f0f921"
            ]
           ]
          },
          "colorway": [
           "#636efa",
           "#EF553B",
           "#00cc96",
           "#ab63fa",
           "#FFA15A",
           "#19d3f3",
           "#FF6692",
           "#B6E880",
           "#FF97FF",
           "#FECB52"
          ],
          "font": {
           "color": "#2a3f5f"
          },
          "geo": {
           "bgcolor": "white",
           "lakecolor": "white",
           "landcolor": "#E5ECF6",
           "showlakes": true,
           "showland": true,
           "subunitcolor": "white"
          },
          "hoverlabel": {
           "align": "left"
          },
          "hovermode": "closest",
          "mapbox": {
           "style": "light"
          },
          "paper_bgcolor": "white",
          "plot_bgcolor": "#E5ECF6",
          "polar": {
           "angularaxis": {
            "gridcolor": "white",
            "linecolor": "white",
            "ticks": ""
           },
           "bgcolor": "#E5ECF6",
           "radialaxis": {
            "gridcolor": "white",
            "linecolor": "white",
            "ticks": ""
           }
          },
          "scene": {
           "xaxis": {
            "backgroundcolor": "#E5ECF6",
            "gridcolor": "white",
            "gridwidth": 2,
            "linecolor": "white",
            "showbackground": true,
            "ticks": "",
            "zerolinecolor": "white"
           },
           "yaxis": {
            "backgroundcolor": "#E5ECF6",
            "gridcolor": "white",
            "gridwidth": 2,
            "linecolor": "white",
            "showbackground": true,
            "ticks": "",
            "zerolinecolor": "white"
           },
           "zaxis": {
            "backgroundcolor": "#E5ECF6",
            "gridcolor": "white",
            "gridwidth": 2,
            "linecolor": "white",
            "showbackground": true,
            "ticks": "",
            "zerolinecolor": "white"
           }
          },
          "shapedefaults": {
           "line": {
            "color": "#2a3f5f"
           }
          },
          "ternary": {
           "aaxis": {
            "gridcolor": "white",
            "linecolor": "white",
            "ticks": ""
           },
           "baxis": {
            "gridcolor": "white",
            "linecolor": "white",
            "ticks": ""
           },
           "bgcolor": "#E5ECF6",
           "caxis": {
            "gridcolor": "white",
            "linecolor": "white",
            "ticks": ""
           }
          },
          "title": {
           "x": 0.05
          },
          "xaxis": {
           "automargin": true,
           "gridcolor": "white",
           "linecolor": "white",
           "ticks": "",
           "title": {
            "standoff": 15
           },
           "zerolinecolor": "white",
           "zerolinewidth": 2
          },
          "yaxis": {
           "automargin": true,
           "gridcolor": "white",
           "linecolor": "white",
           "ticks": "",
           "title": {
            "standoff": 15
           },
           "zerolinecolor": "white",
           "zerolinewidth": 2
          }
         }
        },
        "xaxis": {
         "anchor": "y",
         "domain": [
          0,
          1
         ],
         "title": {
          "text": "index"
         }
        },
        "yaxis": {
         "anchor": "x",
         "domain": [
          0,
          1
         ],
         "title": {
          "text": "Quantidade Vendida"
         }
        }
       }
      }
     },
     "metadata": {},
     "output_type": "display_data"
    },
    {
     "data": {
      "text/html": [
       "<div>\n",
       "<style scoped>\n",
       "    .dataframe tbody tr th:only-of-type {\n",
       "        vertical-align: middle;\n",
       "    }\n",
       "\n",
       "    .dataframe tbody tr th {\n",
       "        vertical-align: top;\n",
       "    }\n",
       "\n",
       "    .dataframe thead th {\n",
       "        text-align: right;\n",
       "    }\n",
       "</style>\n",
       "<table border=\"1\" class=\"dataframe\">\n",
       "  <thead>\n",
       "    <tr style=\"text-align: right;\">\n",
       "      <th></th>\n",
       "      <th>Produto</th>\n",
       "      <th>Quantidade Vendida</th>\n",
       "    </tr>\n",
       "  </thead>\n",
       "  <tbody>\n",
       "    <tr>\n",
       "      <th>0</th>\n",
       "      <td>iPhone</td>\n",
       "      <td>8974</td>\n",
       "    </tr>\n",
       "    <tr>\n",
       "      <th>1</th>\n",
       "      <td>Televisão</td>\n",
       "      <td>5931</td>\n",
       "    </tr>\n",
       "    <tr>\n",
       "      <th>2</th>\n",
       "      <td>Notebook</td>\n",
       "      <td>3249</td>\n",
       "    </tr>\n",
       "    <tr>\n",
       "      <th>3</th>\n",
       "      <td>Android</td>\n",
       "      <td>3183</td>\n",
       "    </tr>\n",
       "    <tr>\n",
       "      <th>4</th>\n",
       "      <td>SmartWatch</td>\n",
       "      <td>2980</td>\n",
       "    </tr>\n",
       "    <tr>\n",
       "      <th>5</th>\n",
       "      <td>Tablet</td>\n",
       "      <td>2921</td>\n",
       "    </tr>\n",
       "    <tr>\n",
       "      <th>6</th>\n",
       "      <td>Câmera</td>\n",
       "      <td>2805</td>\n",
       "    </tr>\n",
       "  </tbody>\n",
       "</table>\n",
       "</div>"
      ],
      "text/plain": [
       "      Produto  Quantidade Vendida\n",
       "0      iPhone                8974\n",
       "1   Televisão                5931\n",
       "2    Notebook                3249\n",
       "3     Android                3183\n",
       "4  SmartWatch                2980\n",
       "5      Tablet                2921\n",
       "6      Câmera                2805"
      ]
     },
     "execution_count": 15,
     "metadata": {},
     "output_type": "execute_result"
    }
   ],
   "source": [
    "# Produtos mais vendidos:\n",
    "\n",
    "Produtos_mais_vendidos=dados_combinados_vendas.groupby('Produto').sum()\n",
    "Produtos_mais_vendidos=Produtos_mais_vendidos[['Quantidade Vendida']].sort_values(by='Quantidade Vendida', ascending=False).reset_index()\n",
    "\n",
    "fig1 = px.bar(Produtos_mais_vendidos, x=Produtos_mais_vendidos.index, y='Quantidade Vendida',\n",
    "              hover_data=['Quantidade Vendida', Produtos_mais_vendidos.index], color='Quantidade Vendida',\n",
    "              labels={'Quantidade Vendida':'Quantidade Vendida'}, height=400)\n",
    "fig1.show()\n",
    "\n",
    "Produtos_mais_vendidos\n"
   ]
  },
  {
   "cell_type": "code",
   "execution_count": 6,
   "metadata": {},
   "outputs": [
    {
     "data": {
      "application/vnd.plotly.v1+json": {
       "config": {
        "plotlyServerURL": "https://plot.ly"
       },
       "data": [
        {
         "alignmentgroup": "True",
         "hovertemplate": "index=%{x}<br>Quantidade Vendida=%{marker.color}<extra></extra>",
         "legendgroup": "",
         "marker": {
          "color": [
           6674,
           4393,
           4320,
           4027,
           2242,
           2208,
           2151,
           2103,
           1925
          ],
          "coloraxis": "coloraxis",
          "pattern": {
           "shape": ""
          }
         },
         "name": "",
         "offsetgroup": "",
         "orientation": "v",
         "showlegend": false,
         "textposition": "auto",
         "type": "bar",
         "x": [
          0,
          1,
          2,
          3,
          4,
          5,
          6,
          7,
          8
         ],
         "xaxis": "x",
         "y": [
          6674,
          4393,
          4320,
          4027,
          2242,
          2208,
          2151,
          2103,
          1925
         ],
         "yaxis": "y"
        }
       ],
       "layout": {
        "barmode": "relative",
        "coloraxis": {
         "colorbar": {
          "title": {
           "text": "Quantidade Vendida"
          }
         },
         "colorscale": [
          [
           0,
           "#0d0887"
          ],
          [
           0.1111111111111111,
           "#46039f"
          ],
          [
           0.2222222222222222,
           "#7201a8"
          ],
          [
           0.3333333333333333,
           "#9c179e"
          ],
          [
           0.4444444444444444,
           "#bd3786"
          ],
          [
           0.5555555555555556,
           "#d8576b"
          ],
          [
           0.6666666666666666,
           "#ed7953"
          ],
          [
           0.7777777777777778,
           "#fb9f3a"
          ],
          [
           0.8888888888888888,
           "#fdca26"
          ],
          [
           1,
           "#f0f921"
          ]
         ]
        },
        "height": 400,
        "legend": {
         "tracegroupgap": 0
        },
        "margin": {
         "t": 60
        },
        "template": {
         "data": {
          "bar": [
           {
            "error_x": {
             "color": "#2a3f5f"
            },
            "error_y": {
             "color": "#2a3f5f"
            },
            "marker": {
             "line": {
              "color": "#E5ECF6",
              "width": 0.5
             },
             "pattern": {
              "fillmode": "overlay",
              "size": 10,
              "solidity": 0.2
             }
            },
            "type": "bar"
           }
          ],
          "barpolar": [
           {
            "marker": {
             "line": {
              "color": "#E5ECF6",
              "width": 0.5
             },
             "pattern": {
              "fillmode": "overlay",
              "size": 10,
              "solidity": 0.2
             }
            },
            "type": "barpolar"
           }
          ],
          "carpet": [
           {
            "aaxis": {
             "endlinecolor": "#2a3f5f",
             "gridcolor": "white",
             "linecolor": "white",
             "minorgridcolor": "white",
             "startlinecolor": "#2a3f5f"
            },
            "baxis": {
             "endlinecolor": "#2a3f5f",
             "gridcolor": "white",
             "linecolor": "white",
             "minorgridcolor": "white",
             "startlinecolor": "#2a3f5f"
            },
            "type": "carpet"
           }
          ],
          "choropleth": [
           {
            "colorbar": {
             "outlinewidth": 0,
             "ticks": ""
            },
            "type": "choropleth"
           }
          ],
          "contour": [
           {
            "colorbar": {
             "outlinewidth": 0,
             "ticks": ""
            },
            "colorscale": [
             [
              0,
              "#0d0887"
             ],
             [
              0.1111111111111111,
              "#46039f"
             ],
             [
              0.2222222222222222,
              "#7201a8"
             ],
             [
              0.3333333333333333,
              "#9c179e"
             ],
             [
              0.4444444444444444,
              "#bd3786"
             ],
             [
              0.5555555555555556,
              "#d8576b"
             ],
             [
              0.6666666666666666,
              "#ed7953"
             ],
             [
              0.7777777777777778,
              "#fb9f3a"
             ],
             [
              0.8888888888888888,
              "#fdca26"
             ],
             [
              1,
              "#f0f921"
             ]
            ],
            "type": "contour"
           }
          ],
          "contourcarpet": [
           {
            "colorbar": {
             "outlinewidth": 0,
             "ticks": ""
            },
            "type": "contourcarpet"
           }
          ],
          "heatmap": [
           {
            "colorbar": {
             "outlinewidth": 0,
             "ticks": ""
            },
            "colorscale": [
             [
              0,
              "#0d0887"
             ],
             [
              0.1111111111111111,
              "#46039f"
             ],
             [
              0.2222222222222222,
              "#7201a8"
             ],
             [
              0.3333333333333333,
              "#9c179e"
             ],
             [
              0.4444444444444444,
              "#bd3786"
             ],
             [
              0.5555555555555556,
              "#d8576b"
             ],
             [
              0.6666666666666666,
              "#ed7953"
             ],
             [
              0.7777777777777778,
              "#fb9f3a"
             ],
             [
              0.8888888888888888,
              "#fdca26"
             ],
             [
              1,
              "#f0f921"
             ]
            ],
            "type": "heatmap"
           }
          ],
          "heatmapgl": [
           {
            "colorbar": {
             "outlinewidth": 0,
             "ticks": ""
            },
            "colorscale": [
             [
              0,
              "#0d0887"
             ],
             [
              0.1111111111111111,
              "#46039f"
             ],
             [
              0.2222222222222222,
              "#7201a8"
             ],
             [
              0.3333333333333333,
              "#9c179e"
             ],
             [
              0.4444444444444444,
              "#bd3786"
             ],
             [
              0.5555555555555556,
              "#d8576b"
             ],
             [
              0.6666666666666666,
              "#ed7953"
             ],
             [
              0.7777777777777778,
              "#fb9f3a"
             ],
             [
              0.8888888888888888,
              "#fdca26"
             ],
             [
              1,
              "#f0f921"
             ]
            ],
            "type": "heatmapgl"
           }
          ],
          "histogram": [
           {
            "marker": {
             "pattern": {
              "fillmode": "overlay",
              "size": 10,
              "solidity": 0.2
             }
            },
            "type": "histogram"
           }
          ],
          "histogram2d": [
           {
            "colorbar": {
             "outlinewidth": 0,
             "ticks": ""
            },
            "colorscale": [
             [
              0,
              "#0d0887"
             ],
             [
              0.1111111111111111,
              "#46039f"
             ],
             [
              0.2222222222222222,
              "#7201a8"
             ],
             [
              0.3333333333333333,
              "#9c179e"
             ],
             [
              0.4444444444444444,
              "#bd3786"
             ],
             [
              0.5555555555555556,
              "#d8576b"
             ],
             [
              0.6666666666666666,
              "#ed7953"
             ],
             [
              0.7777777777777778,
              "#fb9f3a"
             ],
             [
              0.8888888888888888,
              "#fdca26"
             ],
             [
              1,
              "#f0f921"
             ]
            ],
            "type": "histogram2d"
           }
          ],
          "histogram2dcontour": [
           {
            "colorbar": {
             "outlinewidth": 0,
             "ticks": ""
            },
            "colorscale": [
             [
              0,
              "#0d0887"
             ],
             [
              0.1111111111111111,
              "#46039f"
             ],
             [
              0.2222222222222222,
              "#7201a8"
             ],
             [
              0.3333333333333333,
              "#9c179e"
             ],
             [
              0.4444444444444444,
              "#bd3786"
             ],
             [
              0.5555555555555556,
              "#d8576b"
             ],
             [
              0.6666666666666666,
              "#ed7953"
             ],
             [
              0.7777777777777778,
              "#fb9f3a"
             ],
             [
              0.8888888888888888,
              "#fdca26"
             ],
             [
              1,
              "#f0f921"
             ]
            ],
            "type": "histogram2dcontour"
           }
          ],
          "mesh3d": [
           {
            "colorbar": {
             "outlinewidth": 0,
             "ticks": ""
            },
            "type": "mesh3d"
           }
          ],
          "parcoords": [
           {
            "line": {
             "colorbar": {
              "outlinewidth": 0,
              "ticks": ""
             }
            },
            "type": "parcoords"
           }
          ],
          "pie": [
           {
            "automargin": true,
            "type": "pie"
           }
          ],
          "scatter": [
           {
            "fillpattern": {
             "fillmode": "overlay",
             "size": 10,
             "solidity": 0.2
            },
            "type": "scatter"
           }
          ],
          "scatter3d": [
           {
            "line": {
             "colorbar": {
              "outlinewidth": 0,
              "ticks": ""
             }
            },
            "marker": {
             "colorbar": {
              "outlinewidth": 0,
              "ticks": ""
             }
            },
            "type": "scatter3d"
           }
          ],
          "scattercarpet": [
           {
            "marker": {
             "colorbar": {
              "outlinewidth": 0,
              "ticks": ""
             }
            },
            "type": "scattercarpet"
           }
          ],
          "scattergeo": [
           {
            "marker": {
             "colorbar": {
              "outlinewidth": 0,
              "ticks": ""
             }
            },
            "type": "scattergeo"
           }
          ],
          "scattergl": [
           {
            "marker": {
             "colorbar": {
              "outlinewidth": 0,
              "ticks": ""
             }
            },
            "type": "scattergl"
           }
          ],
          "scattermapbox": [
           {
            "marker": {
             "colorbar": {
              "outlinewidth": 0,
              "ticks": ""
             }
            },
            "type": "scattermapbox"
           }
          ],
          "scatterpolar": [
           {
            "marker": {
             "colorbar": {
              "outlinewidth": 0,
              "ticks": ""
             }
            },
            "type": "scatterpolar"
           }
          ],
          "scatterpolargl": [
           {
            "marker": {
             "colorbar": {
              "outlinewidth": 0,
              "ticks": ""
             }
            },
            "type": "scatterpolargl"
           }
          ],
          "scatterternary": [
           {
            "marker": {
             "colorbar": {
              "outlinewidth": 0,
              "ticks": ""
             }
            },
            "type": "scatterternary"
           }
          ],
          "surface": [
           {
            "colorbar": {
             "outlinewidth": 0,
             "ticks": ""
            },
            "colorscale": [
             [
              0,
              "#0d0887"
             ],
             [
              0.1111111111111111,
              "#46039f"
             ],
             [
              0.2222222222222222,
              "#7201a8"
             ],
             [
              0.3333333333333333,
              "#9c179e"
             ],
             [
              0.4444444444444444,
              "#bd3786"
             ],
             [
              0.5555555555555556,
              "#d8576b"
             ],
             [
              0.6666666666666666,
              "#ed7953"
             ],
             [
              0.7777777777777778,
              "#fb9f3a"
             ],
             [
              0.8888888888888888,
              "#fdca26"
             ],
             [
              1,
              "#f0f921"
             ]
            ],
            "type": "surface"
           }
          ],
          "table": [
           {
            "cells": {
             "fill": {
              "color": "#EBF0F8"
             },
             "line": {
              "color": "white"
             }
            },
            "header": {
             "fill": {
              "color": "#C8D4E3"
             },
             "line": {
              "color": "white"
             }
            },
            "type": "table"
           }
          ]
         },
         "layout": {
          "annotationdefaults": {
           "arrowcolor": "#2a3f5f",
           "arrowhead": 0,
           "arrowwidth": 1
          },
          "autotypenumbers": "strict",
          "coloraxis": {
           "colorbar": {
            "outlinewidth": 0,
            "ticks": ""
           }
          },
          "colorscale": {
           "diverging": [
            [
             0,
             "#8e0152"
            ],
            [
             0.1,
             "#c51b7d"
            ],
            [
             0.2,
             "#de77ae"
            ],
            [
             0.3,
             "#f1b6da"
            ],
            [
             0.4,
             "#fde0ef"
            ],
            [
             0.5,
             "#f7f7f7"
            ],
            [
             0.6,
             "#e6f5d0"
            ],
            [
             0.7,
             "#b8e186"
            ],
            [
             0.8,
             "#7fbc41"
            ],
            [
             0.9,
             "#4d9221"
            ],
            [
             1,
             "#276419"
            ]
           ],
           "sequential": [
            [
             0,
             "#0d0887"
            ],
            [
             0.1111111111111111,
             "#46039f"
            ],
            [
             0.2222222222222222,
             "#7201a8"
            ],
            [
             0.3333333333333333,
             "#9c179e"
            ],
            [
             0.4444444444444444,
             "#bd3786"
            ],
            [
             0.5555555555555556,
             "#d8576b"
            ],
            [
             0.6666666666666666,
             "#ed7953"
            ],
            [
             0.7777777777777778,
             "#fb9f3a"
            ],
            [
             0.8888888888888888,
             "#fdca26"
            ],
            [
             1,
             "#f0f921"
            ]
           ],
           "sequentialminus": [
            [
             0,
             "#0d0887"
            ],
            [
             0.1111111111111111,
             "#46039f"
            ],
            [
             0.2222222222222222,
             "#7201a8"
            ],
            [
             0.3333333333333333,
             "#9c179e"
            ],
            [
             0.4444444444444444,
             "#bd3786"
            ],
            [
             0.5555555555555556,
             "#d8576b"
            ],
            [
             0.6666666666666666,
             "#ed7953"
            ],
            [
             0.7777777777777778,
             "#fb9f3a"
            ],
            [
             0.8888888888888888,
             "#fdca26"
            ],
            [
             1,
             "#f0f921"
            ]
           ]
          },
          "colorway": [
           "#636efa",
           "#EF553B",
           "#00cc96",
           "#ab63fa",
           "#FFA15A",
           "#19d3f3",
           "#FF6692",
           "#B6E880",
           "#FF97FF",
           "#FECB52"
          ],
          "font": {
           "color": "#2a3f5f"
          },
          "geo": {
           "bgcolor": "white",
           "lakecolor": "white",
           "landcolor": "#E5ECF6",
           "showlakes": true,
           "showland": true,
           "subunitcolor": "white"
          },
          "hoverlabel": {
           "align": "left"
          },
          "hovermode": "closest",
          "mapbox": {
           "style": "light"
          },
          "paper_bgcolor": "white",
          "plot_bgcolor": "#E5ECF6",
          "polar": {
           "angularaxis": {
            "gridcolor": "white",
            "linecolor": "white",
            "ticks": ""
           },
           "bgcolor": "#E5ECF6",
           "radialaxis": {
            "gridcolor": "white",
            "linecolor": "white",
            "ticks": ""
           }
          },
          "scene": {
           "xaxis": {
            "backgroundcolor": "#E5ECF6",
            "gridcolor": "white",
            "gridwidth": 2,
            "linecolor": "white",
            "showbackground": true,
            "ticks": "",
            "zerolinecolor": "white"
           },
           "yaxis": {
            "backgroundcolor": "#E5ECF6",
            "gridcolor": "white",
            "gridwidth": 2,
            "linecolor": "white",
            "showbackground": true,
            "ticks": "",
            "zerolinecolor": "white"
           },
           "zaxis": {
            "backgroundcolor": "#E5ECF6",
            "gridcolor": "white",
            "gridwidth": 2,
            "linecolor": "white",
            "showbackground": true,
            "ticks": "",
            "zerolinecolor": "white"
           }
          },
          "shapedefaults": {
           "line": {
            "color": "#2a3f5f"
           }
          },
          "ternary": {
           "aaxis": {
            "gridcolor": "white",
            "linecolor": "white",
            "ticks": ""
           },
           "baxis": {
            "gridcolor": "white",
            "linecolor": "white",
            "ticks": ""
           },
           "bgcolor": "#E5ECF6",
           "caxis": {
            "gridcolor": "white",
            "linecolor": "white",
            "ticks": ""
           }
          },
          "title": {
           "x": 0.05
          },
          "xaxis": {
           "automargin": true,
           "gridcolor": "white",
           "linecolor": "white",
           "ticks": "",
           "title": {
            "standoff": 15
           },
           "zerolinecolor": "white",
           "zerolinewidth": 2
          },
          "yaxis": {
           "automargin": true,
           "gridcolor": "white",
           "linecolor": "white",
           "ticks": "",
           "title": {
            "standoff": 15
           },
           "zerolinecolor": "white",
           "zerolinewidth": 2
          }
         }
        },
        "xaxis": {
         "anchor": "y",
         "domain": [
          0,
          1
         ],
         "title": {
          "text": "index"
         }
        },
        "yaxis": {
         "anchor": "x",
         "domain": [
          0,
          1
         ],
         "title": {
          "text": "Quantidade Vendida"
         }
        }
       }
      }
     },
     "metadata": {},
     "output_type": "display_data"
    },
    {
     "data": {
      "text/html": [
       "<div>\n",
       "<style scoped>\n",
       "    .dataframe tbody tr th:only-of-type {\n",
       "        vertical-align: middle;\n",
       "    }\n",
       "\n",
       "    .dataframe tbody tr th {\n",
       "        vertical-align: top;\n",
       "    }\n",
       "\n",
       "    .dataframe thead th {\n",
       "        text-align: right;\n",
       "    }\n",
       "</style>\n",
       "<table border=\"1\" class=\"dataframe\">\n",
       "  <thead>\n",
       "    <tr style=\"text-align: right;\">\n",
       "      <th></th>\n",
       "      <th>Loja</th>\n",
       "      <th>Quantidade Vendida</th>\n",
       "    </tr>\n",
       "  </thead>\n",
       "  <tbody>\n",
       "    <tr>\n",
       "      <th>0</th>\n",
       "      <td>São Paulo</td>\n",
       "      <td>6674</td>\n",
       "    </tr>\n",
       "    <tr>\n",
       "      <th>1</th>\n",
       "      <td>Rio de Janeiro</td>\n",
       "      <td>4393</td>\n",
       "    </tr>\n",
       "    <tr>\n",
       "      <th>2</th>\n",
       "      <td>Fortaleza</td>\n",
       "      <td>4320</td>\n",
       "    </tr>\n",
       "    <tr>\n",
       "      <th>3</th>\n",
       "      <td>Salvador</td>\n",
       "      <td>4027</td>\n",
       "    </tr>\n",
       "    <tr>\n",
       "      <th>4</th>\n",
       "      <td>Goiás</td>\n",
       "      <td>2242</td>\n",
       "    </tr>\n",
       "    <tr>\n",
       "      <th>5</th>\n",
       "      <td>Recife</td>\n",
       "      <td>2208</td>\n",
       "    </tr>\n",
       "    <tr>\n",
       "      <th>6</th>\n",
       "      <td>Curitiba</td>\n",
       "      <td>2151</td>\n",
       "    </tr>\n",
       "    <tr>\n",
       "      <th>7</th>\n",
       "      <td>Porto Alegre</td>\n",
       "      <td>2103</td>\n",
       "    </tr>\n",
       "    <tr>\n",
       "      <th>8</th>\n",
       "      <td>Belo Horizonte</td>\n",
       "      <td>1925</td>\n",
       "    </tr>\n",
       "  </tbody>\n",
       "</table>\n",
       "</div>"
      ],
      "text/plain": [
       "             Loja  Quantidade Vendida\n",
       "0       São Paulo                6674\n",
       "1  Rio de Janeiro                4393\n",
       "2       Fortaleza                4320\n",
       "3        Salvador                4027\n",
       "4           Goiás                2242\n",
       "5          Recife                2208\n",
       "6        Curitiba                2151\n",
       "7    Porto Alegre                2103\n",
       "8  Belo Horizonte                1925"
      ]
     },
     "execution_count": 6,
     "metadata": {},
     "output_type": "execute_result"
    }
   ],
   "source": [
    "# Loja que mais vendeu (Em quantidade de produtos):\n",
    "\n",
    "Loja_Mais_Produtiva = dados_combinados_vendas.groupby('Loja').sum()\n",
    "Loja_Mais_Produtiva=Loja_Mais_Produtiva[['Quantidade Vendida']].sort_values(by='Quantidade Vendida', ascending=False).reset_index()\n",
    "\n",
    "fig2 = px.bar(Loja_Mais_Produtiva, x=Loja_Mais_Produtiva.index, y='Quantidade Vendida',\n",
    "             hover_data=['Quantidade Vendida', Loja_Mais_Produtiva.index], color='Quantidade Vendida',\n",
    "             labels={'Quantidade Vendida':'Quantidade Vendida'}, height=400)\n",
    "fig2.show()\n",
    "\n",
    "Loja_Mais_Produtiva"
   ]
  },
  {
   "cell_type": "code",
   "execution_count": 7,
   "metadata": {},
   "outputs": [
    {
     "data": {
      "application/vnd.plotly.v1+json": {
       "config": {
        "plotlyServerURL": "https://plot.ly"
       },
       "data": [
        {
         "alignmentgroup": "True",
         "hovertemplate": "Preco Unitario=%{y}<br>Loja=%{x}<extra></extra>",
         "legendgroup": "R$ 7340600.00",
         "marker": {
          "color": "#636efa",
          "pattern": {
           "shape": ""
          }
         },
         "name": "R$ 7340600.00",
         "offsetgroup": "R$ 7340600.00",
         "orientation": "v",
         "showlegend": true,
         "textposition": "auto",
         "type": "bar",
         "x": [
          "São Paulo"
         ],
         "xaxis": "x",
         "y": [
          "R$ 7340600.00"
         ],
         "yaxis": "y"
        },
        {
         "alignmentgroup": "True",
         "hovertemplate": "Preco Unitario=%{y}<br>Loja=%{x}<extra></extra>",
         "legendgroup": "R$ 4970300.00",
         "marker": {
          "color": "#EF553B",
          "pattern": {
           "shape": ""
          }
         },
         "name": "R$ 4970300.00",
         "offsetgroup": "R$ 4970300.00",
         "orientation": "v",
         "showlegend": true,
         "textposition": "auto",
         "type": "bar",
         "x": [
          "Rio de Janeiro"
         ],
         "xaxis": "x",
         "y": [
          "R$ 4970300.00"
         ],
         "yaxis": "y"
        },
        {
         "alignmentgroup": "True",
         "hovertemplate": "Preco Unitario=%{y}<br>Loja=%{x}<extra></extra>",
         "legendgroup": "R$ 4719600.00",
         "marker": {
          "color": "#00cc96",
          "pattern": {
           "shape": ""
          }
         },
         "name": "R$ 4719600.00",
         "offsetgroup": "R$ 4719600.00",
         "orientation": "v",
         "showlegend": true,
         "textposition": "auto",
         "type": "bar",
         "x": [
          "Fortaleza"
         ],
         "xaxis": "x",
         "y": [
          "R$ 4719600.00"
         ],
         "yaxis": "y"
        },
        {
         "alignmentgroup": "True",
         "hovertemplate": "Preco Unitario=%{y}<br>Loja=%{x}<extra></extra>",
         "legendgroup": "R$ 4345900.00",
         "marker": {
          "color": "#ab63fa",
          "pattern": {
           "shape": ""
          }
         },
         "name": "R$ 4345900.00",
         "offsetgroup": "R$ 4345900.00",
         "orientation": "v",
         "showlegend": true,
         "textposition": "auto",
         "type": "bar",
         "x": [
          "Salvador"
         ],
         "xaxis": "x",
         "y": [
          "R$ 4345900.00"
         ],
         "yaxis": "y"
        },
        {
         "alignmentgroup": "True",
         "hovertemplate": "Preco Unitario=%{y}<br>Loja=%{x}<extra></extra>",
         "legendgroup": "R$ 2421700.00",
         "marker": {
          "color": "#FFA15A",
          "pattern": {
           "shape": ""
          }
         },
         "name": "R$ 2421700.00",
         "offsetgroup": "R$ 2421700.00",
         "orientation": "v",
         "showlegend": true,
         "textposition": "auto",
         "type": "bar",
         "x": [
          "Goiás"
         ],
         "xaxis": "x",
         "y": [
          "R$ 2421700.00"
         ],
         "yaxis": "y"
        },
        {
         "alignmentgroup": "True",
         "hovertemplate": "Preco Unitario=%{y}<br>Loja=%{x}<extra></extra>",
         "legendgroup": "R$ 2410500.00",
         "marker": {
          "color": "#19d3f3",
          "pattern": {
           "shape": ""
          }
         },
         "name": "R$ 2410500.00",
         "offsetgroup": "R$ 2410500.00",
         "orientation": "v",
         "showlegend": true,
         "textposition": "auto",
         "type": "bar",
         "x": [
          "Recife"
         ],
         "xaxis": "x",
         "y": [
          "R$ 2410500.00"
         ],
         "yaxis": "y"
        },
        {
         "alignmentgroup": "True",
         "hovertemplate": "Preco Unitario=%{y}<br>Loja=%{x}<extra></extra>",
         "legendgroup": "R$ 2337200.00",
         "marker": {
          "color": "#FF6692",
          "pattern": {
           "shape": ""
          }
         },
         "name": "R$ 2337200.00",
         "offsetgroup": "R$ 2337200.00",
         "orientation": "v",
         "showlegend": true,
         "textposition": "auto",
         "type": "bar",
         "x": [
          "Curitiba"
         ],
         "xaxis": "x",
         "y": [
          "R$ 2337200.00"
         ],
         "yaxis": "y"
        },
        {
         "alignmentgroup": "True",
         "hovertemplate": "Preco Unitario=%{y}<br>Loja=%{x}<extra></extra>",
         "legendgroup": "R$ 2305300.00",
         "marker": {
          "color": "#B6E880",
          "pattern": {
           "shape": ""
          }
         },
         "name": "R$ 2305300.00",
         "offsetgroup": "R$ 2305300.00",
         "orientation": "v",
         "showlegend": true,
         "textposition": "auto",
         "type": "bar",
         "x": [
          "Porto Alegre"
         ],
         "xaxis": "x",
         "y": [
          "R$ 2305300.00"
         ],
         "yaxis": "y"
        },
        {
         "alignmentgroup": "True",
         "hovertemplate": "Preco Unitario=%{y}<br>Loja=%{x}<extra></extra>",
         "legendgroup": "R$ 2150200.00",
         "marker": {
          "color": "#FF97FF",
          "pattern": {
           "shape": ""
          }
         },
         "name": "R$ 2150200.00",
         "offsetgroup": "R$ 2150200.00",
         "orientation": "v",
         "showlegend": true,
         "textposition": "auto",
         "type": "bar",
         "x": [
          "Belo Horizonte"
         ],
         "xaxis": "x",
         "y": [
          "R$ 2150200.00"
         ],
         "yaxis": "y"
        }
       ],
       "layout": {
        "barmode": "relative",
        "height": 400,
        "legend": {
         "title": {
          "text": "Preco Unitario"
         },
         "tracegroupgap": 0
        },
        "margin": {
         "t": 60
        },
        "template": {
         "data": {
          "bar": [
           {
            "error_x": {
             "color": "#2a3f5f"
            },
            "error_y": {
             "color": "#2a3f5f"
            },
            "marker": {
             "line": {
              "color": "#E5ECF6",
              "width": 0.5
             },
             "pattern": {
              "fillmode": "overlay",
              "size": 10,
              "solidity": 0.2
             }
            },
            "type": "bar"
           }
          ],
          "barpolar": [
           {
            "marker": {
             "line": {
              "color": "#E5ECF6",
              "width": 0.5
             },
             "pattern": {
              "fillmode": "overlay",
              "size": 10,
              "solidity": 0.2
             }
            },
            "type": "barpolar"
           }
          ],
          "carpet": [
           {
            "aaxis": {
             "endlinecolor": "#2a3f5f",
             "gridcolor": "white",
             "linecolor": "white",
             "minorgridcolor": "white",
             "startlinecolor": "#2a3f5f"
            },
            "baxis": {
             "endlinecolor": "#2a3f5f",
             "gridcolor": "white",
             "linecolor": "white",
             "minorgridcolor": "white",
             "startlinecolor": "#2a3f5f"
            },
            "type": "carpet"
           }
          ],
          "choropleth": [
           {
            "colorbar": {
             "outlinewidth": 0,
             "ticks": ""
            },
            "type": "choropleth"
           }
          ],
          "contour": [
           {
            "colorbar": {
             "outlinewidth": 0,
             "ticks": ""
            },
            "colorscale": [
             [
              0,
              "#0d0887"
             ],
             [
              0.1111111111111111,
              "#46039f"
             ],
             [
              0.2222222222222222,
              "#7201a8"
             ],
             [
              0.3333333333333333,
              "#9c179e"
             ],
             [
              0.4444444444444444,
              "#bd3786"
             ],
             [
              0.5555555555555556,
              "#d8576b"
             ],
             [
              0.6666666666666666,
              "#ed7953"
             ],
             [
              0.7777777777777778,
              "#fb9f3a"
             ],
             [
              0.8888888888888888,
              "#fdca26"
             ],
             [
              1,
              "#f0f921"
             ]
            ],
            "type": "contour"
           }
          ],
          "contourcarpet": [
           {
            "colorbar": {
             "outlinewidth": 0,
             "ticks": ""
            },
            "type": "contourcarpet"
           }
          ],
          "heatmap": [
           {
            "colorbar": {
             "outlinewidth": 0,
             "ticks": ""
            },
            "colorscale": [
             [
              0,
              "#0d0887"
             ],
             [
              0.1111111111111111,
              "#46039f"
             ],
             [
              0.2222222222222222,
              "#7201a8"
             ],
             [
              0.3333333333333333,
              "#9c179e"
             ],
             [
              0.4444444444444444,
              "#bd3786"
             ],
             [
              0.5555555555555556,
              "#d8576b"
             ],
             [
              0.6666666666666666,
              "#ed7953"
             ],
             [
              0.7777777777777778,
              "#fb9f3a"
             ],
             [
              0.8888888888888888,
              "#fdca26"
             ],
             [
              1,
              "#f0f921"
             ]
            ],
            "type": "heatmap"
           }
          ],
          "heatmapgl": [
           {
            "colorbar": {
             "outlinewidth": 0,
             "ticks": ""
            },
            "colorscale": [
             [
              0,
              "#0d0887"
             ],
             [
              0.1111111111111111,
              "#46039f"
             ],
             [
              0.2222222222222222,
              "#7201a8"
             ],
             [
              0.3333333333333333,
              "#9c179e"
             ],
             [
              0.4444444444444444,
              "#bd3786"
             ],
             [
              0.5555555555555556,
              "#d8576b"
             ],
             [
              0.6666666666666666,
              "#ed7953"
             ],
             [
              0.7777777777777778,
              "#fb9f3a"
             ],
             [
              0.8888888888888888,
              "#fdca26"
             ],
             [
              1,
              "#f0f921"
             ]
            ],
            "type": "heatmapgl"
           }
          ],
          "histogram": [
           {
            "marker": {
             "pattern": {
              "fillmode": "overlay",
              "size": 10,
              "solidity": 0.2
             }
            },
            "type": "histogram"
           }
          ],
          "histogram2d": [
           {
            "colorbar": {
             "outlinewidth": 0,
             "ticks": ""
            },
            "colorscale": [
             [
              0,
              "#0d0887"
             ],
             [
              0.1111111111111111,
              "#46039f"
             ],
             [
              0.2222222222222222,
              "#7201a8"
             ],
             [
              0.3333333333333333,
              "#9c179e"
             ],
             [
              0.4444444444444444,
              "#bd3786"
             ],
             [
              0.5555555555555556,
              "#d8576b"
             ],
             [
              0.6666666666666666,
              "#ed7953"
             ],
             [
              0.7777777777777778,
              "#fb9f3a"
             ],
             [
              0.8888888888888888,
              "#fdca26"
             ],
             [
              1,
              "#f0f921"
             ]
            ],
            "type": "histogram2d"
           }
          ],
          "histogram2dcontour": [
           {
            "colorbar": {
             "outlinewidth": 0,
             "ticks": ""
            },
            "colorscale": [
             [
              0,
              "#0d0887"
             ],
             [
              0.1111111111111111,
              "#46039f"
             ],
             [
              0.2222222222222222,
              "#7201a8"
             ],
             [
              0.3333333333333333,
              "#9c179e"
             ],
             [
              0.4444444444444444,
              "#bd3786"
             ],
             [
              0.5555555555555556,
              "#d8576b"
             ],
             [
              0.6666666666666666,
              "#ed7953"
             ],
             [
              0.7777777777777778,
              "#fb9f3a"
             ],
             [
              0.8888888888888888,
              "#fdca26"
             ],
             [
              1,
              "#f0f921"
             ]
            ],
            "type": "histogram2dcontour"
           }
          ],
          "mesh3d": [
           {
            "colorbar": {
             "outlinewidth": 0,
             "ticks": ""
            },
            "type": "mesh3d"
           }
          ],
          "parcoords": [
           {
            "line": {
             "colorbar": {
              "outlinewidth": 0,
              "ticks": ""
             }
            },
            "type": "parcoords"
           }
          ],
          "pie": [
           {
            "automargin": true,
            "type": "pie"
           }
          ],
          "scatter": [
           {
            "fillpattern": {
             "fillmode": "overlay",
             "size": 10,
             "solidity": 0.2
            },
            "type": "scatter"
           }
          ],
          "scatter3d": [
           {
            "line": {
             "colorbar": {
              "outlinewidth": 0,
              "ticks": ""
             }
            },
            "marker": {
             "colorbar": {
              "outlinewidth": 0,
              "ticks": ""
             }
            },
            "type": "scatter3d"
           }
          ],
          "scattercarpet": [
           {
            "marker": {
             "colorbar": {
              "outlinewidth": 0,
              "ticks": ""
             }
            },
            "type": "scattercarpet"
           }
          ],
          "scattergeo": [
           {
            "marker": {
             "colorbar": {
              "outlinewidth": 0,
              "ticks": ""
             }
            },
            "type": "scattergeo"
           }
          ],
          "scattergl": [
           {
            "marker": {
             "colorbar": {
              "outlinewidth": 0,
              "ticks": ""
             }
            },
            "type": "scattergl"
           }
          ],
          "scattermapbox": [
           {
            "marker": {
             "colorbar": {
              "outlinewidth": 0,
              "ticks": ""
             }
            },
            "type": "scattermapbox"
           }
          ],
          "scatterpolar": [
           {
            "marker": {
             "colorbar": {
              "outlinewidth": 0,
              "ticks": ""
             }
            },
            "type": "scatterpolar"
           }
          ],
          "scatterpolargl": [
           {
            "marker": {
             "colorbar": {
              "outlinewidth": 0,
              "ticks": ""
             }
            },
            "type": "scatterpolargl"
           }
          ],
          "scatterternary": [
           {
            "marker": {
             "colorbar": {
              "outlinewidth": 0,
              "ticks": ""
             }
            },
            "type": "scatterternary"
           }
          ],
          "surface": [
           {
            "colorbar": {
             "outlinewidth": 0,
             "ticks": ""
            },
            "colorscale": [
             [
              0,
              "#0d0887"
             ],
             [
              0.1111111111111111,
              "#46039f"
             ],
             [
              0.2222222222222222,
              "#7201a8"
             ],
             [
              0.3333333333333333,
              "#9c179e"
             ],
             [
              0.4444444444444444,
              "#bd3786"
             ],
             [
              0.5555555555555556,
              "#d8576b"
             ],
             [
              0.6666666666666666,
              "#ed7953"
             ],
             [
              0.7777777777777778,
              "#fb9f3a"
             ],
             [
              0.8888888888888888,
              "#fdca26"
             ],
             [
              1,
              "#f0f921"
             ]
            ],
            "type": "surface"
           }
          ],
          "table": [
           {
            "cells": {
             "fill": {
              "color": "#EBF0F8"
             },
             "line": {
              "color": "white"
             }
            },
            "header": {
             "fill": {
              "color": "#C8D4E3"
             },
             "line": {
              "color": "white"
             }
            },
            "type": "table"
           }
          ]
         },
         "layout": {
          "annotationdefaults": {
           "arrowcolor": "#2a3f5f",
           "arrowhead": 0,
           "arrowwidth": 1
          },
          "autotypenumbers": "strict",
          "coloraxis": {
           "colorbar": {
            "outlinewidth": 0,
            "ticks": ""
           }
          },
          "colorscale": {
           "diverging": [
            [
             0,
             "#8e0152"
            ],
            [
             0.1,
             "#c51b7d"
            ],
            [
             0.2,
             "#de77ae"
            ],
            [
             0.3,
             "#f1b6da"
            ],
            [
             0.4,
             "#fde0ef"
            ],
            [
             0.5,
             "#f7f7f7"
            ],
            [
             0.6,
             "#e6f5d0"
            ],
            [
             0.7,
             "#b8e186"
            ],
            [
             0.8,
             "#7fbc41"
            ],
            [
             0.9,
             "#4d9221"
            ],
            [
             1,
             "#276419"
            ]
           ],
           "sequential": [
            [
             0,
             "#0d0887"
            ],
            [
             0.1111111111111111,
             "#46039f"
            ],
            [
             0.2222222222222222,
             "#7201a8"
            ],
            [
             0.3333333333333333,
             "#9c179e"
            ],
            [
             0.4444444444444444,
             "#bd3786"
            ],
            [
             0.5555555555555556,
             "#d8576b"
            ],
            [
             0.6666666666666666,
             "#ed7953"
            ],
            [
             0.7777777777777778,
             "#fb9f3a"
            ],
            [
             0.8888888888888888,
             "#fdca26"
            ],
            [
             1,
             "#f0f921"
            ]
           ],
           "sequentialminus": [
            [
             0,
             "#0d0887"
            ],
            [
             0.1111111111111111,
             "#46039f"
            ],
            [
             0.2222222222222222,
             "#7201a8"
            ],
            [
             0.3333333333333333,
             "#9c179e"
            ],
            [
             0.4444444444444444,
             "#bd3786"
            ],
            [
             0.5555555555555556,
             "#d8576b"
            ],
            [
             0.6666666666666666,
             "#ed7953"
            ],
            [
             0.7777777777777778,
             "#fb9f3a"
            ],
            [
             0.8888888888888888,
             "#fdca26"
            ],
            [
             1,
             "#f0f921"
            ]
           ]
          },
          "colorway": [
           "#636efa",
           "#EF553B",
           "#00cc96",
           "#ab63fa",
           "#FFA15A",
           "#19d3f3",
           "#FF6692",
           "#B6E880",
           "#FF97FF",
           "#FECB52"
          ],
          "font": {
           "color": "#2a3f5f"
          },
          "geo": {
           "bgcolor": "white",
           "lakecolor": "white",
           "landcolor": "#E5ECF6",
           "showlakes": true,
           "showland": true,
           "subunitcolor": "white"
          },
          "hoverlabel": {
           "align": "left"
          },
          "hovermode": "closest",
          "mapbox": {
           "style": "light"
          },
          "paper_bgcolor": "white",
          "plot_bgcolor": "#E5ECF6",
          "polar": {
           "angularaxis": {
            "gridcolor": "white",
            "linecolor": "white",
            "ticks": ""
           },
           "bgcolor": "#E5ECF6",
           "radialaxis": {
            "gridcolor": "white",
            "linecolor": "white",
            "ticks": ""
           }
          },
          "scene": {
           "xaxis": {
            "backgroundcolor": "#E5ECF6",
            "gridcolor": "white",
            "gridwidth": 2,
            "linecolor": "white",
            "showbackground": true,
            "ticks": "",
            "zerolinecolor": "white"
           },
           "yaxis": {
            "backgroundcolor": "#E5ECF6",
            "gridcolor": "white",
            "gridwidth": 2,
            "linecolor": "white",
            "showbackground": true,
            "ticks": "",
            "zerolinecolor": "white"
           },
           "zaxis": {
            "backgroundcolor": "#E5ECF6",
            "gridcolor": "white",
            "gridwidth": 2,
            "linecolor": "white",
            "showbackground": true,
            "ticks": "",
            "zerolinecolor": "white"
           }
          },
          "shapedefaults": {
           "line": {
            "color": "#2a3f5f"
           }
          },
          "ternary": {
           "aaxis": {
            "gridcolor": "white",
            "linecolor": "white",
            "ticks": ""
           },
           "baxis": {
            "gridcolor": "white",
            "linecolor": "white",
            "ticks": ""
           },
           "bgcolor": "#E5ECF6",
           "caxis": {
            "gridcolor": "white",
            "linecolor": "white",
            "ticks": ""
           }
          },
          "title": {
           "x": 0.05
          },
          "xaxis": {
           "automargin": true,
           "gridcolor": "white",
           "linecolor": "white",
           "ticks": "",
           "title": {
            "standoff": 15
           },
           "zerolinecolor": "white",
           "zerolinewidth": 2
          },
          "yaxis": {
           "automargin": true,
           "gridcolor": "white",
           "linecolor": "white",
           "ticks": "",
           "title": {
            "standoff": 15
           },
           "zerolinecolor": "white",
           "zerolinewidth": 2
          }
         }
        },
        "xaxis": {
         "anchor": "y",
         "domain": [
          0,
          1
         ],
         "title": {
          "text": "Loja"
         }
        },
        "yaxis": {
         "anchor": "x",
         "categoryarray": [
          "R$ 2150200.00",
          "R$ 2305300.00",
          "R$ 2337200.00",
          "R$ 2410500.00",
          "R$ 2421700.00",
          "R$ 4345900.00",
          "R$ 4719600.00",
          "R$ 4970300.00",
          "R$ 7340600.00"
         ],
         "categoryorder": "array",
         "domain": [
          0,
          1
         ],
         "title": {
          "text": "Preco Unitario"
         }
        }
       }
      }
     },
     "metadata": {},
     "output_type": "display_data"
    },
    {
     "data": {
      "text/html": [
       "<div>\n",
       "<style scoped>\n",
       "    .dataframe tbody tr th:only-of-type {\n",
       "        vertical-align: middle;\n",
       "    }\n",
       "\n",
       "    .dataframe tbody tr th {\n",
       "        vertical-align: top;\n",
       "    }\n",
       "\n",
       "    .dataframe thead th {\n",
       "        text-align: right;\n",
       "    }\n",
       "</style>\n",
       "<table border=\"1\" class=\"dataframe\">\n",
       "  <thead>\n",
       "    <tr style=\"text-align: right;\">\n",
       "      <th></th>\n",
       "      <th>Preco Unitario</th>\n",
       "    </tr>\n",
       "    <tr>\n",
       "      <th>Loja</th>\n",
       "      <th></th>\n",
       "    </tr>\n",
       "  </thead>\n",
       "  <tbody>\n",
       "    <tr>\n",
       "      <th>São Paulo</th>\n",
       "      <td>R$ 7340600.00</td>\n",
       "    </tr>\n",
       "    <tr>\n",
       "      <th>Rio de Janeiro</th>\n",
       "      <td>R$ 4970300.00</td>\n",
       "    </tr>\n",
       "    <tr>\n",
       "      <th>Fortaleza</th>\n",
       "      <td>R$ 4719600.00</td>\n",
       "    </tr>\n",
       "    <tr>\n",
       "      <th>Salvador</th>\n",
       "      <td>R$ 4345900.00</td>\n",
       "    </tr>\n",
       "    <tr>\n",
       "      <th>Goiás</th>\n",
       "      <td>R$ 2421700.00</td>\n",
       "    </tr>\n",
       "    <tr>\n",
       "      <th>Recife</th>\n",
       "      <td>R$ 2410500.00</td>\n",
       "    </tr>\n",
       "    <tr>\n",
       "      <th>Curitiba</th>\n",
       "      <td>R$ 2337200.00</td>\n",
       "    </tr>\n",
       "    <tr>\n",
       "      <th>Porto Alegre</th>\n",
       "      <td>R$ 2305300.00</td>\n",
       "    </tr>\n",
       "    <tr>\n",
       "      <th>Belo Horizonte</th>\n",
       "      <td>R$ 2150200.00</td>\n",
       "    </tr>\n",
       "  </tbody>\n",
       "</table>\n",
       "</div>"
      ],
      "text/plain": [
       "               Preco Unitario\n",
       "Loja                         \n",
       "São Paulo       R$ 7340600.00\n",
       "Rio de Janeiro  R$ 4970300.00\n",
       "Fortaleza       R$ 4719600.00\n",
       "Salvador        R$ 4345900.00\n",
       "Goiás           R$ 2421700.00\n",
       "Recife          R$ 2410500.00\n",
       "Curitiba        R$ 2337200.00\n",
       "Porto Alegre    R$ 2305300.00\n",
       "Belo Horizonte  R$ 2150200.00"
      ]
     },
     "execution_count": 7,
     "metadata": {},
     "output_type": "execute_result"
    }
   ],
   "source": [
    "# Loja que mais vendeu (Em valores unitários):\n",
    "\n",
    "Loja_Mais_Vendeu = dados_combinados_vendas.groupby('Loja').sum()\n",
    "Loja_Mais_Vendeu=Loja_Mais_Vendeu[['Preco Unitario']].sort_values(by='Preco Unitario', ascending=False)\n",
    "\n",
    "Loja_Mais_Vendeu['Preco Unitario']=Loja_Mais_Vendeu['Preco Unitario'].map(formata_valor)\n",
    "\n",
    "fig3 = px.bar(Loja_Mais_Vendeu, x=Loja_Mais_Vendeu.index, y='Preco Unitario',\n",
    "              hover_data=[Loja_Mais_Vendeu.index, 'Preco Unitario'], color='Preco Unitario',\n",
    "              labels={'Preco Unitario': 'Preco Unitario'}, height=400)\n",
    "fig3.show()\n",
    "Loja_Mais_Vendeu"
   ]
  },
  {
   "cell_type": "code",
   "execution_count": 8,
   "metadata": {},
   "outputs": [
    {
     "data": {
      "application/vnd.plotly.v1+json": {
       "config": {
        "plotlyServerURL": "https://plot.ly"
       },
       "data": [
        {
         "alignmentgroup": "True",
         "hovertemplate": "Preco Unitario=%{y}<br>Primeiro Nome=%{x}<extra></extra>",
         "legendgroup": "R$ 1077200.00",
         "marker": {
          "color": "#636efa",
          "pattern": {
           "shape": ""
          }
         },
         "name": "R$ 1077200.00",
         "offsetgroup": "R$ 1077200.00",
         "orientation": "v",
         "showlegend": true,
         "textposition": "auto",
         "type": "bar",
         "x": [
          "Lucas"
         ],
         "xaxis": "x",
         "y": [
          "R$ 1077200.00"
         ],
         "yaxis": "y"
        },
        {
         "alignmentgroup": "True",
         "hovertemplate": "Preco Unitario=%{y}<br>Primeiro Nome=%{x}<extra></extra>",
         "legendgroup": "R$ 897100.00",
         "marker": {
          "color": "#EF553B",
          "pattern": {
           "shape": ""
          }
         },
         "name": "R$ 897100.00",
         "offsetgroup": "R$ 897100.00",
         "orientation": "v",
         "showlegend": true,
         "textposition": "auto",
         "type": "bar",
         "x": [
          "João"
         ],
         "xaxis": "x",
         "y": [
          "R$ 897100.00"
         ],
         "yaxis": "y"
        },
        {
         "alignmentgroup": "True",
         "hovertemplate": "Preco Unitario=%{y}<br>Primeiro Nome=%{x}<extra></extra>",
         "legendgroup": "R$ 893500.00",
         "marker": {
          "color": "#00cc96",
          "pattern": {
           "shape": ""
          }
         },
         "name": "R$ 893500.00",
         "offsetgroup": "R$ 893500.00",
         "orientation": "v",
         "showlegend": true,
         "textposition": "auto",
         "type": "bar",
         "x": [
          "Pedro"
         ],
         "xaxis": "x",
         "y": [
          "R$ 893500.00"
         ],
         "yaxis": "y"
        },
        {
         "alignmentgroup": "True",
         "hovertemplate": "Preco Unitario=%{y}<br>Primeiro Nome=%{x}<extra></extra>",
         "legendgroup": "R$ 603600.00",
         "marker": {
          "color": "#ab63fa",
          "pattern": {
           "shape": ""
          }
         },
         "name": "R$ 603600.00",
         "offsetgroup": "R$ 603600.00",
         "orientation": "v",
         "showlegend": true,
         "textposition": "auto",
         "type": "bar",
         "x": [
          "Ana"
         ],
         "xaxis": "x",
         "y": [
          "R$ 603600.00"
         ],
         "yaxis": "y"
        },
        {
         "alignmentgroup": "True",
         "hovertemplate": "Preco Unitario=%{y}<br>Primeiro Nome=%{x}<extra></extra>",
         "legendgroup": "R$ 575900.00",
         "marker": {
          "color": "#FFA15A",
          "pattern": {
           "shape": ""
          }
         },
         "name": "R$ 575900.00",
         "offsetgroup": "R$ 575900.00",
         "orientation": "v",
         "showlegend": true,
         "textposition": "auto",
         "type": "bar",
         "x": [
          "Matheus"
         ],
         "xaxis": "x",
         "y": [
          "R$ 575900.00"
         ],
         "yaxis": "y"
        },
        {
         "alignmentgroup": "True",
         "hovertemplate": "Preco Unitario=%{y}<br>Primeiro Nome=%{x}<extra></extra>",
         "legendgroup": "R$ 573800.00",
         "marker": {
          "color": "#19d3f3",
          "pattern": {
           "shape": ""
          }
         },
         "name": "R$ 573800.00",
         "offsetgroup": "R$ 573800.00",
         "orientation": "v",
         "showlegend": true,
         "textposition": "auto",
         "type": "bar",
         "x": [
          "Gabriel"
         ],
         "xaxis": "x",
         "y": [
          "R$ 573800.00"
         ],
         "yaxis": "y"
        },
        {
         "alignmentgroup": "True",
         "hovertemplate": "Preco Unitario=%{y}<br>Primeiro Nome=%{x}<extra></extra>",
         "legendgroup": "R$ 570800.00",
         "marker": {
          "color": "#FF6692",
          "pattern": {
           "shape": ""
          }
         },
         "name": "R$ 570800.00",
         "offsetgroup": "R$ 570800.00",
         "orientation": "v",
         "showlegend": true,
         "textposition": "auto",
         "type": "bar",
         "x": [
          "Carolina"
         ],
         "xaxis": "x",
         "y": [
          "R$ 570800.00"
         ],
         "yaxis": "y"
        },
        {
         "alignmentgroup": "True",
         "hovertemplate": "Preco Unitario=%{y}<br>Primeiro Nome=%{x}<extra></extra>",
         "legendgroup": "R$ 553400.00",
         "marker": {
          "color": "#B6E880",
          "pattern": {
           "shape": ""
          }
         },
         "name": "R$ 553400.00",
         "offsetgroup": "R$ 553400.00",
         "orientation": "v",
         "showlegend": true,
         "textposition": "auto",
         "type": "bar",
         "x": [
          "Guilherme"
         ],
         "xaxis": "x",
         "y": [
          "R$ 553400.00"
         ],
         "yaxis": "y"
        },
        {
         "alignmentgroup": "True",
         "hovertemplate": "Preco Unitario=%{y}<br>Primeiro Nome=%{x}<extra></extra>",
         "legendgroup": "R$ 536700.00",
         "marker": {
          "color": "#FF97FF",
          "pattern": {
           "shape": ""
          }
         },
         "name": "R$ 536700.00",
         "offsetgroup": "R$ 536700.00",
         "orientation": "v",
         "showlegend": true,
         "textposition": "auto",
         "type": "bar",
         "x": [
          "Victor"
         ],
         "xaxis": "x",
         "y": [
          "R$ 536700.00"
         ],
         "yaxis": "y"
        },
        {
         "alignmentgroup": "True",
         "hovertemplate": "Preco Unitario=%{y}<br>Primeiro Nome=%{x}<extra></extra>",
         "legendgroup": "R$ 482000.00",
         "marker": {
          "color": "#FECB52",
          "pattern": {
           "shape": ""
          }
         },
         "name": "R$ 482000.00",
         "offsetgroup": "R$ 482000.00",
         "orientation": "v",
         "showlegend": true,
         "textposition": "auto",
         "type": "bar",
         "x": [
          "Juliana"
         ],
         "xaxis": "x",
         "y": [
          "R$ 482000.00"
         ],
         "yaxis": "y"
        },
        {
         "alignmentgroup": "True",
         "hovertemplate": "Preco Unitario=%{y}<br>Primeiro Nome=%{x}<extra></extra>",
         "legendgroup": "R$ 475700.00",
         "marker": {
          "color": "#636efa",
          "pattern": {
           "shape": ""
          }
         },
         "name": "R$ 475700.00",
         "offsetgroup": "R$ 475700.00",
         "orientation": "v",
         "showlegend": true,
         "textposition": "auto",
         "type": "bar",
         "x": [
          "Carlos"
         ],
         "xaxis": "x",
         "y": [
          "R$ 475700.00"
         ],
         "yaxis": "y"
        },
        {
         "alignmentgroup": "True",
         "hovertemplate": "Preco Unitario=%{y}<br>Primeiro Nome=%{x}<extra></extra>",
         "legendgroup": "R$ 452400.00",
         "marker": {
          "color": "#EF553B",
          "pattern": {
           "shape": ""
          }
         },
         "name": "R$ 452400.00",
         "offsetgroup": "R$ 452400.00",
         "orientation": "v",
         "showlegend": true,
         "textposition": "auto",
         "type": "bar",
         "x": [
          "Caio"
         ],
         "xaxis": "x",
         "y": [
          "R$ 452400.00"
         ],
         "yaxis": "y"
        },
        {
         "alignmentgroup": "True",
         "hovertemplate": "Preco Unitario=%{y}<br>Primeiro Nome=%{x}<extra></extra>",
         "legendgroup": "R$ 440800.00",
         "marker": {
          "color": "#00cc96",
          "pattern": {
           "shape": ""
          }
         },
         "name": "R$ 440800.00",
         "offsetgroup": "R$ 440800.00",
         "orientation": "v",
         "showlegend": true,
         "textposition": "auto",
         "type": "bar",
         "x": [
          "Eduardo"
         ],
         "xaxis": "x",
         "y": [
          "R$ 440800.00"
         ],
         "yaxis": "y"
        },
        {
         "alignmentgroup": "True",
         "hovertemplate": "Preco Unitario=%{y}<br>Primeiro Nome=%{x}<extra></extra>",
         "legendgroup": "R$ 413400.00",
         "marker": {
          "color": "#ab63fa",
          "pattern": {
           "shape": ""
          }
         },
         "name": "R$ 413400.00",
         "offsetgroup": "R$ 413400.00",
         "orientation": "v",
         "showlegend": true,
         "textposition": "auto",
         "type": "bar",
         "x": [
          "Daniel"
         ],
         "xaxis": "x",
         "y": [
          "R$ 413400.00"
         ],
         "yaxis": "y"
        },
        {
         "alignmentgroup": "True",
         "hovertemplate": "Preco Unitario=%{y}<br>Primeiro Nome=%{x}<extra></extra>",
         "legendgroup": "R$ 410800.00",
         "marker": {
          "color": "#FFA15A",
          "pattern": {
           "shape": ""
          }
         },
         "name": "R$ 410800.00",
         "offsetgroup": "R$ 410800.00",
         "orientation": "v",
         "showlegend": true,
         "textposition": "auto",
         "type": "bar",
         "x": [
          "Marina"
         ],
         "xaxis": "x",
         "y": [
          "R$ 410800.00"
         ],
         "yaxis": "y"
        },
        {
         "alignmentgroup": "True",
         "hovertemplate": "Preco Unitario=%{y}<br>Primeiro Nome=%{x}<extra></extra>",
         "legendgroup": "R$ 405300.00",
         "marker": {
          "color": "#19d3f3",
          "pattern": {
           "shape": ""
          }
         },
         "name": "R$ 405300.00",
         "offsetgroup": "R$ 405300.00",
         "orientation": "v",
         "showlegend": true,
         "textposition": "auto",
         "type": "bar",
         "x": [
          "Bruno"
         ],
         "xaxis": "x",
         "y": [
          "R$ 405300.00"
         ],
         "yaxis": "y"
        },
        {
         "alignmentgroup": "True",
         "hovertemplate": "Preco Unitario=%{y}<br>Primeiro Nome=%{x}<extra></extra>",
         "legendgroup": "R$ 384300.00",
         "marker": {
          "color": "#FF6692",
          "pattern": {
           "shape": ""
          }
         },
         "name": "R$ 384300.00",
         "offsetgroup": "R$ 384300.00",
         "orientation": "v",
         "showlegend": true,
         "textposition": "auto",
         "type": "bar",
         "x": [
          "Bruna"
         ],
         "xaxis": "x",
         "y": [
          "R$ 384300.00"
         ],
         "yaxis": "y"
        },
        {
         "alignmentgroup": "True",
         "hovertemplate": "Preco Unitario=%{y}<br>Primeiro Nome=%{x}<extra></extra>",
         "legendgroup": "R$ 371600.00",
         "marker": {
          "color": "#B6E880",
          "pattern": {
           "shape": ""
          }
         },
         "name": "R$ 371600.00",
         "offsetgroup": "R$ 371600.00",
         "orientation": "v",
         "showlegend": true,
         "textposition": "auto",
         "type": "bar",
         "x": [
          "Maria"
         ],
         "xaxis": "x",
         "y": [
          "R$ 371600.00"
         ],
         "yaxis": "y"
        },
        {
         "alignmentgroup": "True",
         "hovertemplate": "Preco Unitario=%{y}<br>Primeiro Nome=%{x}<extra></extra>",
         "legendgroup": "R$ 368100.00",
         "marker": {
          "color": "#FF97FF",
          "pattern": {
           "shape": ""
          }
         },
         "name": "R$ 368100.00",
         "offsetgroup": "R$ 368100.00",
         "orientation": "v",
         "showlegend": true,
         "textposition": "auto",
         "type": "bar",
         "x": [
          "Beatriz"
         ],
         "xaxis": "x",
         "y": [
          "R$ 368100.00"
         ],
         "yaxis": "y"
        },
        {
         "alignmentgroup": "True",
         "hovertemplate": "Preco Unitario=%{y}<br>Primeiro Nome=%{x}<extra></extra>",
         "legendgroup": "R$ 345800.00",
         "marker": {
          "color": "#FECB52",
          "pattern": {
           "shape": ""
          }
         },
         "name": "R$ 345800.00",
         "offsetgroup": "R$ 345800.00",
         "orientation": "v",
         "showlegend": true,
         "textposition": "auto",
         "type": "bar",
         "x": [
          "Gustavo"
         ],
         "xaxis": "x",
         "y": [
          "R$ 345800.00"
         ],
         "yaxis": "y"
        },
        {
         "alignmentgroup": "True",
         "hovertemplate": "Preco Unitario=%{y}<br>Primeiro Nome=%{x}<extra></extra>",
         "legendgroup": "R$ 344900.00",
         "marker": {
          "color": "#636efa",
          "pattern": {
           "shape": ""
          }
         },
         "name": "R$ 344900.00",
         "offsetgroup": "R$ 344900.00",
         "orientation": "v",
         "showlegend": true,
         "textposition": "auto",
         "type": "bar",
         "x": [
          "Fernanda"
         ],
         "xaxis": "x",
         "y": [
          "R$ 344900.00"
         ],
         "yaxis": "y"
        },
        {
         "alignmentgroup": "True",
         "hovertemplate": "Preco Unitario=%{y}<br>Primeiro Nome=%{x}<extra></extra>",
         "legendgroup": "R$ 326100.00",
         "marker": {
          "color": "#EF553B",
          "pattern": {
           "shape": ""
          }
         },
         "name": "R$ 326100.00",
         "offsetgroup": "R$ 326100.00",
         "orientation": "v",
         "showlegend": true,
         "textposition": "auto",
         "type": "bar",
         "x": [
          "Julia"
         ],
         "xaxis": "x",
         "y": [
          "R$ 326100.00"
         ],
         "yaxis": "y"
        },
        {
         "alignmentgroup": "True",
         "hovertemplate": "Preco Unitario=%{y}<br>Primeiro Nome=%{x}<extra></extra>",
         "legendgroup": "R$ 318400.00",
         "marker": {
          "color": "#00cc96",
          "pattern": {
           "shape": ""
          }
         },
         "name": "R$ 318400.00",
         "offsetgroup": "R$ 318400.00",
         "orientation": "v",
         "showlegend": true,
         "textposition": "auto",
         "type": "bar",
         "x": [
          "Raphael"
         ],
         "xaxis": "x",
         "y": [
          "R$ 318400.00"
         ],
         "yaxis": "y"
        },
        {
         "alignmentgroup": "True",
         "hovertemplate": "Preco Unitario=%{y}<br>Primeiro Nome=%{x}<extra></extra>",
         "legendgroup": "R$ 317900.00",
         "marker": {
          "color": "#ab63fa",
          "pattern": {
           "shape": ""
          }
         },
         "name": "R$ 317900.00",
         "offsetgroup": "R$ 317900.00",
         "orientation": "v",
         "showlegend": true,
         "textposition": "auto",
         "type": "bar",
         "x": [
          "Breno"
         ],
         "xaxis": "x",
         "y": [
          "R$ 317900.00"
         ],
         "yaxis": "y"
        },
        {
         "alignmentgroup": "True",
         "hovertemplate": "Preco Unitario=%{y}<br>Primeiro Nome=%{x}<extra></extra>",
         "legendgroup": "R$ 310200.00",
         "marker": {
          "color": "#FFA15A",
          "pattern": {
           "shape": ""
          }
         },
         "name": "R$ 310200.00",
         "offsetgroup": "R$ 310200.00",
         "orientation": "v",
         "showlegend": true,
         "textposition": "auto",
         "type": "bar",
         "x": [
          "Rodrigo"
         ],
         "xaxis": "x",
         "y": [
          "R$ 310200.00"
         ],
         "yaxis": "y"
        },
        {
         "alignmentgroup": "True",
         "hovertemplate": "Preco Unitario=%{y}<br>Primeiro Nome=%{x}<extra></extra>",
         "legendgroup": "R$ 307600.00",
         "marker": {
          "color": "#19d3f3",
          "pattern": {
           "shape": ""
          }
         },
         "name": "R$ 307600.00",
         "offsetgroup": "R$ 307600.00",
         "orientation": "v",
         "showlegend": true,
         "textposition": "auto",
         "type": "bar",
         "x": [
          "Luiz"
         ],
         "xaxis": "x",
         "y": [
          "R$ 307600.00"
         ],
         "yaxis": "y"
        },
        {
         "alignmentgroup": "True",
         "hovertemplate": "Preco Unitario=%{y}<br>Primeiro Nome=%{x}<extra></extra>",
         "legendgroup": "R$ 301100.00",
         "marker": {
          "color": "#FF6692",
          "pattern": {
           "shape": ""
          }
         },
         "name": "R$ 301100.00",
         "offsetgroup": "R$ 301100.00",
         "orientation": "v",
         "showlegend": true,
         "textposition": "auto",
         "type": "bar",
         "x": [
          "Mariana"
         ],
         "xaxis": "x",
         "y": [
          "R$ 301100.00"
         ],
         "yaxis": "y"
        },
        {
         "alignmentgroup": "True",
         "hovertemplate": "Preco Unitario=%{y}<br>Primeiro Nome=%{x}<extra></extra>",
         "legendgroup": "R$ 298700.00",
         "marker": {
          "color": "#B6E880",
          "pattern": {
           "shape": ""
          }
         },
         "name": "R$ 298700.00",
         "offsetgroup": "R$ 298700.00",
         "orientation": "v",
         "showlegend": true,
         "textposition": "auto",
         "type": "bar",
         "x": [
          "Rafael"
         ],
         "xaxis": "x",
         "y": [
          "R$ 298700.00"
         ],
         "yaxis": "y"
        },
        {
         "alignmentgroup": "True",
         "hovertemplate": "Preco Unitario=%{y}<br>Primeiro Nome=%{x}<extra></extra>",
         "legendgroup": "R$ 279100.00",
         "marker": {
          "color": "#FF97FF",
          "pattern": {
           "shape": ""
          }
         },
         "name": "R$ 279100.00",
         "offsetgroup": "R$ 279100.00",
         "orientation": "v",
         "showlegend": true,
         "textposition": "auto",
         "type": "bar",
         "x": [
          "Luiza"
         ],
         "xaxis": "x",
         "y": [
          "R$ 279100.00"
         ],
         "yaxis": "y"
        },
        {
         "alignmentgroup": "True",
         "hovertemplate": "Preco Unitario=%{y}<br>Primeiro Nome=%{x}<extra></extra>",
         "legendgroup": "R$ 275400.00",
         "marker": {
          "color": "#FECB52",
          "pattern": {
           "shape": ""
          }
         },
         "name": "R$ 275400.00",
         "offsetgroup": "R$ 275400.00",
         "orientation": "v",
         "showlegend": true,
         "textposition": "auto",
         "type": "bar",
         "x": [
          "Renan"
         ],
         "xaxis": "x",
         "y": [
          "R$ 275400.00"
         ],
         "yaxis": "y"
        },
        {
         "alignmentgroup": "True",
         "hovertemplate": "Preco Unitario=%{y}<br>Primeiro Nome=%{x}<extra></extra>",
         "legendgroup": "R$ 256900.00",
         "marker": {
          "color": "#636efa",
          "pattern": {
           "shape": ""
          }
         },
         "name": "R$ 256900.00",
         "offsetgroup": "R$ 256900.00",
         "orientation": "v",
         "showlegend": true,
         "textposition": "auto",
         "type": "bar",
         "x": [
          "Felipe"
         ],
         "xaxis": "x",
         "y": [
          "R$ 256900.00"
         ],
         "yaxis": "y"
        },
        {
         "alignmentgroup": "True",
         "hovertemplate": "Preco Unitario=%{y}<br>Primeiro Nome=%{x}<extra></extra>",
         "legendgroup": "R$ 256800.00",
         "marker": {
          "color": "#EF553B",
          "pattern": {
           "shape": ""
          }
         },
         "name": "R$ 256800.00",
         "offsetgroup": "R$ 256800.00",
         "orientation": "v",
         "showlegend": true,
         "textposition": "auto",
         "type": "bar",
         "x": [
          "Gabrielle"
         ],
         "xaxis": "x",
         "y": [
          "R$ 256800.00"
         ],
         "yaxis": "y"
        },
        {
         "alignmentgroup": "True",
         "hovertemplate": "Preco Unitario=%{y}<br>Primeiro Nome=%{x}<extra></extra>",
         "legendgroup": "R$ 254400.00",
         "marker": {
          "color": "#00cc96",
          "pattern": {
           "shape": ""
          }
         },
         "name": "R$ 254400.00",
         "offsetgroup": "R$ 254400.00",
         "orientation": "v",
         "showlegend": true,
         "textposition": "auto",
         "type": "bar",
         "x": [
          "Amanda"
         ],
         "xaxis": "x",
         "y": [
          "R$ 254400.00"
         ],
         "yaxis": "y"
        },
        {
         "alignmentgroup": "True",
         "hovertemplate": "Preco Unitario=%{y}<br>Primeiro Nome=%{x}<extra></extra>",
         "legendgroup": "R$ 249900.00",
         "marker": {
          "color": "#ab63fa",
          "pattern": {
           "shape": ""
          }
         },
         "name": "R$ 249900.00",
         "offsetgroup": "R$ 249900.00",
         "orientation": "v",
         "showlegend": true,
         "textposition": "auto",
         "type": "bar",
         "x": [
          "Bianca"
         ],
         "xaxis": "x",
         "y": [
          "R$ 249900.00"
         ],
         "yaxis": "y"
        },
        {
         "alignmentgroup": "True",
         "hovertemplate": "Preco Unitario=%{y}<br>Primeiro Nome=%{x}<extra></extra>",
         "legendgroup": "R$ 243200.00",
         "marker": {
          "color": "#FFA15A",
          "pattern": {
           "shape": ""
          }
         },
         "name": "R$ 243200.00",
         "offsetgroup": "R$ 243200.00",
         "orientation": "v",
         "showlegend": true,
         "textposition": "auto",
         "type": "bar",
         "x": [
          "Rafaela"
         ],
         "xaxis": "x",
         "y": [
          "R$ 243200.00"
         ],
         "yaxis": "y"
        },
        {
         "alignmentgroup": "True",
         "hovertemplate": "Preco Unitario=%{y}<br>Primeiro Nome=%{x}<extra></extra>",
         "legendgroup": "R$ 227900.00",
         "marker": {
          "color": "#19d3f3",
          "pattern": {
           "shape": ""
          }
         },
         "name": "R$ 227900.00",
         "offsetgroup": "R$ 227900.00",
         "orientation": "v",
         "showlegend": true,
         "textposition": "auto",
         "type": "bar",
         "x": [
          "Thales"
         ],
         "xaxis": "x",
         "y": [
          "R$ 227900.00"
         ],
         "yaxis": "y"
        },
        {
         "alignmentgroup": "True",
         "hovertemplate": "Preco Unitario=%{y}<br>Primeiro Nome=%{x}<extra></extra>",
         "legendgroup": "R$ 223300.00",
         "marker": {
          "color": "#FF6692",
          "pattern": {
           "shape": ""
          }
         },
         "name": "R$ 223300.00",
         "offsetgroup": "R$ 223300.00",
         "orientation": "v",
         "showlegend": true,
         "textposition": "auto",
         "type": "bar",
         "x": [
          "Priscila"
         ],
         "xaxis": "x",
         "y": [
          "R$ 223300.00"
         ],
         "yaxis": "y"
        },
        {
         "alignmentgroup": "True",
         "hovertemplate": "Preco Unitario=%{y}<br>Primeiro Nome=%{x}<extra></extra>",
         "legendgroup": "R$ 218100.00",
         "marker": {
          "color": "#B6E880",
          "pattern": {
           "shape": ""
          }
         },
         "name": "R$ 218100.00",
         "offsetgroup": "R$ 218100.00",
         "orientation": "v",
         "showlegend": true,
         "textposition": "auto",
         "type": "bar",
         "x": [
          "Luis"
         ],
         "xaxis": "x",
         "y": [
          "R$ 218100.00"
         ],
         "yaxis": "y"
        },
        {
         "alignmentgroup": "True",
         "hovertemplate": "Preco Unitario=%{y}<br>Primeiro Nome=%{x}<extra></extra>",
         "legendgroup": "R$ 218000.00",
         "marker": {
          "color": "#FF97FF",
          "pattern": {
           "shape": ""
          }
         },
         "name": "R$ 218000.00",
         "offsetgroup": "R$ 218000.00",
         "orientation": "v",
         "showlegend": true,
         "textposition": "auto",
         "type": "bar",
         "x": [
          "José"
         ],
         "xaxis": "x",
         "y": [
          "R$ 218000.00"
         ],
         "yaxis": "y"
        },
        {
         "alignmentgroup": "True",
         "hovertemplate": "Preco Unitario=%{y}<br>Primeiro Nome=%{x}<extra></extra>",
         "legendgroup": "R$ 213900.00",
         "marker": {
          "color": "#FECB52",
          "pattern": {
           "shape": ""
          }
         },
         "name": "R$ 213900.00",
         "offsetgroup": "R$ 213900.00",
         "orientation": "v",
         "showlegend": true,
         "textposition": "auto",
         "type": "bar",
         "x": [
          "Arthur"
         ],
         "xaxis": "x",
         "y": [
          "R$ 213900.00"
         ],
         "yaxis": "y"
        },
        {
         "alignmentgroup": "True",
         "hovertemplate": "Preco Unitario=%{y}<br>Primeiro Nome=%{x}<extra></extra>",
         "legendgroup": "R$ 213300.00",
         "marker": {
          "color": "#636efa",
          "pattern": {
           "shape": ""
          }
         },
         "name": "R$ 213300.00",
         "offsetgroup": "R$ 213300.00",
         "orientation": "v",
         "showlegend": true,
         "textposition": "auto",
         "type": "bar",
         "x": [
          "Wilson"
         ],
         "xaxis": "x",
         "y": [
          "R$ 213300.00"
         ],
         "yaxis": "y"
        },
        {
         "alignmentgroup": "True",
         "hovertemplate": "Preco Unitario=%{y}<br>Primeiro Nome=%{x}<extra></extra>",
         "legendgroup": "R$ 208900.00",
         "marker": {
          "color": "#EF553B",
          "pattern": {
           "shape": ""
          }
         },
         "name": "R$ 208900.00",
         "offsetgroup": "R$ 208900.00",
         "orientation": "v",
         "showlegend": true,
         "textposition": "auto",
         "type": "bar",
         "x": [
          "Bernardo"
         ],
         "xaxis": "x",
         "y": [
          "R$ 208900.00"
         ],
         "yaxis": "y"
        },
        {
         "alignmentgroup": "True",
         "hovertemplate": "Preco Unitario=%{y}<br>Primeiro Nome=%{x}<extra></extra>",
         "legendgroup": "R$ 206800.00",
         "marker": {
          "color": "#00cc96",
          "pattern": {
           "shape": ""
          }
         },
         "name": "R$ 206800.00",
         "offsetgroup": "R$ 206800.00",
         "orientation": "v",
         "showlegend": true,
         "textposition": "auto",
         "type": "bar",
         "x": [
          "Thiago"
         ],
         "xaxis": "x",
         "y": [
          "R$ 206800.00"
         ],
         "yaxis": "y"
        },
        {
         "alignmentgroup": "True",
         "hovertemplate": "Preco Unitario=%{y}<br>Primeiro Nome=%{x}<extra></extra>",
         "legendgroup": "R$ 206100.00",
         "marker": {
          "color": "#ab63fa",
          "pattern": {
           "shape": ""
          }
         },
         "name": "R$ 206100.00",
         "offsetgroup": "R$ 206100.00",
         "orientation": "v",
         "showlegend": true,
         "textposition": "auto",
         "type": "bar",
         "x": [
          "Marcelo"
         ],
         "xaxis": "x",
         "y": [
          "R$ 206100.00"
         ],
         "yaxis": "y"
        },
        {
         "alignmentgroup": "True",
         "hovertemplate": "Preco Unitario=%{y}<br>Primeiro Nome=%{x}<extra></extra>",
         "legendgroup": "R$ 204100.00",
         "marker": {
          "color": "#FFA15A",
          "pattern": {
           "shape": ""
          }
         },
         "name": "R$ 204100.00",
         "offsetgroup": "R$ 204100.00",
         "orientation": "v",
         "showlegend": true,
         "textposition": "auto",
         "type": "bar",
         "x": [
          "Diego"
         ],
         "xaxis": "x",
         "y": [
          "R$ 204100.00"
         ],
         "yaxis": "y"
        },
        {
         "alignmentgroup": "True",
         "hovertemplate": "Preco Unitario=%{y}<br>Primeiro Nome=%{x}<extra></extra>",
         "legendgroup": "R$ 200100.00",
         "marker": {
          "color": "#19d3f3",
          "pattern": {
           "shape": ""
          }
         },
         "name": "R$ 200100.00",
         "offsetgroup": "R$ 200100.00",
         "orientation": "v",
         "showlegend": true,
         "textposition": "auto",
         "type": "bar",
         "x": [
          "Larissa"
         ],
         "xaxis": "x",
         "y": [
          "R$ 200100.00"
         ],
         "yaxis": "y"
        },
        {
         "alignmentgroup": "True",
         "hovertemplate": "Preco Unitario=%{y}<br>Primeiro Nome=%{x}<extra></extra>",
         "legendgroup": "R$ 197600.00",
         "marker": {
          "color": "#FF6692",
          "pattern": {
           "shape": ""
          }
         },
         "name": "R$ 197600.00",
         "offsetgroup": "R$ 197600.00",
         "orientation": "v",
         "showlegend": true,
         "textposition": "auto",
         "type": "bar",
         "x": [
          "Paula"
         ],
         "xaxis": "x",
         "y": [
          "R$ 197600.00"
         ],
         "yaxis": "y"
        },
        {
         "alignmentgroup": "True",
         "hovertemplate": "Preco Unitario=%{y}<br>Primeiro Nome=%{x}<extra></extra>",
         "legendgroup": "R$ 187800.00",
         "marker": {
          "color": "#B6E880",
          "pattern": {
           "shape": ""
          }
         },
         "name": "R$ 187800.00",
         "offsetgroup": "R$ 187800.00",
         "orientation": "v",
         "showlegend": true,
         "textposition": "auto",
         "type": "bar",
         "x": [
          "Caroline"
         ],
         "xaxis": "x",
         "y": [
          "R$ 187800.00"
         ],
         "yaxis": "y"
        },
        {
         "alignmentgroup": "True",
         "hovertemplate": "Preco Unitario=%{y}<br>Primeiro Nome=%{x}<extra></extra>",
         "legendgroup": "R$ 187100.00",
         "marker": {
          "color": "#FF97FF",
          "pattern": {
           "shape": ""
          }
         },
         "name": "R$ 187100.00",
         "offsetgroup": "R$ 187100.00",
         "orientation": "v",
         "showlegend": true,
         "textposition": "auto",
         "type": "bar",
         "x": [
          "Henrique"
         ],
         "xaxis": "x",
         "y": [
          "R$ 187100.00"
         ],
         "yaxis": "y"
        },
        {
         "alignmentgroup": "True",
         "hovertemplate": "Preco Unitario=%{y}<br>Primeiro Nome=%{x}<extra></extra>",
         "legendgroup": "R$ 183900.00",
         "marker": {
          "color": "#FECB52",
          "pattern": {
           "shape": ""
          }
         },
         "name": "R$ 183900.00",
         "offsetgroup": "R$ 183900.00",
         "orientation": "v",
         "showlegend": true,
         "textposition": "auto",
         "type": "bar",
         "x": [
          "Anna"
         ],
         "xaxis": "x",
         "y": [
          "R$ 183900.00"
         ],
         "yaxis": "y"
        },
        {
         "alignmentgroup": "True",
         "hovertemplate": "Preco Unitario=%{y}<br>Primeiro Nome=%{x}<extra></extra>",
         "legendgroup": "R$ 175600.00",
         "marker": {
          "color": "#636efa",
          "pattern": {
           "shape": ""
          }
         },
         "name": "R$ 175600.00",
         "offsetgroup": "R$ 175600.00",
         "orientation": "v",
         "showlegend": true,
         "textposition": "auto",
         "type": "bar",
         "x": [
          "Raissa"
         ],
         "xaxis": "x",
         "y": [
          "R$ 175600.00"
         ],
         "yaxis": "y"
        },
        {
         "alignmentgroup": "True",
         "hovertemplate": "Preco Unitario=%{y}<br>Primeiro Nome=%{x}<extra></extra>",
         "legendgroup": "R$ 173100.00",
         "marker": {
          "color": "#EF553B",
          "pattern": {
           "shape": ""
          }
         },
         "name": "R$ 173100.00",
         "offsetgroup": "R$ 173100.00",
         "orientation": "v",
         "showlegend": true,
         "textposition": "auto",
         "type": "bar",
         "x": [
          "Michelle"
         ],
         "xaxis": "x",
         "y": [
          "R$ 173100.00"
         ],
         "yaxis": "y"
        },
        {
         "alignmentgroup": "True",
         "hovertemplate": "Preco Unitario=%{y}<br>Primeiro Nome=%{x}<extra></extra>",
         "legendgroup": "R$ 160800.00",
         "marker": {
          "color": "#00cc96",
          "pattern": {
           "shape": ""
          }
         },
         "name": "R$ 160800.00",
         "offsetgroup": "R$ 160800.00",
         "orientation": "v",
         "showlegend": true,
         "textposition": "auto",
         "type": "bar",
         "x": [
          "Jéssica"
         ],
         "xaxis": "x",
         "y": [
          "R$ 160800.00"
         ],
         "yaxis": "y"
        },
        {
         "alignmentgroup": "True",
         "hovertemplate": "Preco Unitario=%{y}<br>Primeiro Nome=%{x}<extra></extra>",
         "legendgroup": "R$ 156900.00",
         "marker": {
          "color": "#ab63fa",
          "pattern": {
           "shape": ""
          }
         },
         "name": "R$ 156900.00",
         "offsetgroup": "R$ 156900.00",
         "orientation": "v",
         "showlegend": true,
         "textposition": "auto",
         "type": "bar",
         "x": [
          "Luíza"
         ],
         "xaxis": "x",
         "y": [
          "R$ 156900.00"
         ],
         "yaxis": "y"
        },
        {
         "alignmentgroup": "True",
         "hovertemplate": "Preco Unitario=%{y}<br>Primeiro Nome=%{x}<extra></extra>",
         "legendgroup": "R$ 155300.00",
         "marker": {
          "color": "#FFA15A",
          "pattern": {
           "shape": ""
          }
         },
         "name": "R$ 155300.00",
         "offsetgroup": "R$ 155300.00",
         "orientation": "v",
         "showlegend": true,
         "textposition": "auto",
         "type": "bar",
         "x": [
          "Natalia"
         ],
         "xaxis": "x",
         "y": [
          "R$ 155300.00"
         ],
         "yaxis": "y"
        },
        {
         "alignmentgroup": "True",
         "hovertemplate": "Preco Unitario=%{y}<br>Primeiro Nome=%{x}<extra></extra>",
         "legendgroup": "R$ 154600.00",
         "marker": {
          "color": "#19d3f3",
          "pattern": {
           "shape": ""
          }
         },
         "name": "R$ 154600.00",
         "offsetgroup": "R$ 154600.00",
         "orientation": "v",
         "showlegend": true,
         "textposition": "auto",
         "type": "bar",
         "x": [
          "Mateus"
         ],
         "xaxis": "x",
         "y": [
          "R$ 154600.00"
         ],
         "yaxis": "y"
        },
        {
         "alignmentgroup": "True",
         "hovertemplate": "Preco Unitario=%{y}<br>Primeiro Nome=%{x}<extra></extra>",
         "legendgroup": "R$ 153600.00",
         "marker": {
          "color": "#FF6692",
          "pattern": {
           "shape": ""
          }
         },
         "name": "R$ 153600.00",
         "offsetgroup": "R$ 153600.00",
         "orientation": "v",
         "showlegend": true,
         "textposition": "auto",
         "type": "bar",
         "x": [
          "Isabela"
         ],
         "xaxis": "x",
         "y": [
          "R$ 153600.00"
         ],
         "yaxis": "y"
        },
        {
         "alignmentgroup": "True",
         "hovertemplate": "Preco Unitario=%{y}<br>Primeiro Nome=%{x}<extra></extra>",
         "legendgroup": "R$ 150200.00",
         "marker": {
          "color": "#B6E880",
          "pattern": {
           "shape": ""
          }
         },
         "name": "R$ 150200.00",
         "offsetgroup": "R$ 150200.00",
         "orientation": "v",
         "showlegend": true,
         "textposition": "auto",
         "type": "bar",
         "x": [
          "Rebeca"
         ],
         "xaxis": "x",
         "y": [
          "R$ 150200.00"
         ],
         "yaxis": "y"
        },
        {
         "alignmentgroup": "True",
         "hovertemplate": "Preco Unitario=%{y}<br>Primeiro Nome=%{x}<extra></extra>",
         "legendgroup": "R$ 149100.00",
         "marker": {
          "color": "#FF97FF",
          "pattern": {
           "shape": ""
          }
         },
         "name": "R$ 149100.00",
         "offsetgroup": "R$ 149100.00",
         "orientation": "v",
         "showlegend": true,
         "textposition": "auto",
         "type": "bar",
         "x": [
          "Danilo"
         ],
         "xaxis": "x",
         "y": [
          "R$ 149100.00"
         ],
         "yaxis": "y"
        },
        {
         "alignmentgroup": "True",
         "hovertemplate": "Preco Unitario=%{y}<br>Primeiro Nome=%{x}<extra></extra>",
         "legendgroup": "R$ 146100.00",
         "marker": {
          "color": "#FECB52",
          "pattern": {
           "shape": ""
          }
         },
         "name": "R$ 146100.00",
         "offsetgroup": "R$ 146100.00",
         "orientation": "v",
         "showlegend": true,
         "textposition": "auto",
         "type": "bar",
         "x": [
          "Livia"
         ],
         "xaxis": "x",
         "y": [
          "R$ 146100.00"
         ],
         "yaxis": "y"
        },
        {
         "alignmentgroup": "True",
         "hovertemplate": "Preco Unitario=%{y}<br>Primeiro Nome=%{x}<extra></extra>",
         "legendgroup": "R$ 143500.00",
         "marker": {
          "color": "#636efa",
          "pattern": {
           "shape": ""
          }
         },
         "name": "R$ 143500.00",
         "offsetgroup": "R$ 143500.00",
         "orientation": "v",
         "showlegend": true,
         "textposition": "auto",
         "type": "bar",
         "x": [
          "Isabella"
         ],
         "xaxis": "x",
         "y": [
          "R$ 143500.00"
         ],
         "yaxis": "y"
        },
        {
         "alignmentgroup": "True",
         "hovertemplate": "Preco Unitario=%{y}<br>Primeiro Nome=%{x}<extra></extra>",
         "legendgroup": "R$ 140500.00",
         "marker": {
          "color": "#EF553B",
          "pattern": {
           "shape": ""
          }
         },
         "name": "R$ 140500.00",
         "offsetgroup": "R$ 140500.00",
         "orientation": "v",
         "showlegend": true,
         "textposition": "auto",
         "type": "bar",
         "x": [
          "Sthefeson"
         ],
         "xaxis": "x",
         "y": [
          "R$ 140500.00"
         ],
         "yaxis": "y"
        },
        {
         "alignmentgroup": "True",
         "hovertemplate": "Preco Unitario=%{y}<br>Primeiro Nome=%{x}<extra></extra>",
         "legendgroup": "R$ 140000.00",
         "marker": {
          "color": "#00cc96",
          "pattern": {
           "shape": ""
          }
         },
         "name": "R$ 140000.00",
         "offsetgroup": "R$ 140000.00",
         "orientation": "v",
         "showlegend": true,
         "textposition": "auto",
         "type": "bar",
         "x": [
          "Leandro"
         ],
         "xaxis": "x",
         "y": [
          "R$ 140000.00"
         ],
         "yaxis": "y"
        },
        {
         "alignmentgroup": "True",
         "hovertemplate": "Preco Unitario=%{y}<br>Primeiro Nome=%{x}<extra></extra>",
         "legendgroup": "R$ 139400.00",
         "marker": {
          "color": "#ab63fa",
          "pattern": {
           "shape": ""
          }
         },
         "name": "R$ 139400.00",
         "offsetgroup": "R$ 139400.00",
         "orientation": "v",
         "showlegend": true,
         "textposition": "auto",
         "type": "bar",
         "x": [
          "Gabriela"
         ],
         "xaxis": "x",
         "y": [
          "R$ 139400.00"
         ],
         "yaxis": "y"
        },
        {
         "alignmentgroup": "True",
         "hovertemplate": "Preco Unitario=%{y}<br>Primeiro Nome=%{x}<extra></extra>",
         "legendgroup": "R$ 139000.00",
         "marker": {
          "color": "#FFA15A",
          "pattern": {
           "shape": ""
          }
         },
         "name": "R$ 139000.00",
         "offsetgroup": "R$ 139000.00",
         "orientation": "v",
         "showlegend": true,
         "textposition": "auto",
         "type": "bar",
         "x": [
          "Thomáz"
         ],
         "xaxis": "x",
         "y": [
          "R$ 139000.00"
         ],
         "yaxis": "y"
        },
        {
         "alignmentgroup": "True",
         "hovertemplate": "Preco Unitario=%{y}<br>Primeiro Nome=%{x}<extra></extra>",
         "legendgroup": "R$ 138400.00",
         "marker": {
          "color": "#19d3f3",
          "pattern": {
           "shape": ""
          }
         },
         "name": "R$ 138400.00",
         "offsetgroup": "R$ 138400.00",
         "orientation": "v",
         "showlegend": true,
         "textposition": "auto",
         "type": "bar",
         "x": [
          "David"
         ],
         "xaxis": "x",
         "y": [
          "R$ 138400.00"
         ],
         "yaxis": "y"
        },
        {
         "alignmentgroup": "True",
         "hovertemplate": "Preco Unitario=%{y}<br>Primeiro Nome=%{x}<extra></extra>",
         "legendgroup": "R$ 133000.00",
         "marker": {
          "color": "#FF6692",
          "pattern": {
           "shape": ""
          }
         },
         "name": "R$ 133000.00",
         "offsetgroup": "R$ 133000.00",
         "orientation": "v",
         "showlegend": true,
         "textposition": "auto",
         "type": "bar",
         "x": [
          "Raul"
         ],
         "xaxis": "x",
         "y": [
          "R$ 133000.00"
         ],
         "yaxis": "y"
        },
        {
         "alignmentgroup": "True",
         "hovertemplate": "Preco Unitario=%{y}<br>Primeiro Nome=%{x}<extra></extra>",
         "legendgroup": "R$ 132200.00",
         "marker": {
          "color": "#B6E880",
          "pattern": {
           "shape": ""
          }
         },
         "name": "R$ 132200.00",
         "offsetgroup": "R$ 132200.00",
         "orientation": "v",
         "showlegend": true,
         "textposition": "auto",
         "type": "bar",
         "x": [
          "Izabel"
         ],
         "xaxis": "x",
         "y": [
          "R$ 132200.00"
         ],
         "yaxis": "y"
        },
        {
         "alignmentgroup": "True",
         "hovertemplate": "Preco Unitario=%{y}<br>Primeiro Nome=%{x}<extra></extra>",
         "legendgroup": "R$ 131800.00",
         "marker": {
          "color": "#FF97FF",
          "pattern": {
           "shape": ""
          }
         },
         "name": "R$ 131800.00",
         "offsetgroup": "R$ 131800.00",
         "orientation": "v",
         "showlegend": true,
         "textposition": "auto",
         "type": "bar",
         "x": [
          "Stephanie"
         ],
         "xaxis": "x",
         "y": [
          "R$ 131800.00"
         ],
         "yaxis": "y"
        },
        {
         "alignmentgroup": "True",
         "hovertemplate": "Preco Unitario=%{y}<br>Primeiro Nome=%{x}<extra></extra>",
         "legendgroup": "R$ 130500.00",
         "marker": {
          "color": "#FECB52",
          "pattern": {
           "shape": ""
          }
         },
         "name": "R$ 130500.00",
         "offsetgroup": "R$ 130500.00",
         "orientation": "v",
         "showlegend": true,
         "textposition": "auto",
         "type": "bar",
         "x": [
          "Milena"
         ],
         "xaxis": "x",
         "y": [
          "R$ 130500.00"
         ],
         "yaxis": "y"
        },
        {
         "alignmentgroup": "True",
         "hovertemplate": "Preco Unitario=%{y}<br>Primeiro Nome=%{x}<extra></extra>",
         "legendgroup": "R$ 129700.00",
         "marker": {
          "color": "#636efa",
          "pattern": {
           "shape": ""
          }
         },
         "name": "R$ 129700.00",
         "offsetgroup": "R$ 129700.00",
         "orientation": "v",
         "showlegend": true,
         "textposition": "auto",
         "type": "bar",
         "x": [
          "Sandy"
         ],
         "xaxis": "x",
         "y": [
          "R$ 129700.00"
         ],
         "yaxis": "y"
        },
        {
         "alignmentgroup": "True",
         "hovertemplate": "Preco Unitario=%{y}<br>Primeiro Nome=%{x}<extra></extra>",
         "legendgroup": "R$ 129600.00",
         "marker": {
          "color": "#EF553B",
          "pattern": {
           "shape": ""
          }
         },
         "name": "R$ 129600.00",
         "offsetgroup": "R$ 129600.00",
         "orientation": "v",
         "showlegend": true,
         "textposition": "auto",
         "type": "bar",
         "x": [
          "Ulisses"
         ],
         "xaxis": "x",
         "y": [
          "R$ 129600.00"
         ],
         "yaxis": "y"
        },
        {
         "alignmentgroup": "True",
         "hovertemplate": "Preco Unitario=%{y}<br>Primeiro Nome=%{x}<extra></extra>",
         "legendgroup": "R$ 128300.00",
         "marker": {
          "color": "#00cc96",
          "pattern": {
           "shape": ""
          }
         },
         "name": "R$ 128300.00",
         "offsetgroup": "R$ 128300.00",
         "orientation": "v",
         "showlegend": true,
         "textposition": "auto",
         "type": "bar",
         "x": [
          "Alon"
         ],
         "xaxis": "x",
         "y": [
          "R$ 128300.00"
         ],
         "yaxis": "y"
        },
        {
         "alignmentgroup": "True",
         "hovertemplate": "Preco Unitario=%{y}<br>Primeiro Nome=%{x}<extra></extra>",
         "legendgroup": "R$ 127700.00",
         "marker": {
          "color": "#ab63fa",
          "pattern": {
           "shape": ""
          }
         },
         "name": "R$ 127700.00",
         "offsetgroup": "R$ 127700.00",
         "orientation": "v",
         "showlegend": true,
         "textposition": "auto",
         "type": "bar",
         "x": [
          "Andressa"
         ],
         "xaxis": "x",
         "y": [
          "R$ 127700.00"
         ],
         "yaxis": "y"
        },
        {
         "alignmentgroup": "True",
         "hovertemplate": "Preco Unitario=%{y}<br>Primeiro Nome=%{x}<extra></extra>",
         "legendgroup": "R$ 127600.00",
         "marker": {
          "color": "#FFA15A",
          "pattern": {
           "shape": ""
          }
         },
         "name": "R$ 127600.00",
         "offsetgroup": "R$ 127600.00",
         "orientation": "v",
         "showlegend": true,
         "textposition": "auto",
         "type": "bar",
         "x": [
          "Camilla"
         ],
         "xaxis": "x",
         "y": [
          "R$ 127600.00"
         ],
         "yaxis": "y"
        },
        {
         "alignmentgroup": "True",
         "hovertemplate": "Preco Unitario=%{y}<br>Primeiro Nome=%{x}<extra></extra>",
         "legendgroup": "R$ 126400.00",
         "marker": {
          "color": "#19d3f3",
          "pattern": {
           "shape": ""
          }
         },
         "name": "R$ 126400.00",
         "offsetgroup": "R$ 126400.00",
         "orientation": "v",
         "showlegend": true,
         "textposition": "auto",
         "type": "bar",
         "x": [
          "Lívia"
         ],
         "xaxis": "x",
         "y": [
          "R$ 126400.00"
         ],
         "yaxis": "y"
        },
        {
         "alignmentgroup": "True",
         "hovertemplate": "Preco Unitario=%{y}<br>Primeiro Nome=%{x}<extra></extra>",
         "legendgroup": "R$ 124500.00",
         "marker": {
          "color": "#FF6692",
          "pattern": {
           "shape": ""
          }
         },
         "name": "R$ 124500.00",
         "offsetgroup": "R$ 124500.00",
         "orientation": "v",
         "showlegend": true,
         "textposition": "auto",
         "type": "bar",
         "x": [
          "Vitor"
         ],
         "xaxis": "x",
         "y": [
          "R$ 124500.00"
         ],
         "yaxis": "y"
        },
        {
         "alignmentgroup": "True",
         "hovertemplate": "Preco Unitario=%{y}<br>Primeiro Nome=%{x}<extra></extra>",
         "legendgroup": "R$ 122400.00",
         "marker": {
          "color": "#B6E880",
          "pattern": {
           "shape": ""
          }
         },
         "name": "R$ 122400.00",
         "offsetgroup": "R$ 122400.00",
         "orientation": "v",
         "showlegend": true,
         "textposition": "auto",
         "type": "bar",
         "x": [
          "Adrielle"
         ],
         "xaxis": "x",
         "y": [
          "R$ 122400.00"
         ],
         "yaxis": "y"
        },
        {
         "alignmentgroup": "True",
         "hovertemplate": "Preco Unitario=%{y}<br>Primeiro Nome=%{x}<extra></extra>",
         "legendgroup": "R$ 121500.00",
         "marker": {
          "color": "#FF97FF",
          "pattern": {
           "shape": ""
          }
         },
         "name": "R$ 121500.00",
         "offsetgroup": "R$ 121500.00",
         "orientation": "v",
         "showlegend": true,
         "textposition": "auto",
         "type": "bar",
         "x": [
          "Roberta"
         ],
         "xaxis": "x",
         "y": [
          "R$ 121500.00"
         ],
         "yaxis": "y"
        },
        {
         "alignmentgroup": "True",
         "hovertemplate": "Preco Unitario=%{y}<br>Primeiro Nome=%{x}<extra></extra>",
         "legendgroup": "R$ 121400.00",
         "marker": {
          "color": "#FECB52",
          "pattern": {
           "shape": ""
          }
         },
         "name": "R$ 121400.00",
         "offsetgroup": "R$ 121400.00",
         "orientation": "v",
         "showlegend": true,
         "textposition": "auto",
         "type": "bar",
         "x": [
          "Rogério"
         ],
         "xaxis": "x",
         "y": [
          "R$ 121400.00"
         ],
         "yaxis": "y"
        },
        {
         "alignmentgroup": "True",
         "hovertemplate": "Preco Unitario=%{y}<br>Primeiro Nome=%{x}<extra></extra>",
         "legendgroup": "R$ 121200.00",
         "marker": {
          "color": "#636efa",
          "pattern": {
           "shape": ""
          }
         },
         "name": "R$ 121200.00",
         "offsetgroup": "R$ 121200.00",
         "orientation": "v",
         "showlegend": true,
         "textposition": "auto",
         "type": "bar",
         "x": [
          "Anderson"
         ],
         "xaxis": "x",
         "y": [
          "R$ 121200.00"
         ],
         "yaxis": "y"
        },
        {
         "alignmentgroup": "True",
         "hovertemplate": "Preco Unitario=%{y}<br>Primeiro Nome=%{x}<extra></extra>",
         "legendgroup": "R$ 120900.00",
         "marker": {
          "color": "#EF553B",
          "pattern": {
           "shape": ""
          }
         },
         "name": "R$ 120900.00",
         "offsetgroup": "R$ 120900.00",
         "orientation": "v",
         "showlegend": true,
         "textposition": "auto",
         "type": "bar",
         "x": [
          "Marcela"
         ],
         "xaxis": "x",
         "y": [
          "R$ 120900.00"
         ],
         "yaxis": "y"
        },
        {
         "alignmentgroup": "True",
         "hovertemplate": "Preco Unitario=%{y}<br>Primeiro Nome=%{x}<extra></extra>",
         "legendgroup": "R$ 120000.00",
         "marker": {
          "color": "#00cc96",
          "pattern": {
           "shape": ""
          }
         },
         "name": "R$ 120000.00",
         "offsetgroup": "R$ 120000.00",
         "orientation": "v",
         "showlegend": true,
         "textposition": "auto",
         "type": "bar",
         "x": [
          "Jônatas"
         ],
         "xaxis": "x",
         "y": [
          "R$ 120000.00"
         ],
         "yaxis": "y"
        },
        {
         "alignmentgroup": "True",
         "hovertemplate": "Preco Unitario=%{y}<br>Primeiro Nome=%{x}<extra></extra>",
         "legendgroup": "R$ 119300.00",
         "marker": {
          "color": "#ab63fa",
          "pattern": {
           "shape": ""
          }
         },
         "name": "R$ 119300.00",
         "offsetgroup": "R$ 119300.00",
         "orientation": "v",
         "showlegend": true,
         "textposition": "auto",
         "type": "bar",
         "x": [
          "Aline"
         ],
         "xaxis": "x",
         "y": [
          "R$ 119300.00"
         ],
         "yaxis": "y"
        },
        {
         "alignmentgroup": "True",
         "hovertemplate": "Preco Unitario=%{y}<br>Primeiro Nome=%{x}<extra></extra>",
         "legendgroup": "R$ 115000.00",
         "marker": {
          "color": "#FFA15A",
          "pattern": {
           "shape": ""
          }
         },
         "name": "R$ 115000.00",
         "offsetgroup": "R$ 115000.00",
         "orientation": "v",
         "showlegend": true,
         "textposition": "auto",
         "type": "bar",
         "x": [
          "Raíssa"
         ],
         "xaxis": "x",
         "y": [
          "R$ 115000.00"
         ],
         "yaxis": "y"
        },
        {
         "alignmentgroup": "True",
         "hovertemplate": "Preco Unitario=%{y}<br>Primeiro Nome=%{x}<extra></extra>",
         "legendgroup": "R$ 112500.00",
         "marker": {
          "color": "#19d3f3",
          "pattern": {
           "shape": ""
          }
         },
         "name": "R$ 112500.00",
         "offsetgroup": "R$ 112500.00",
         "orientation": "v",
         "showlegend": true,
         "textposition": "auto",
         "type": "bar",
         "x": [
          "Fabio"
         ],
         "xaxis": "x",
         "y": [
          "R$ 112500.00"
         ],
         "yaxis": "y"
        },
        {
         "alignmentgroup": "True",
         "hovertemplate": "Preco Unitario=%{y}<br>Primeiro Nome=%{x}<extra></extra>",
         "legendgroup": "R$ 112100.00",
         "marker": {
          "color": "#FF6692",
          "pattern": {
           "shape": ""
          }
         },
         "name": "R$ 112100.00",
         "offsetgroup": "R$ 112100.00",
         "orientation": "v",
         "showlegend": true,
         "textposition": "auto",
         "type": "bar",
         "x": [
          "Joao"
         ],
         "xaxis": "x",
         "y": [
          "R$ 112100.00"
         ],
         "yaxis": "y"
        },
        {
         "alignmentgroup": "True",
         "hovertemplate": "Preco Unitario=%{y}<br>Primeiro Nome=%{x}<extra></extra>",
         "legendgroup": "R$ 111700.00",
         "marker": {
          "color": "#B6E880",
          "pattern": {
           "shape": ""
          }
         },
         "name": "R$ 111700.00",
         "offsetgroup": "R$ 111700.00",
         "orientation": "v",
         "showlegend": true,
         "textposition": "auto",
         "type": "bar",
         "x": [
          "Eric"
         ],
         "xaxis": "x",
         "y": [
          "R$ 111700.00"
         ],
         "yaxis": "y"
        },
        {
         "alignmentgroup": "True",
         "hovertemplate": "Preco Unitario=%{y}<br>Primeiro Nome=%{x}<extra></extra>",
         "legendgroup": "R$ 109200.00",
         "marker": {
          "color": "#FF97FF",
          "pattern": {
           "shape": ""
          }
         },
         "name": "R$ 109200.00",
         "offsetgroup": "R$ 109200.00",
         "orientation": "v",
         "showlegend": true,
         "textposition": "auto",
         "type": "bar",
         "x": [
          "Jeferson"
         ],
         "xaxis": "x",
         "y": [
          "R$ 109200.00"
         ],
         "yaxis": "y"
        },
        {
         "alignmentgroup": "True",
         "hovertemplate": "Preco Unitario=%{y}<br>Primeiro Nome=%{x}<extra></extra>",
         "legendgroup": "R$ 105700.00",
         "marker": {
          "color": "#FECB52",
          "pattern": {
           "shape": ""
          }
         },
         "name": "R$ 105700.00",
         "offsetgroup": "R$ 105700.00",
         "orientation": "v",
         "showlegend": true,
         "textposition": "auto",
         "type": "bar",
         "x": [
          "Isabel"
         ],
         "xaxis": "x",
         "y": [
          "R$ 105700.00"
         ],
         "yaxis": "y"
        },
        {
         "alignmentgroup": "True",
         "hovertemplate": "Preco Unitario=%{y}<br>Primeiro Nome=%{x}<extra></extra>",
         "legendgroup": "R$ 105600.00",
         "marker": {
          "color": "#636efa",
          "pattern": {
           "shape": ""
          }
         },
         "name": "R$ 105600.00",
         "offsetgroup": "R$ 105600.00",
         "orientation": "v",
         "showlegend": true,
         "textposition": "auto",
         "type": "bar",
         "x": [
          "Gabriella"
         ],
         "xaxis": "x",
         "y": [
          "R$ 105600.00"
         ],
         "yaxis": "y"
        },
        {
         "alignmentgroup": "True",
         "hovertemplate": "Preco Unitario=%{y}<br>Primeiro Nome=%{x}<extra></extra>",
         "legendgroup": "R$ 104900.00",
         "marker": {
          "color": "#EF553B",
          "pattern": {
           "shape": ""
          }
         },
         "name": "R$ 104900.00",
         "offsetgroup": "R$ 104900.00",
         "orientation": "v",
         "showlegend": true,
         "textposition": "auto",
         "type": "bar",
         "x": [
          "Ives"
         ],
         "xaxis": "x",
         "y": [
          "R$ 104900.00"
         ],
         "yaxis": "y"
        },
        {
         "alignmentgroup": "True",
         "hovertemplate": "Preco Unitario=%{y}<br>Primeiro Nome=%{x}<extra></extra>",
         "legendgroup": "R$ 104000.00",
         "marker": {
          "color": "#00cc96",
          "pattern": {
           "shape": ""
          }
         },
         "name": "R$ 104000.00",
         "offsetgroup": "R$ 104000.00",
         "orientation": "v",
         "showlegend": true,
         "textposition": "auto",
         "type": "bar",
         "x": [
          "Bárbara"
         ],
         "xaxis": "x",
         "y": [
          "R$ 104000.00"
         ],
         "yaxis": "y"
        },
        {
         "alignmentgroup": "True",
         "hovertemplate": "Preco Unitario=%{y}<br>Primeiro Nome=%{x}<extra></extra>",
         "legendgroup": "R$ 103800.00",
         "marker": {
          "color": "#ab63fa",
          "pattern": {
           "shape": ""
          }
         },
         "name": "R$ 103800.00",
         "offsetgroup": "R$ 103800.00",
         "orientation": "v",
         "showlegend": true,
         "textposition": "auto",
         "type": "bar",
         "x": [
          "Giulia"
         ],
         "xaxis": "x",
         "y": [
          "R$ 103800.00"
         ],
         "yaxis": "y"
        },
        {
         "alignmentgroup": "True",
         "hovertemplate": "Preco Unitario=%{y}<br>Primeiro Nome=%{x}<extra></extra>",
         "legendgroup": "R$ 102800.00",
         "marker": {
          "color": "#FFA15A",
          "pattern": {
           "shape": ""
          }
         },
         "name": "R$ 102800.00",
         "offsetgroup": "R$ 102800.00",
         "orientation": "v",
         "showlegend": true,
         "textposition": "auto",
         "type": "bar",
         "x": [
          "Letícia"
         ],
         "xaxis": "x",
         "y": [
          "R$ 102800.00"
         ],
         "yaxis": "y"
        },
        {
         "alignmentgroup": "True",
         "hovertemplate": "Preco Unitario=%{y}<br>Primeiro Nome=%{x}<extra></extra>",
         "legendgroup": "R$ 101700.00",
         "marker": {
          "color": "#19d3f3",
          "pattern": {
           "shape": ""
          }
         },
         "name": "R$ 101700.00",
         "offsetgroup": "R$ 101700.00",
         "orientation": "v",
         "showlegend": true,
         "textposition": "auto",
         "type": "bar",
         "x": [
          "Vanessa",
          "Myllena"
         ],
         "xaxis": "x",
         "y": [
          "R$ 101700.00",
          "R$ 101700.00"
         ],
         "yaxis": "y"
        },
        {
         "alignmentgroup": "True",
         "hovertemplate": "Preco Unitario=%{y}<br>Primeiro Nome=%{x}<extra></extra>",
         "legendgroup": "R$ 101200.00",
         "marker": {
          "color": "#FF6692",
          "pattern": {
           "shape": ""
          }
         },
         "name": "R$ 101200.00",
         "offsetgroup": "R$ 101200.00",
         "orientation": "v",
         "showlegend": true,
         "textposition": "auto",
         "type": "bar",
         "x": [
          "Roberto"
         ],
         "xaxis": "x",
         "y": [
          "R$ 101200.00"
         ],
         "yaxis": "y"
        },
        {
         "alignmentgroup": "True",
         "hovertemplate": "Preco Unitario=%{y}<br>Primeiro Nome=%{x}<extra></extra>",
         "legendgroup": "R$ 100900.00",
         "marker": {
          "color": "#B6E880",
          "pattern": {
           "shape": ""
          }
         },
         "name": "R$ 100900.00",
         "offsetgroup": "R$ 100900.00",
         "orientation": "v",
         "showlegend": true,
         "textposition": "auto",
         "type": "bar",
         "x": [
          "Joyce"
         ],
         "xaxis": "x",
         "y": [
          "R$ 100900.00"
         ],
         "yaxis": "y"
        },
        {
         "alignmentgroup": "True",
         "hovertemplate": "Preco Unitario=%{y}<br>Primeiro Nome=%{x}<extra></extra>",
         "legendgroup": "R$ 99900.00",
         "marker": {
          "color": "#FF97FF",
          "pattern": {
           "shape": ""
          }
         },
         "name": "R$ 99900.00",
         "offsetgroup": "R$ 99900.00",
         "orientation": "v",
         "showlegend": true,
         "textposition": "auto",
         "type": "bar",
         "x": [
          "Mariane"
         ],
         "xaxis": "x",
         "y": [
          "R$ 99900.00"
         ],
         "yaxis": "y"
        },
        {
         "alignmentgroup": "True",
         "hovertemplate": "Preco Unitario=%{y}<br>Primeiro Nome=%{x}<extra></extra>",
         "legendgroup": "R$ 98400.00",
         "marker": {
          "color": "#FECB52",
          "pattern": {
           "shape": ""
          }
         },
         "name": "R$ 98400.00",
         "offsetgroup": "R$ 98400.00",
         "orientation": "v",
         "showlegend": true,
         "textposition": "auto",
         "type": "bar",
         "x": [
          "Cícero"
         ],
         "xaxis": "x",
         "y": [
          "R$ 98400.00"
         ],
         "yaxis": "y"
        },
        {
         "alignmentgroup": "True",
         "hovertemplate": "Preco Unitario=%{y}<br>Primeiro Nome=%{x}<extra></extra>",
         "legendgroup": "R$ 93400.00",
         "marker": {
          "color": "#636efa",
          "pattern": {
           "shape": ""
          }
         },
         "name": "R$ 93400.00",
         "offsetgroup": "R$ 93400.00",
         "orientation": "v",
         "showlegend": true,
         "textposition": "auto",
         "type": "bar",
         "x": [
          "Thaís",
          "Deysiane"
         ],
         "xaxis": "x",
         "y": [
          "R$ 93400.00",
          "R$ 93400.00"
         ],
         "yaxis": "y"
        },
        {
         "alignmentgroup": "True",
         "hovertemplate": "Preco Unitario=%{y}<br>Primeiro Nome=%{x}<extra></extra>",
         "legendgroup": "R$ 92000.00",
         "marker": {
          "color": "#EF553B",
          "pattern": {
           "shape": ""
          }
         },
         "name": "R$ 92000.00",
         "offsetgroup": "R$ 92000.00",
         "orientation": "v",
         "showlegend": true,
         "textposition": "auto",
         "type": "bar",
         "x": [
          "Yasmim"
         ],
         "xaxis": "x",
         "y": [
          "R$ 92000.00"
         ],
         "yaxis": "y"
        },
        {
         "alignmentgroup": "True",
         "hovertemplate": "Preco Unitario=%{y}<br>Primeiro Nome=%{x}<extra></extra>",
         "legendgroup": "R$ 91900.00",
         "marker": {
          "color": "#00cc96",
          "pattern": {
           "shape": ""
          }
         },
         "name": "R$ 91900.00",
         "offsetgroup": "R$ 91900.00",
         "orientation": "v",
         "showlegend": true,
         "textposition": "auto",
         "type": "bar",
         "x": [
          "Antonio"
         ],
         "xaxis": "x",
         "y": [
          "R$ 91900.00"
         ],
         "yaxis": "y"
        },
        {
         "alignmentgroup": "True",
         "hovertemplate": "Preco Unitario=%{y}<br>Primeiro Nome=%{x}<extra></extra>",
         "legendgroup": "R$ 91700.00",
         "marker": {
          "color": "#ab63fa",
          "pattern": {
           "shape": ""
          }
         },
         "name": "R$ 91700.00",
         "offsetgroup": "R$ 91700.00",
         "orientation": "v",
         "showlegend": true,
         "textposition": "auto",
         "type": "bar",
         "x": [
          "Daniela"
         ],
         "xaxis": "x",
         "y": [
          "R$ 91700.00"
         ],
         "yaxis": "y"
        },
        {
         "alignmentgroup": "True",
         "hovertemplate": "Preco Unitario=%{y}<br>Primeiro Nome=%{x}<extra></extra>",
         "legendgroup": "R$ 91300.00",
         "marker": {
          "color": "#FFA15A",
          "pattern": {
           "shape": ""
          }
         },
         "name": "R$ 91300.00",
         "offsetgroup": "R$ 91300.00",
         "orientation": "v",
         "showlegend": true,
         "textposition": "auto",
         "type": "bar",
         "x": [
          "Lázaro",
          "Luana"
         ],
         "xaxis": "x",
         "y": [
          "R$ 91300.00",
          "R$ 91300.00"
         ],
         "yaxis": "y"
        },
        {
         "alignmentgroup": "True",
         "hovertemplate": "Preco Unitario=%{y}<br>Primeiro Nome=%{x}<extra></extra>",
         "legendgroup": "R$ 91100.00",
         "marker": {
          "color": "#19d3f3",
          "pattern": {
           "shape": ""
          }
         },
         "name": "R$ 91100.00",
         "offsetgroup": "R$ 91100.00",
         "orientation": "v",
         "showlegend": true,
         "textposition": "auto",
         "type": "bar",
         "x": [
          "Silvio"
         ],
         "xaxis": "x",
         "y": [
          "R$ 91100.00"
         ],
         "yaxis": "y"
        },
        {
         "alignmentgroup": "True",
         "hovertemplate": "Preco Unitario=%{y}<br>Primeiro Nome=%{x}<extra></extra>",
         "legendgroup": "R$ 90300.00",
         "marker": {
          "color": "#FF6692",
          "pattern": {
           "shape": ""
          }
         },
         "name": "R$ 90300.00",
         "offsetgroup": "R$ 90300.00",
         "orientation": "v",
         "showlegend": true,
         "textposition": "auto",
         "type": "bar",
         "x": [
          "Jessica"
         ],
         "xaxis": "x",
         "y": [
          "R$ 90300.00"
         ],
         "yaxis": "y"
        },
        {
         "alignmentgroup": "True",
         "hovertemplate": "Preco Unitario=%{y}<br>Primeiro Nome=%{x}<extra></extra>",
         "legendgroup": "R$ 90200.00",
         "marker": {
          "color": "#B6E880",
          "pattern": {
           "shape": ""
          }
         },
         "name": "R$ 90200.00",
         "offsetgroup": "R$ 90200.00",
         "orientation": "v",
         "showlegend": true,
         "textposition": "auto",
         "type": "bar",
         "x": [
          "Rubens"
         ],
         "xaxis": "x",
         "y": [
          "R$ 90200.00"
         ],
         "yaxis": "y"
        },
        {
         "alignmentgroup": "True",
         "hovertemplate": "Preco Unitario=%{y}<br>Primeiro Nome=%{x}<extra></extra>",
         "legendgroup": "R$ 88900.00",
         "marker": {
          "color": "#FF97FF",
          "pattern": {
           "shape": ""
          }
         },
         "name": "R$ 88900.00",
         "offsetgroup": "R$ 88900.00",
         "orientation": "v",
         "showlegend": true,
         "textposition": "auto",
         "type": "bar",
         "x": [
          "Jorge"
         ],
         "xaxis": "x",
         "y": [
          "R$ 88900.00"
         ],
         "yaxis": "y"
        },
        {
         "alignmentgroup": "True",
         "hovertemplate": "Preco Unitario=%{y}<br>Primeiro Nome=%{x}<extra></extra>",
         "legendgroup": "R$ 88700.00",
         "marker": {
          "color": "#FECB52",
          "pattern": {
           "shape": ""
          }
         },
         "name": "R$ 88700.00",
         "offsetgroup": "R$ 88700.00",
         "orientation": "v",
         "showlegend": true,
         "textposition": "auto",
         "type": "bar",
         "x": [
          "Lorena"
         ],
         "xaxis": "x",
         "y": [
          "R$ 88700.00"
         ],
         "yaxis": "y"
        },
        {
         "alignmentgroup": "True",
         "hovertemplate": "Preco Unitario=%{y}<br>Primeiro Nome=%{x}<extra></extra>",
         "legendgroup": "R$ 88500.00",
         "marker": {
          "color": "#636efa",
          "pattern": {
           "shape": ""
          }
         },
         "name": "R$ 88500.00",
         "offsetgroup": "R$ 88500.00",
         "orientation": "v",
         "showlegend": true,
         "textposition": "auto",
         "type": "bar",
         "x": [
          "Clara"
         ],
         "xaxis": "x",
         "y": [
          "R$ 88500.00"
         ],
         "yaxis": "y"
        },
        {
         "alignmentgroup": "True",
         "hovertemplate": "Preco Unitario=%{y}<br>Primeiro Nome=%{x}<extra></extra>",
         "legendgroup": "R$ 87300.00",
         "marker": {
          "color": "#EF553B",
          "pattern": {
           "shape": ""
          }
         },
         "name": "R$ 87300.00",
         "offsetgroup": "R$ 87300.00",
         "orientation": "v",
         "showlegend": true,
         "textposition": "auto",
         "type": "bar",
         "x": [
          "Stefan"
         ],
         "xaxis": "x",
         "y": [
          "R$ 87300.00"
         ],
         "yaxis": "y"
        },
        {
         "alignmentgroup": "True",
         "hovertemplate": "Preco Unitario=%{y}<br>Primeiro Nome=%{x}<extra></extra>",
         "legendgroup": "R$ 86000.00",
         "marker": {
          "color": "#00cc96",
          "pattern": {
           "shape": ""
          }
         },
         "name": "R$ 86000.00",
         "offsetgroup": "R$ 86000.00",
         "orientation": "v",
         "showlegend": true,
         "textposition": "auto",
         "type": "bar",
         "x": [
          "Juan"
         ],
         "xaxis": "x",
         "y": [
          "R$ 86000.00"
         ],
         "yaxis": "y"
        },
        {
         "alignmentgroup": "True",
         "hovertemplate": "Preco Unitario=%{y}<br>Primeiro Nome=%{x}<extra></extra>",
         "legendgroup": "R$ 85700.00",
         "marker": {
          "color": "#ab63fa",
          "pattern": {
           "shape": ""
          }
         },
         "name": "R$ 85700.00",
         "offsetgroup": "R$ 85700.00",
         "orientation": "v",
         "showlegend": true,
         "textposition": "auto",
         "type": "bar",
         "x": [
          "Jonatas"
         ],
         "xaxis": "x",
         "y": [
          "R$ 85700.00"
         ],
         "yaxis": "y"
        },
        {
         "alignmentgroup": "True",
         "hovertemplate": "Preco Unitario=%{y}<br>Primeiro Nome=%{x}<extra></extra>",
         "legendgroup": "R$ 85200.00",
         "marker": {
          "color": "#FFA15A",
          "pattern": {
           "shape": ""
          }
         },
         "name": "R$ 85200.00",
         "offsetgroup": "R$ 85200.00",
         "orientation": "v",
         "showlegend": true,
         "textposition": "auto",
         "type": "bar",
         "x": [
          "Giuseppe"
         ],
         "xaxis": "x",
         "y": [
          "R$ 85200.00"
         ],
         "yaxis": "y"
        },
        {
         "alignmentgroup": "True",
         "hovertemplate": "Preco Unitario=%{y}<br>Primeiro Nome=%{x}<extra></extra>",
         "legendgroup": "R$ 85100.00",
         "marker": {
          "color": "#19d3f3",
          "pattern": {
           "shape": ""
          }
         },
         "name": "R$ 85100.00",
         "offsetgroup": "R$ 85100.00",
         "orientation": "v",
         "showlegend": true,
         "textposition": "auto",
         "type": "bar",
         "x": [
          "Adriana"
         ],
         "xaxis": "x",
         "y": [
          "R$ 85100.00"
         ],
         "yaxis": "y"
        },
        {
         "alignmentgroup": "True",
         "hovertemplate": "Preco Unitario=%{y}<br>Primeiro Nome=%{x}<extra></extra>",
         "legendgroup": "R$ 85000.00",
         "marker": {
          "color": "#FF6692",
          "pattern": {
           "shape": ""
          }
         },
         "name": "R$ 85000.00",
         "offsetgroup": "R$ 85000.00",
         "orientation": "v",
         "showlegend": true,
         "textposition": "auto",
         "type": "bar",
         "x": [
          "Andre"
         ],
         "xaxis": "x",
         "y": [
          "R$ 85000.00"
         ],
         "yaxis": "y"
        },
        {
         "alignmentgroup": "True",
         "hovertemplate": "Preco Unitario=%{y}<br>Primeiro Nome=%{x}<extra></extra>",
         "legendgroup": "R$ 84600.00",
         "marker": {
          "color": "#B6E880",
          "pattern": {
           "shape": ""
          }
         },
         "name": "R$ 84600.00",
         "offsetgroup": "R$ 84600.00",
         "orientation": "v",
         "showlegend": true,
         "textposition": "auto",
         "type": "bar",
         "x": [
          "Wendela"
         ],
         "xaxis": "x",
         "y": [
          "R$ 84600.00"
         ],
         "yaxis": "y"
        },
        {
         "alignmentgroup": "True",
         "hovertemplate": "Preco Unitario=%{y}<br>Primeiro Nome=%{x}<extra></extra>",
         "legendgroup": "R$ 84300.00",
         "marker": {
          "color": "#FF97FF",
          "pattern": {
           "shape": ""
          }
         },
         "name": "R$ 84300.00",
         "offsetgroup": "R$ 84300.00",
         "orientation": "v",
         "showlegend": true,
         "textposition": "auto",
         "type": "bar",
         "x": [
          "Patrícia"
         ],
         "xaxis": "x",
         "y": [
          "R$ 84300.00"
         ],
         "yaxis": "y"
        },
        {
         "alignmentgroup": "True",
         "hovertemplate": "Preco Unitario=%{y}<br>Primeiro Nome=%{x}<extra></extra>",
         "legendgroup": "R$ 83700.00",
         "marker": {
          "color": "#FECB52",
          "pattern": {
           "shape": ""
          }
         },
         "name": "R$ 83700.00",
         "offsetgroup": "R$ 83700.00",
         "orientation": "v",
         "showlegend": true,
         "textposition": "auto",
         "type": "bar",
         "x": [
          "Hércules"
         ],
         "xaxis": "x",
         "y": [
          "R$ 83700.00"
         ],
         "yaxis": "y"
        },
        {
         "alignmentgroup": "True",
         "hovertemplate": "Preco Unitario=%{y}<br>Primeiro Nome=%{x}<extra></extra>",
         "legendgroup": "R$ 83000.00",
         "marker": {
          "color": "#636efa",
          "pattern": {
           "shape": ""
          }
         },
         "name": "R$ 83000.00",
         "offsetgroup": "R$ 83000.00",
         "orientation": "v",
         "showlegend": true,
         "textposition": "auto",
         "type": "bar",
         "x": [
          "Nathan"
         ],
         "xaxis": "x",
         "y": [
          "R$ 83000.00"
         ],
         "yaxis": "y"
        },
        {
         "alignmentgroup": "True",
         "hovertemplate": "Preco Unitario=%{y}<br>Primeiro Nome=%{x}<extra></extra>",
         "legendgroup": "R$ 81800.00",
         "marker": {
          "color": "#EF553B",
          "pattern": {
           "shape": ""
          }
         },
         "name": "R$ 81800.00",
         "offsetgroup": "R$ 81800.00",
         "orientation": "v",
         "showlegend": true,
         "textposition": "auto",
         "type": "bar",
         "x": [
          "Alexandre"
         ],
         "xaxis": "x",
         "y": [
          "R$ 81800.00"
         ],
         "yaxis": "y"
        },
        {
         "alignmentgroup": "True",
         "hovertemplate": "Preco Unitario=%{y}<br>Primeiro Nome=%{x}<extra></extra>",
         "legendgroup": "R$ 81700.00",
         "marker": {
          "color": "#00cc96",
          "pattern": {
           "shape": ""
          }
         },
         "name": "R$ 81700.00",
         "offsetgroup": "R$ 81700.00",
         "orientation": "v",
         "showlegend": true,
         "textposition": "auto",
         "type": "bar",
         "x": [
          "Rilson"
         ],
         "xaxis": "x",
         "y": [
          "R$ 81700.00"
         ],
         "yaxis": "y"
        },
        {
         "alignmentgroup": "True",
         "hovertemplate": "Preco Unitario=%{y}<br>Primeiro Nome=%{x}<extra></extra>",
         "legendgroup": "R$ 79400.00",
         "marker": {
          "color": "#ab63fa",
          "pattern": {
           "shape": ""
          }
         },
         "name": "R$ 79400.00",
         "offsetgroup": "R$ 79400.00",
         "orientation": "v",
         "showlegend": true,
         "textposition": "auto",
         "type": "bar",
         "x": [
          "Manuela"
         ],
         "xaxis": "x",
         "y": [
          "R$ 79400.00"
         ],
         "yaxis": "y"
        },
        {
         "alignmentgroup": "True",
         "hovertemplate": "Preco Unitario=%{y}<br>Primeiro Nome=%{x}<extra></extra>",
         "legendgroup": "R$ 78800.00",
         "marker": {
          "color": "#FFA15A",
          "pattern": {
           "shape": ""
          }
         },
         "name": "R$ 78800.00",
         "offsetgroup": "R$ 78800.00",
         "orientation": "v",
         "showlegend": true,
         "textposition": "auto",
         "type": "bar",
         "x": [
          "Antônio"
         ],
         "xaxis": "x",
         "y": [
          "R$ 78800.00"
         ],
         "yaxis": "y"
        },
        {
         "alignmentgroup": "True",
         "hovertemplate": "Preco Unitario=%{y}<br>Primeiro Nome=%{x}<extra></extra>",
         "legendgroup": "R$ 77000.00",
         "marker": {
          "color": "#19d3f3",
          "pattern": {
           "shape": ""
          }
         },
         "name": "R$ 77000.00",
         "offsetgroup": "R$ 77000.00",
         "orientation": "v",
         "showlegend": true,
         "textposition": "auto",
         "type": "bar",
         "x": [
          "Camila",
          "Raísa"
         ],
         "xaxis": "x",
         "y": [
          "R$ 77000.00",
          "R$ 77000.00"
         ],
         "yaxis": "y"
        },
        {
         "alignmentgroup": "True",
         "hovertemplate": "Preco Unitario=%{y}<br>Primeiro Nome=%{x}<extra></extra>",
         "legendgroup": "R$ 76900.00",
         "marker": {
          "color": "#FF6692",
          "pattern": {
           "shape": ""
          }
         },
         "name": "R$ 76900.00",
         "offsetgroup": "R$ 76900.00",
         "orientation": "v",
         "showlegend": true,
         "textposition": "auto",
         "type": "bar",
         "x": [
          "Karina"
         ],
         "xaxis": "x",
         "y": [
          "R$ 76900.00"
         ],
         "yaxis": "y"
        },
        {
         "alignmentgroup": "True",
         "hovertemplate": "Preco Unitario=%{y}<br>Primeiro Nome=%{x}<extra></extra>",
         "legendgroup": "R$ 76800.00",
         "marker": {
          "color": "#B6E880",
          "pattern": {
           "shape": ""
          }
         },
         "name": "R$ 76800.00",
         "offsetgroup": "R$ 76800.00",
         "orientation": "v",
         "showlegend": true,
         "textposition": "auto",
         "type": "bar",
         "x": [
          "Adriane"
         ],
         "xaxis": "x",
         "y": [
          "R$ 76800.00"
         ],
         "yaxis": "y"
        },
        {
         "alignmentgroup": "True",
         "hovertemplate": "Preco Unitario=%{y}<br>Primeiro Nome=%{x}<extra></extra>",
         "legendgroup": "R$ 74800.00",
         "marker": {
          "color": "#FF97FF",
          "pattern": {
           "shape": ""
          }
         },
         "name": "R$ 74800.00",
         "offsetgroup": "R$ 74800.00",
         "orientation": "v",
         "showlegend": true,
         "textposition": "auto",
         "type": "bar",
         "x": [
          "Wen"
         ],
         "xaxis": "x",
         "y": [
          "R$ 74800.00"
         ],
         "yaxis": "y"
        },
        {
         "alignmentgroup": "True",
         "hovertemplate": "Preco Unitario=%{y}<br>Primeiro Nome=%{x}<extra></extra>",
         "legendgroup": "R$ 74400.00",
         "marker": {
          "color": "#FECB52",
          "pattern": {
           "shape": ""
          }
         },
         "name": "R$ 74400.00",
         "offsetgroup": "R$ 74400.00",
         "orientation": "v",
         "showlegend": true,
         "textposition": "auto",
         "type": "bar",
         "x": [
          "Júlio",
          "Brenno"
         ],
         "xaxis": "x",
         "y": [
          "R$ 74400.00",
          "R$ 74400.00"
         ],
         "yaxis": "y"
        },
        {
         "alignmentgroup": "True",
         "hovertemplate": "Preco Unitario=%{y}<br>Primeiro Nome=%{x}<extra></extra>",
         "legendgroup": "R$ 74200.00",
         "marker": {
          "color": "#636efa",
          "pattern": {
           "shape": ""
          }
         },
         "name": "R$ 74200.00",
         "offsetgroup": "R$ 74200.00",
         "orientation": "v",
         "showlegend": true,
         "textposition": "auto",
         "type": "bar",
         "x": [
          "Kim"
         ],
         "xaxis": "x",
         "y": [
          "R$ 74200.00"
         ],
         "yaxis": "y"
        },
        {
         "alignmentgroup": "True",
         "hovertemplate": "Preco Unitario=%{y}<br>Primeiro Nome=%{x}<extra></extra>",
         "legendgroup": "R$ 73400.00",
         "marker": {
          "color": "#EF553B",
          "pattern": {
           "shape": ""
          }
         },
         "name": "R$ 73400.00",
         "offsetgroup": "R$ 73400.00",
         "orientation": "v",
         "showlegend": true,
         "textposition": "auto",
         "type": "bar",
         "x": [
          "Rachel"
         ],
         "xaxis": "x",
         "y": [
          "R$ 73400.00"
         ],
         "yaxis": "y"
        },
        {
         "alignmentgroup": "True",
         "hovertemplate": "Preco Unitario=%{y}<br>Primeiro Nome=%{x}<extra></extra>",
         "legendgroup": "R$ 72200.00",
         "marker": {
          "color": "#00cc96",
          "pattern": {
           "shape": ""
          }
         },
         "name": "R$ 72200.00",
         "offsetgroup": "R$ 72200.00",
         "orientation": "v",
         "showlegend": true,
         "textposition": "auto",
         "type": "bar",
         "x": [
          "Igor"
         ],
         "xaxis": "x",
         "y": [
          "R$ 72200.00"
         ],
         "yaxis": "y"
        },
        {
         "alignmentgroup": "True",
         "hovertemplate": "Preco Unitario=%{y}<br>Primeiro Nome=%{x}<extra></extra>",
         "legendgroup": "R$ 69700.00",
         "marker": {
          "color": "#ab63fa",
          "pattern": {
           "shape": ""
          }
         },
         "name": "R$ 69700.00",
         "offsetgroup": "R$ 69700.00",
         "orientation": "v",
         "showlegend": true,
         "textposition": "auto",
         "type": "bar",
         "x": [
          "Ruan"
         ],
         "xaxis": "x",
         "y": [
          "R$ 69700.00"
         ],
         "yaxis": "y"
        },
        {
         "alignmentgroup": "True",
         "hovertemplate": "Preco Unitario=%{y}<br>Primeiro Nome=%{x}<extra></extra>",
         "legendgroup": "R$ 69300.00",
         "marker": {
          "color": "#FFA15A",
          "pattern": {
           "shape": ""
          }
         },
         "name": "R$ 69300.00",
         "offsetgroup": "R$ 69300.00",
         "orientation": "v",
         "showlegend": true,
         "textposition": "auto",
         "type": "bar",
         "x": [
          "Julie"
         ],
         "xaxis": "x",
         "y": [
          "R$ 69300.00"
         ],
         "yaxis": "y"
        },
        {
         "alignmentgroup": "True",
         "hovertemplate": "Preco Unitario=%{y}<br>Primeiro Nome=%{x}<extra></extra>",
         "legendgroup": "R$ 65800.00",
         "marker": {
          "color": "#19d3f3",
          "pattern": {
           "shape": ""
          }
         },
         "name": "R$ 65800.00",
         "offsetgroup": "R$ 65800.00",
         "orientation": "v",
         "showlegend": true,
         "textposition": "auto",
         "type": "bar",
         "x": [
          "Luísa"
         ],
         "xaxis": "x",
         "y": [
          "R$ 65800.00"
         ],
         "yaxis": "y"
        },
        {
         "alignmentgroup": "True",
         "hovertemplate": "Preco Unitario=%{y}<br>Primeiro Nome=%{x}<extra></extra>",
         "legendgroup": "R$ 64400.00",
         "marker": {
          "color": "#FF6692",
          "pattern": {
           "shape": ""
          }
         },
         "name": "R$ 64400.00",
         "offsetgroup": "R$ 64400.00",
         "orientation": "v",
         "showlegend": true,
         "textposition": "auto",
         "type": "bar",
         "x": [
          "Isabelle"
         ],
         "xaxis": "x",
         "y": [
          "R$ 64400.00"
         ],
         "yaxis": "y"
        },
        {
         "alignmentgroup": "True",
         "hovertemplate": "Preco Unitario=%{y}<br>Primeiro Nome=%{x}<extra></extra>",
         "legendgroup": "R$ 63600.00",
         "marker": {
          "color": "#B6E880",
          "pattern": {
           "shape": ""
          }
         },
         "name": "R$ 63600.00",
         "offsetgroup": "R$ 63600.00",
         "orientation": "v",
         "showlegend": true,
         "textposition": "auto",
         "type": "bar",
         "x": [
          "Cézar"
         ],
         "xaxis": "x",
         "y": [
          "R$ 63600.00"
         ],
         "yaxis": "y"
        },
        {
         "alignmentgroup": "True",
         "hovertemplate": "Preco Unitario=%{y}<br>Primeiro Nome=%{x}<extra></extra>",
         "legendgroup": "R$ 63500.00",
         "marker": {
          "color": "#FF97FF",
          "pattern": {
           "shape": ""
          }
         },
         "name": "R$ 63500.00",
         "offsetgroup": "R$ 63500.00",
         "orientation": "v",
         "showlegend": true,
         "textposition": "auto",
         "type": "bar",
         "x": [
          "Tadeu"
         ],
         "xaxis": "x",
         "y": [
          "R$ 63500.00"
         ],
         "yaxis": "y"
        },
        {
         "alignmentgroup": "True",
         "hovertemplate": "Preco Unitario=%{y}<br>Primeiro Nome=%{x}<extra></extra>",
         "legendgroup": "R$ 63200.00",
         "marker": {
          "color": "#FECB52",
          "pattern": {
           "shape": ""
          }
         },
         "name": "R$ 63200.00",
         "offsetgroup": "R$ 63200.00",
         "orientation": "v",
         "showlegend": true,
         "textposition": "auto",
         "type": "bar",
         "x": [
          "Thais"
         ],
         "xaxis": "x",
         "y": [
          "R$ 63200.00"
         ],
         "yaxis": "y"
        },
        {
         "alignmentgroup": "True",
         "hovertemplate": "Preco Unitario=%{y}<br>Primeiro Nome=%{x}<extra></extra>",
         "legendgroup": "R$ 62900.00",
         "marker": {
          "color": "#636efa",
          "pattern": {
           "shape": ""
          }
         },
         "name": "R$ 62900.00",
         "offsetgroup": "R$ 62900.00",
         "orientation": "v",
         "showlegend": true,
         "textposition": "auto",
         "type": "bar",
         "x": [
          "Dykson"
         ],
         "xaxis": "x",
         "y": [
          "R$ 62900.00"
         ],
         "yaxis": "y"
        },
        {
         "alignmentgroup": "True",
         "hovertemplate": "Preco Unitario=%{y}<br>Primeiro Nome=%{x}<extra></extra>",
         "legendgroup": "R$ 62200.00",
         "marker": {
          "color": "#EF553B",
          "pattern": {
           "shape": ""
          }
         },
         "name": "R$ 62200.00",
         "offsetgroup": "R$ 62200.00",
         "orientation": "v",
         "showlegend": true,
         "textposition": "auto",
         "type": "bar",
         "x": [
          "Katharina",
          "Vivianne"
         ],
         "xaxis": "x",
         "y": [
          "R$ 62200.00",
          "R$ 62200.00"
         ],
         "yaxis": "y"
        },
        {
         "alignmentgroup": "True",
         "hovertemplate": "Preco Unitario=%{y}<br>Primeiro Nome=%{x}<extra></extra>",
         "legendgroup": "R$ 60300.00",
         "marker": {
          "color": "#00cc96",
          "pattern": {
           "shape": ""
          }
         },
         "name": "R$ 60300.00",
         "offsetgroup": "R$ 60300.00",
         "orientation": "v",
         "showlegend": true,
         "textposition": "auto",
         "type": "bar",
         "x": [
          "Iuri",
          "Raíza"
         ],
         "xaxis": "x",
         "y": [
          "R$ 60300.00",
          "R$ 60300.00"
         ],
         "yaxis": "y"
        },
        {
         "alignmentgroup": "True",
         "hovertemplate": "Preco Unitario=%{y}<br>Primeiro Nome=%{x}<extra></extra>",
         "legendgroup": "R$ 60200.00",
         "marker": {
          "color": "#ab63fa",
          "pattern": {
           "shape": ""
          }
         },
         "name": "R$ 60200.00",
         "offsetgroup": "R$ 60200.00",
         "orientation": "v",
         "showlegend": true,
         "textposition": "auto",
         "type": "bar",
         "x": [
          "Marcos"
         ],
         "xaxis": "x",
         "y": [
          "R$ 60200.00"
         ],
         "yaxis": "y"
        },
        {
         "alignmentgroup": "True",
         "hovertemplate": "Preco Unitario=%{y}<br>Primeiro Nome=%{x}<extra></extra>",
         "legendgroup": "R$ 59600.00",
         "marker": {
          "color": "#FFA15A",
          "pattern": {
           "shape": ""
          }
         },
         "name": "R$ 59600.00",
         "offsetgroup": "R$ 59600.00",
         "orientation": "v",
         "showlegend": true,
         "textposition": "auto",
         "type": "bar",
         "x": [
          "Allan"
         ],
         "xaxis": "x",
         "y": [
          "R$ 59600.00"
         ],
         "yaxis": "y"
        },
        {
         "alignmentgroup": "True",
         "hovertemplate": "Preco Unitario=%{y}<br>Primeiro Nome=%{x}<extra></extra>",
         "legendgroup": "R$ 59100.00",
         "marker": {
          "color": "#19d3f3",
          "pattern": {
           "shape": ""
          }
         },
         "name": "R$ 59100.00",
         "offsetgroup": "R$ 59100.00",
         "orientation": "v",
         "showlegend": true,
         "textposition": "auto",
         "type": "bar",
         "x": [
          "Miguel"
         ],
         "xaxis": "x",
         "y": [
          "R$ 59100.00"
         ],
         "yaxis": "y"
        },
        {
         "alignmentgroup": "True",
         "hovertemplate": "Preco Unitario=%{y}<br>Primeiro Nome=%{x}<extra></extra>",
         "legendgroup": "R$ 58700.00",
         "marker": {
          "color": "#FF6692",
          "pattern": {
           "shape": ""
          }
         },
         "name": "R$ 58700.00",
         "offsetgroup": "R$ 58700.00",
         "orientation": "v",
         "showlegend": true,
         "textposition": "auto",
         "type": "bar",
         "x": [
          "Débora",
          "Giovanna"
         ],
         "xaxis": "x",
         "y": [
          "R$ 58700.00",
          "R$ 58700.00"
         ],
         "yaxis": "y"
        },
        {
         "alignmentgroup": "True",
         "hovertemplate": "Preco Unitario=%{y}<br>Primeiro Nome=%{x}<extra></extra>",
         "legendgroup": "R$ 58600.00",
         "marker": {
          "color": "#B6E880",
          "pattern": {
           "shape": ""
          }
         },
         "name": "R$ 58600.00",
         "offsetgroup": "R$ 58600.00",
         "orientation": "v",
         "showlegend": true,
         "textposition": "auto",
         "type": "bar",
         "x": [
          "Nina"
         ],
         "xaxis": "x",
         "y": [
          "R$ 58600.00"
         ],
         "yaxis": "y"
        },
        {
         "alignmentgroup": "True",
         "hovertemplate": "Preco Unitario=%{y}<br>Primeiro Nome=%{x}<extra></extra>",
         "legendgroup": "R$ 58500.00",
         "marker": {
          "color": "#FF97FF",
          "pattern": {
           "shape": ""
          }
         },
         "name": "R$ 58500.00",
         "offsetgroup": "R$ 58500.00",
         "orientation": "v",
         "showlegend": true,
         "textposition": "auto",
         "type": "bar",
         "x": [
          "Diogo"
         ],
         "xaxis": "x",
         "y": [
          "R$ 58500.00"
         ],
         "yaxis": "y"
        },
        {
         "alignmentgroup": "True",
         "hovertemplate": "Preco Unitario=%{y}<br>Primeiro Nome=%{x}<extra></extra>",
         "legendgroup": "R$ 57600.00",
         "marker": {
          "color": "#FECB52",
          "pattern": {
           "shape": ""
          }
         },
         "name": "R$ 57600.00",
         "offsetgroup": "R$ 57600.00",
         "orientation": "v",
         "showlegend": true,
         "textposition": "auto",
         "type": "bar",
         "x": [
          "Victoria"
         ],
         "xaxis": "x",
         "y": [
          "R$ 57600.00"
         ],
         "yaxis": "y"
        },
        {
         "alignmentgroup": "True",
         "hovertemplate": "Preco Unitario=%{y}<br>Primeiro Nome=%{x}<extra></extra>",
         "legendgroup": "R$ 56800.00",
         "marker": {
          "color": "#636efa",
          "pattern": {
           "shape": ""
          }
         },
         "name": "R$ 56800.00",
         "offsetgroup": "R$ 56800.00",
         "orientation": "v",
         "showlegend": true,
         "textposition": "auto",
         "type": "bar",
         "x": [
          "Laura"
         ],
         "xaxis": "x",
         "y": [
          "R$ 56800.00"
         ],
         "yaxis": "y"
        },
        {
         "alignmentgroup": "True",
         "hovertemplate": "Preco Unitario=%{y}<br>Primeiro Nome=%{x}<extra></extra>",
         "legendgroup": "R$ 56600.00",
         "marker": {
          "color": "#EF553B",
          "pattern": {
           "shape": ""
          }
         },
         "name": "R$ 56600.00",
         "offsetgroup": "R$ 56600.00",
         "orientation": "v",
         "showlegend": true,
         "textposition": "auto",
         "type": "bar",
         "x": [
          "Samara"
         ],
         "xaxis": "x",
         "y": [
          "R$ 56600.00"
         ],
         "yaxis": "y"
        },
        {
         "alignmentgroup": "True",
         "hovertemplate": "Preco Unitario=%{y}<br>Primeiro Nome=%{x}<extra></extra>",
         "legendgroup": "R$ 56300.00",
         "marker": {
          "color": "#00cc96",
          "pattern": {
           "shape": ""
          }
         },
         "name": "R$ 56300.00",
         "offsetgroup": "R$ 56300.00",
         "orientation": "v",
         "showlegend": true,
         "textposition": "auto",
         "type": "bar",
         "x": [
          "Philipe"
         ],
         "xaxis": "x",
         "y": [
          "R$ 56300.00"
         ],
         "yaxis": "y"
        },
        {
         "alignmentgroup": "True",
         "hovertemplate": "Preco Unitario=%{y}<br>Primeiro Nome=%{x}<extra></extra>",
         "legendgroup": "R$ 56200.00",
         "marker": {
          "color": "#ab63fa",
          "pattern": {
           "shape": ""
          }
         },
         "name": "R$ 56200.00",
         "offsetgroup": "R$ 56200.00",
         "orientation": "v",
         "showlegend": true,
         "textposition": "auto",
         "type": "bar",
         "x": [
          "Paloma"
         ],
         "xaxis": "x",
         "y": [
          "R$ 56200.00"
         ],
         "yaxis": "y"
        },
        {
         "alignmentgroup": "True",
         "hovertemplate": "Preco Unitario=%{y}<br>Primeiro Nome=%{x}<extra></extra>",
         "legendgroup": "R$ 56100.00",
         "marker": {
          "color": "#FFA15A",
          "pattern": {
           "shape": ""
          }
         },
         "name": "R$ 56100.00",
         "offsetgroup": "R$ 56100.00",
         "orientation": "v",
         "showlegend": true,
         "textposition": "auto",
         "type": "bar",
         "x": [
          "Paola"
         ],
         "xaxis": "x",
         "y": [
          "R$ 56100.00"
         ],
         "yaxis": "y"
        },
        {
         "alignmentgroup": "True",
         "hovertemplate": "Preco Unitario=%{y}<br>Primeiro Nome=%{x}<extra></extra>",
         "legendgroup": "R$ 55700.00",
         "marker": {
          "color": "#19d3f3",
          "pattern": {
           "shape": ""
          }
         },
         "name": "R$ 55700.00",
         "offsetgroup": "R$ 55700.00",
         "orientation": "v",
         "showlegend": true,
         "textposition": "auto",
         "type": "bar",
         "x": [
          "Carla"
         ],
         "xaxis": "x",
         "y": [
          "R$ 55700.00"
         ],
         "yaxis": "y"
        },
        {
         "alignmentgroup": "True",
         "hovertemplate": "Preco Unitario=%{y}<br>Primeiro Nome=%{x}<extra></extra>",
         "legendgroup": "R$ 55500.00",
         "marker": {
          "color": "#FF6692",
          "pattern": {
           "shape": ""
          }
         },
         "name": "R$ 55500.00",
         "offsetgroup": "R$ 55500.00",
         "orientation": "v",
         "showlegend": true,
         "textposition": "auto",
         "type": "bar",
         "x": [
          "Bernard",
          "Catarina"
         ],
         "xaxis": "x",
         "y": [
          "R$ 55500.00",
          "R$ 55500.00"
         ],
         "yaxis": "y"
        },
        {
         "alignmentgroup": "True",
         "hovertemplate": "Preco Unitario=%{y}<br>Primeiro Nome=%{x}<extra></extra>",
         "legendgroup": "R$ 54400.00",
         "marker": {
          "color": "#B6E880",
          "pattern": {
           "shape": ""
          }
         },
         "name": "R$ 54400.00",
         "offsetgroup": "R$ 54400.00",
         "orientation": "v",
         "showlegend": true,
         "textposition": "auto",
         "type": "bar",
         "x": [
          "Thayna"
         ],
         "xaxis": "x",
         "y": [
          "R$ 54400.00"
         ],
         "yaxis": "y"
        },
        {
         "alignmentgroup": "True",
         "hovertemplate": "Preco Unitario=%{y}<br>Primeiro Nome=%{x}<extra></extra>",
         "legendgroup": "R$ 53900.00",
         "marker": {
          "color": "#FF97FF",
          "pattern": {
           "shape": ""
          }
         },
         "name": "R$ 53900.00",
         "offsetgroup": "R$ 53900.00",
         "orientation": "v",
         "showlegend": true,
         "textposition": "auto",
         "type": "bar",
         "x": [
          "Wellington",
          "Paulo"
         ],
         "xaxis": "x",
         "y": [
          "R$ 53900.00",
          "R$ 53900.00"
         ],
         "yaxis": "y"
        },
        {
         "alignmentgroup": "True",
         "hovertemplate": "Preco Unitario=%{y}<br>Primeiro Nome=%{x}<extra></extra>",
         "legendgroup": "R$ 53600.00",
         "marker": {
          "color": "#FECB52",
          "pattern": {
           "shape": ""
          }
         },
         "name": "R$ 53600.00",
         "offsetgroup": "R$ 53600.00",
         "orientation": "v",
         "showlegend": true,
         "textposition": "auto",
         "type": "bar",
         "x": [
          "Kimberly"
         ],
         "xaxis": "x",
         "y": [
          "R$ 53600.00"
         ],
         "yaxis": "y"
        },
        {
         "alignmentgroup": "True",
         "hovertemplate": "Preco Unitario=%{y}<br>Primeiro Nome=%{x}<extra></extra>",
         "legendgroup": "R$ 53500.00",
         "marker": {
          "color": "#636efa",
          "pattern": {
           "shape": ""
          }
         },
         "name": "R$ 53500.00",
         "offsetgroup": "R$ 53500.00",
         "orientation": "v",
         "showlegend": true,
         "textposition": "auto",
         "type": "bar",
         "x": [
          "Lara"
         ],
         "xaxis": "x",
         "y": [
          "R$ 53500.00"
         ],
         "yaxis": "y"
        },
        {
         "alignmentgroup": "True",
         "hovertemplate": "Preco Unitario=%{y}<br>Primeiro Nome=%{x}<extra></extra>",
         "legendgroup": "R$ 53300.00",
         "marker": {
          "color": "#EF553B",
          "pattern": {
           "shape": ""
          }
         },
         "name": "R$ 53300.00",
         "offsetgroup": "R$ 53300.00",
         "orientation": "v",
         "showlegend": true,
         "textposition": "auto",
         "type": "bar",
         "x": [
          "Sylvio"
         ],
         "xaxis": "x",
         "y": [
          "R$ 53300.00"
         ],
         "yaxis": "y"
        },
        {
         "alignmentgroup": "True",
         "hovertemplate": "Preco Unitario=%{y}<br>Primeiro Nome=%{x}<extra></extra>",
         "legendgroup": "R$ 53000.00",
         "marker": {
          "color": "#00cc96",
          "pattern": {
           "shape": ""
          }
         },
         "name": "R$ 53000.00",
         "offsetgroup": "R$ 53000.00",
         "orientation": "v",
         "showlegend": true,
         "textposition": "auto",
         "type": "bar",
         "x": [
          "Camille"
         ],
         "xaxis": "x",
         "y": [
          "R$ 53000.00"
         ],
         "yaxis": "y"
        },
        {
         "alignmentgroup": "True",
         "hovertemplate": "Preco Unitario=%{y}<br>Primeiro Nome=%{x}<extra></extra>",
         "legendgroup": "R$ 52400.00",
         "marker": {
          "color": "#ab63fa",
          "pattern": {
           "shape": ""
          }
         },
         "name": "R$ 52400.00",
         "offsetgroup": "R$ 52400.00",
         "orientation": "v",
         "showlegend": true,
         "textposition": "auto",
         "type": "bar",
         "x": [
          "Thainá"
         ],
         "xaxis": "x",
         "y": [
          "R$ 52400.00"
         ],
         "yaxis": "y"
        },
        {
         "alignmentgroup": "True",
         "hovertemplate": "Preco Unitario=%{y}<br>Primeiro Nome=%{x}<extra></extra>",
         "legendgroup": "R$ 52100.00",
         "marker": {
          "color": "#FFA15A",
          "pattern": {
           "shape": ""
          }
         },
         "name": "R$ 52100.00",
         "offsetgroup": "R$ 52100.00",
         "orientation": "v",
         "showlegend": true,
         "textposition": "auto",
         "type": "bar",
         "x": [
          "Tiago"
         ],
         "xaxis": "x",
         "y": [
          "R$ 52100.00"
         ],
         "yaxis": "y"
        },
        {
         "alignmentgroup": "True",
         "hovertemplate": "Preco Unitario=%{y}<br>Primeiro Nome=%{x}<extra></extra>",
         "legendgroup": "R$ 52000.00",
         "marker": {
          "color": "#19d3f3",
          "pattern": {
           "shape": ""
          }
         },
         "name": "R$ 52000.00",
         "offsetgroup": "R$ 52000.00",
         "orientation": "v",
         "showlegend": true,
         "textposition": "auto",
         "type": "bar",
         "x": [
          "Helena"
         ],
         "xaxis": "x",
         "y": [
          "R$ 52000.00"
         ],
         "yaxis": "y"
        },
        {
         "alignmentgroup": "True",
         "hovertemplate": "Preco Unitario=%{y}<br>Primeiro Nome=%{x}<extra></extra>",
         "legendgroup": "R$ 51700.00",
         "marker": {
          "color": "#FF6692",
          "pattern": {
           "shape": ""
          }
         },
         "name": "R$ 51700.00",
         "offsetgroup": "R$ 51700.00",
         "orientation": "v",
         "showlegend": true,
         "textposition": "auto",
         "type": "bar",
         "x": [
          "Giselia"
         ],
         "xaxis": "x",
         "y": [
          "R$ 51700.00"
         ],
         "yaxis": "y"
        },
        {
         "alignmentgroup": "True",
         "hovertemplate": "Preco Unitario=%{y}<br>Primeiro Nome=%{x}<extra></extra>",
         "legendgroup": "R$ 51600.00",
         "marker": {
          "color": "#B6E880",
          "pattern": {
           "shape": ""
          }
         },
         "name": "R$ 51600.00",
         "offsetgroup": "R$ 51600.00",
         "orientation": "v",
         "showlegend": true,
         "textposition": "auto",
         "type": "bar",
         "x": [
          "Itai"
         ],
         "xaxis": "x",
         "y": [
          "R$ 51600.00"
         ],
         "yaxis": "y"
        },
        {
         "alignmentgroup": "True",
         "hovertemplate": "Preco Unitario=%{y}<br>Primeiro Nome=%{x}<extra></extra>",
         "legendgroup": "R$ 51500.00",
         "marker": {
          "color": "#FF97FF",
          "pattern": {
           "shape": ""
          }
         },
         "name": "R$ 51500.00",
         "offsetgroup": "R$ 51500.00",
         "orientation": "v",
         "showlegend": true,
         "textposition": "auto",
         "type": "bar",
         "x": [
          "Norman"
         ],
         "xaxis": "x",
         "y": [
          "R$ 51500.00"
         ],
         "yaxis": "y"
        },
        {
         "alignmentgroup": "True",
         "hovertemplate": "Preco Unitario=%{y}<br>Primeiro Nome=%{x}<extra></extra>",
         "legendgroup": "R$ 50800.00",
         "marker": {
          "color": "#FECB52",
          "pattern": {
           "shape": ""
          }
         },
         "name": "R$ 50800.00",
         "offsetgroup": "R$ 50800.00",
         "orientation": "v",
         "showlegend": true,
         "textposition": "auto",
         "type": "bar",
         "x": [
          "Ylana"
         ],
         "xaxis": "x",
         "y": [
          "R$ 50800.00"
         ],
         "yaxis": "y"
        },
        {
         "alignmentgroup": "True",
         "hovertemplate": "Preco Unitario=%{y}<br>Primeiro Nome=%{x}<extra></extra>",
         "legendgroup": "R$ 50600.00",
         "marker": {
          "color": "#636efa",
          "pattern": {
           "shape": ""
          }
         },
         "name": "R$ 50600.00",
         "offsetgroup": "R$ 50600.00",
         "orientation": "v",
         "showlegend": true,
         "textposition": "auto",
         "type": "bar",
         "x": [
          "Célio"
         ],
         "xaxis": "x",
         "y": [
          "R$ 50600.00"
         ],
         "yaxis": "y"
        },
        {
         "alignmentgroup": "True",
         "hovertemplate": "Preco Unitario=%{y}<br>Primeiro Nome=%{x}<extra></extra>",
         "legendgroup": "R$ 50300.00",
         "marker": {
          "color": "#EF553B",
          "pattern": {
           "shape": ""
          }
         },
         "name": "R$ 50300.00",
         "offsetgroup": "R$ 50300.00",
         "orientation": "v",
         "showlegend": true,
         "textposition": "auto",
         "type": "bar",
         "x": [
          "Viviane"
         ],
         "xaxis": "x",
         "y": [
          "R$ 50300.00"
         ],
         "yaxis": "y"
        },
        {
         "alignmentgroup": "True",
         "hovertemplate": "Preco Unitario=%{y}<br>Primeiro Nome=%{x}<extra></extra>",
         "legendgroup": "R$ 49800.00",
         "marker": {
          "color": "#00cc96",
          "pattern": {
           "shape": ""
          }
         },
         "name": "R$ 49800.00",
         "offsetgroup": "R$ 49800.00",
         "orientation": "v",
         "showlegend": true,
         "textposition": "auto",
         "type": "bar",
         "x": [
          "Anízio"
         ],
         "xaxis": "x",
         "y": [
          "R$ 49800.00"
         ],
         "yaxis": "y"
        },
        {
         "alignmentgroup": "True",
         "hovertemplate": "Preco Unitario=%{y}<br>Primeiro Nome=%{x}<extra></extra>",
         "legendgroup": "R$ 49200.00",
         "marker": {
          "color": "#ab63fa",
          "pattern": {
           "shape": ""
          }
         },
         "name": "R$ 49200.00",
         "offsetgroup": "R$ 49200.00",
         "orientation": "v",
         "showlegend": true,
         "textposition": "auto",
         "type": "bar",
         "x": [
          "Hanna"
         ],
         "xaxis": "x",
         "y": [
          "R$ 49200.00"
         ],
         "yaxis": "y"
        },
        {
         "alignmentgroup": "True",
         "hovertemplate": "Preco Unitario=%{y}<br>Primeiro Nome=%{x}<extra></extra>",
         "legendgroup": "R$ 47800.00",
         "marker": {
          "color": "#FFA15A",
          "pattern": {
           "shape": ""
          }
         },
         "name": "R$ 47800.00",
         "offsetgroup": "R$ 47800.00",
         "orientation": "v",
         "showlegend": true,
         "textposition": "auto",
         "type": "bar",
         "x": [
          "Glenda"
         ],
         "xaxis": "x",
         "y": [
          "R$ 47800.00"
         ],
         "yaxis": "y"
        },
        {
         "alignmentgroup": "True",
         "hovertemplate": "Preco Unitario=%{y}<br>Primeiro Nome=%{x}<extra></extra>",
         "legendgroup": "R$ 47600.00",
         "marker": {
          "color": "#19d3f3",
          "pattern": {
           "shape": ""
          }
         },
         "name": "R$ 47600.00",
         "offsetgroup": "R$ 47600.00",
         "orientation": "v",
         "showlegend": true,
         "textposition": "auto",
         "type": "bar",
         "x": [
          "Tainah"
         ],
         "xaxis": "x",
         "y": [
          "R$ 47600.00"
         ],
         "yaxis": "y"
        },
        {
         "alignmentgroup": "True",
         "hovertemplate": "Preco Unitario=%{y}<br>Primeiro Nome=%{x}<extra></extra>",
         "legendgroup": "R$ 47100.00",
         "marker": {
          "color": "#FF6692",
          "pattern": {
           "shape": ""
          }
         },
         "name": "R$ 47100.00",
         "offsetgroup": "R$ 47100.00",
         "orientation": "v",
         "showlegend": true,
         "textposition": "auto",
         "type": "bar",
         "x": [
          "Tayla"
         ],
         "xaxis": "x",
         "y": [
          "R$ 47100.00"
         ],
         "yaxis": "y"
        },
        {
         "alignmentgroup": "True",
         "hovertemplate": "Preco Unitario=%{y}<br>Primeiro Nome=%{x}<extra></extra>",
         "legendgroup": "R$ 46300.00",
         "marker": {
          "color": "#B6E880",
          "pattern": {
           "shape": ""
          }
         },
         "name": "R$ 46300.00",
         "offsetgroup": "R$ 46300.00",
         "orientation": "v",
         "showlegend": true,
         "textposition": "auto",
         "type": "bar",
         "x": [
          "Leonardo"
         ],
         "xaxis": "x",
         "y": [
          "R$ 46300.00"
         ],
         "yaxis": "y"
        },
        {
         "alignmentgroup": "True",
         "hovertemplate": "Preco Unitario=%{y}<br>Primeiro Nome=%{x}<extra></extra>",
         "legendgroup": "R$ 45800.00",
         "marker": {
          "color": "#FF97FF",
          "pattern": {
           "shape": ""
          }
         },
         "name": "R$ 45800.00",
         "offsetgroup": "R$ 45800.00",
         "orientation": "v",
         "showlegend": true,
         "textposition": "auto",
         "type": "bar",
         "x": [
          "Clarissa"
         ],
         "xaxis": "x",
         "y": [
          "R$ 45800.00"
         ],
         "yaxis": "y"
        },
        {
         "alignmentgroup": "True",
         "hovertemplate": "Preco Unitario=%{y}<br>Primeiro Nome=%{x}<extra></extra>",
         "legendgroup": "R$ 45500.00",
         "marker": {
          "color": "#FECB52",
          "pattern": {
           "shape": ""
          }
         },
         "name": "R$ 45500.00",
         "offsetgroup": "R$ 45500.00",
         "orientation": "v",
         "showlegend": true,
         "textposition": "auto",
         "type": "bar",
         "x": [
          "Lunna"
         ],
         "xaxis": "x",
         "y": [
          "R$ 45500.00"
         ],
         "yaxis": "y"
        },
        {
         "alignmentgroup": "True",
         "hovertemplate": "Preco Unitario=%{y}<br>Primeiro Nome=%{x}<extra></extra>",
         "legendgroup": "R$ 44700.00",
         "marker": {
          "color": "#636efa",
          "pattern": {
           "shape": ""
          }
         },
         "name": "R$ 44700.00",
         "offsetgroup": "R$ 44700.00",
         "orientation": "v",
         "showlegend": true,
         "textposition": "auto",
         "type": "bar",
         "x": [
          "Debora"
         ],
         "xaxis": "x",
         "y": [
          "R$ 44700.00"
         ],
         "yaxis": "y"
        },
        {
         "alignmentgroup": "True",
         "hovertemplate": "Preco Unitario=%{y}<br>Primeiro Nome=%{x}<extra></extra>",
         "legendgroup": "R$ 44500.00",
         "marker": {
          "color": "#EF553B",
          "pattern": {
           "shape": ""
          }
         },
         "name": "R$ 44500.00",
         "offsetgroup": "R$ 44500.00",
         "orientation": "v",
         "showlegend": true,
         "textposition": "auto",
         "type": "bar",
         "x": [
          "William"
         ],
         "xaxis": "x",
         "y": [
          "R$ 44500.00"
         ],
         "yaxis": "y"
        },
        {
         "alignmentgroup": "True",
         "hovertemplate": "Preco Unitario=%{y}<br>Primeiro Nome=%{x}<extra></extra>",
         "legendgroup": "R$ 43900.00",
         "marker": {
          "color": "#00cc96",
          "pattern": {
           "shape": ""
          }
         },
         "name": "R$ 43900.00",
         "offsetgroup": "R$ 43900.00",
         "orientation": "v",
         "showlegend": true,
         "textposition": "auto",
         "type": "bar",
         "x": [
          "Alberto"
         ],
         "xaxis": "x",
         "y": [
          "R$ 43900.00"
         ],
         "yaxis": "y"
        },
        {
         "alignmentgroup": "True",
         "hovertemplate": "Preco Unitario=%{y}<br>Primeiro Nome=%{x}<extra></extra>",
         "legendgroup": "R$ 43800.00",
         "marker": {
          "color": "#ab63fa",
          "pattern": {
           "shape": ""
          }
         },
         "name": "R$ 43800.00",
         "offsetgroup": "R$ 43800.00",
         "orientation": "v",
         "showlegend": true,
         "textposition": "auto",
         "type": "bar",
         "x": [
          "Lenon"
         ],
         "xaxis": "x",
         "y": [
          "R$ 43800.00"
         ],
         "yaxis": "y"
        },
        {
         "alignmentgroup": "True",
         "hovertemplate": "Preco Unitario=%{y}<br>Primeiro Nome=%{x}<extra></extra>",
         "legendgroup": "R$ 43300.00",
         "marker": {
          "color": "#FFA15A",
          "pattern": {
           "shape": ""
          }
         },
         "name": "R$ 43300.00",
         "offsetgroup": "R$ 43300.00",
         "orientation": "v",
         "showlegend": true,
         "textposition": "auto",
         "type": "bar",
         "x": [
          "Mayara"
         ],
         "xaxis": "x",
         "y": [
          "R$ 43300.00"
         ],
         "yaxis": "y"
        },
        {
         "alignmentgroup": "True",
         "hovertemplate": "Preco Unitario=%{y}<br>Primeiro Nome=%{x}<extra></extra>",
         "legendgroup": "R$ 43200.00",
         "marker": {
          "color": "#19d3f3",
          "pattern": {
           "shape": ""
          }
         },
         "name": "R$ 43200.00",
         "offsetgroup": "R$ 43200.00",
         "orientation": "v",
         "showlegend": true,
         "textposition": "auto",
         "type": "bar",
         "x": [
          "Yasser"
         ],
         "xaxis": "x",
         "y": [
          "R$ 43200.00"
         ],
         "yaxis": "y"
        },
        {
         "alignmentgroup": "True",
         "hovertemplate": "Preco Unitario=%{y}<br>Primeiro Nome=%{x}<extra></extra>",
         "legendgroup": "R$ 42600.00",
         "marker": {
          "color": "#FF6692",
          "pattern": {
           "shape": ""
          }
         },
         "name": "R$ 42600.00",
         "offsetgroup": "R$ 42600.00",
         "orientation": "v",
         "showlegend": true,
         "textposition": "auto",
         "type": "bar",
         "x": [
          "Roger"
         ],
         "xaxis": "x",
         "y": [
          "R$ 42600.00"
         ],
         "yaxis": "y"
        },
        {
         "alignmentgroup": "True",
         "hovertemplate": "Preco Unitario=%{y}<br>Primeiro Nome=%{x}<extra></extra>",
         "legendgroup": "R$ 41800.00",
         "marker": {
          "color": "#B6E880",
          "pattern": {
           "shape": ""
          }
         },
         "name": "R$ 41800.00",
         "offsetgroup": "R$ 41800.00",
         "orientation": "v",
         "showlegend": true,
         "textposition": "auto",
         "type": "bar",
         "x": [
          "Elena"
         ],
         "xaxis": "x",
         "y": [
          "R$ 41800.00"
         ],
         "yaxis": "y"
        },
        {
         "alignmentgroup": "True",
         "hovertemplate": "Preco Unitario=%{y}<br>Primeiro Nome=%{x}<extra></extra>",
         "legendgroup": "R$ 41500.00",
         "marker": {
          "color": "#FF97FF",
          "pattern": {
           "shape": ""
          }
         },
         "name": "R$ 41500.00",
         "offsetgroup": "R$ 41500.00",
         "orientation": "v",
         "showlegend": true,
         "textposition": "auto",
         "type": "bar",
         "x": [
          "Cláudio"
         ],
         "xaxis": "x",
         "y": [
          "R$ 41500.00"
         ],
         "yaxis": "y"
        },
        {
         "alignmentgroup": "True",
         "hovertemplate": "Preco Unitario=%{y}<br>Primeiro Nome=%{x}<extra></extra>",
         "legendgroup": "R$ 41200.00",
         "marker": {
          "color": "#FECB52",
          "pattern": {
           "shape": ""
          }
         },
         "name": "R$ 41200.00",
         "offsetgroup": "R$ 41200.00",
         "orientation": "v",
         "showlegend": true,
         "textposition": "auto",
         "type": "bar",
         "x": [
          "Thomaz"
         ],
         "xaxis": "x",
         "y": [
          "R$ 41200.00"
         ],
         "yaxis": "y"
        },
        {
         "alignmentgroup": "True",
         "hovertemplate": "Preco Unitario=%{y}<br>Primeiro Nome=%{x}<extra></extra>",
         "legendgroup": "R$ 40800.00",
         "marker": {
          "color": "#636efa",
          "pattern": {
           "shape": ""
          }
         },
         "name": "R$ 40800.00",
         "offsetgroup": "R$ 40800.00",
         "orientation": "v",
         "showlegend": true,
         "textposition": "auto",
         "type": "bar",
         "x": [
          "Patrick"
         ],
         "xaxis": "x",
         "y": [
          "R$ 40800.00"
         ],
         "yaxis": "y"
        },
        {
         "alignmentgroup": "True",
         "hovertemplate": "Preco Unitario=%{y}<br>Primeiro Nome=%{x}<extra></extra>",
         "legendgroup": "R$ 40200.00",
         "marker": {
          "color": "#EF553B",
          "pattern": {
           "shape": ""
          }
         },
         "name": "R$ 40200.00",
         "offsetgroup": "R$ 40200.00",
         "orientation": "v",
         "showlegend": true,
         "textposition": "auto",
         "type": "bar",
         "x": [
          "Ravena"
         ],
         "xaxis": "x",
         "y": [
          "R$ 40200.00"
         ],
         "yaxis": "y"
        },
        {
         "alignmentgroup": "True",
         "hovertemplate": "Preco Unitario=%{y}<br>Primeiro Nome=%{x}<extra></extra>",
         "legendgroup": "R$ 39300.00",
         "marker": {
          "color": "#00cc96",
          "pattern": {
           "shape": ""
          }
         },
         "name": "R$ 39300.00",
         "offsetgroup": "R$ 39300.00",
         "orientation": "v",
         "showlegend": true,
         "textposition": "auto",
         "type": "bar",
         "x": [
          "Giovana",
          "Luã"
         ],
         "xaxis": "x",
         "y": [
          "R$ 39300.00",
          "R$ 39300.00"
         ],
         "yaxis": "y"
        },
        {
         "alignmentgroup": "True",
         "hovertemplate": "Preco Unitario=%{y}<br>Primeiro Nome=%{x}<extra></extra>",
         "legendgroup": "R$ 38400.00",
         "marker": {
          "color": "#ab63fa",
          "pattern": {
           "shape": ""
          }
         },
         "name": "R$ 38400.00",
         "offsetgroup": "R$ 38400.00",
         "orientation": "v",
         "showlegend": true,
         "textposition": "auto",
         "type": "bar",
         "x": [
          "Thayane"
         ],
         "xaxis": "x",
         "y": [
          "R$ 38400.00"
         ],
         "yaxis": "y"
        },
        {
         "alignmentgroup": "True",
         "hovertemplate": "Preco Unitario=%{y}<br>Primeiro Nome=%{x}<extra></extra>",
         "legendgroup": "R$ 38300.00",
         "marker": {
          "color": "#FFA15A",
          "pattern": {
           "shape": ""
          }
         },
         "name": "R$ 38300.00",
         "offsetgroup": "R$ 38300.00",
         "orientation": "v",
         "showlegend": true,
         "textposition": "auto",
         "type": "bar",
         "x": [
          "Erick"
         ],
         "xaxis": "x",
         "y": [
          "R$ 38300.00"
         ],
         "yaxis": "y"
        },
        {
         "alignmentgroup": "True",
         "hovertemplate": "Preco Unitario=%{y}<br>Primeiro Nome=%{x}<extra></extra>",
         "legendgroup": "R$ 38200.00",
         "marker": {
          "color": "#19d3f3",
          "pattern": {
           "shape": ""
          }
         },
         "name": "R$ 38200.00",
         "offsetgroup": "R$ 38200.00",
         "orientation": "v",
         "showlegend": true,
         "textposition": "auto",
         "type": "bar",
         "x": [
          "Morgana",
          "Lais"
         ],
         "xaxis": "x",
         "y": [
          "R$ 38200.00",
          "R$ 38200.00"
         ],
         "yaxis": "y"
        },
        {
         "alignmentgroup": "True",
         "hovertemplate": "Preco Unitario=%{y}<br>Primeiro Nome=%{x}<extra></extra>",
         "legendgroup": "R$ 37600.00",
         "marker": {
          "color": "#FF6692",
          "pattern": {
           "shape": ""
          }
         },
         "name": "R$ 37600.00",
         "offsetgroup": "R$ 37600.00",
         "orientation": "v",
         "showlegend": true,
         "textposition": "auto",
         "type": "bar",
         "x": [
          "Mônica"
         ],
         "xaxis": "x",
         "y": [
          "R$ 37600.00"
         ],
         "yaxis": "y"
        },
        {
         "alignmentgroup": "True",
         "hovertemplate": "Preco Unitario=%{y}<br>Primeiro Nome=%{x}<extra></extra>",
         "legendgroup": "R$ 37400.00",
         "marker": {
          "color": "#B6E880",
          "pattern": {
           "shape": ""
          }
         },
         "name": "R$ 37400.00",
         "offsetgroup": "R$ 37400.00",
         "orientation": "v",
         "showlegend": true,
         "textposition": "auto",
         "type": "bar",
         "x": [
          "Vinícius",
          "Guido"
         ],
         "xaxis": "x",
         "y": [
          "R$ 37400.00",
          "R$ 37400.00"
         ],
         "yaxis": "y"
        },
        {
         "alignmentgroup": "True",
         "hovertemplate": "Preco Unitario=%{y}<br>Primeiro Nome=%{x}<extra></extra>",
         "legendgroup": "R$ 37000.00",
         "marker": {
          "color": "#FF97FF",
          "pattern": {
           "shape": ""
          }
         },
         "name": "R$ 37000.00",
         "offsetgroup": "R$ 37000.00",
         "orientation": "v",
         "showlegend": true,
         "textposition": "auto",
         "type": "bar",
         "x": [
          "Thays"
         ],
         "xaxis": "x",
         "y": [
          "R$ 37000.00"
         ],
         "yaxis": "y"
        },
        {
         "alignmentgroup": "True",
         "hovertemplate": "Preco Unitario=%{y}<br>Primeiro Nome=%{x}<extra></extra>",
         "legendgroup": "R$ 36300.00",
         "marker": {
          "color": "#FECB52",
          "pattern": {
           "shape": ""
          }
         },
         "name": "R$ 36300.00",
         "offsetgroup": "R$ 36300.00",
         "orientation": "v",
         "showlegend": true,
         "textposition": "auto",
         "type": "bar",
         "x": [
          "Barbara"
         ],
         "xaxis": "x",
         "y": [
          "R$ 36300.00"
         ],
         "yaxis": "y"
        },
        {
         "alignmentgroup": "True",
         "hovertemplate": "Preco Unitario=%{y}<br>Primeiro Nome=%{x}<extra></extra>",
         "legendgroup": "R$ 36200.00",
         "marker": {
          "color": "#636efa",
          "pattern": {
           "shape": ""
          }
         },
         "name": "R$ 36200.00",
         "offsetgroup": "R$ 36200.00",
         "orientation": "v",
         "showlegend": true,
         "textposition": "auto",
         "type": "bar",
         "x": [
          "Nicolas"
         ],
         "xaxis": "x",
         "y": [
          "R$ 36200.00"
         ],
         "yaxis": "y"
        },
        {
         "alignmentgroup": "True",
         "hovertemplate": "Preco Unitario=%{y}<br>Primeiro Nome=%{x}<extra></extra>",
         "legendgroup": "R$ 35800.00",
         "marker": {
          "color": "#EF553B",
          "pattern": {
           "shape": ""
          }
         },
         "name": "R$ 35800.00",
         "offsetgroup": "R$ 35800.00",
         "orientation": "v",
         "showlegend": true,
         "textposition": "auto",
         "type": "bar",
         "x": [
          "Hygor"
         ],
         "xaxis": "x",
         "y": [
          "R$ 35800.00"
         ],
         "yaxis": "y"
        },
        {
         "alignmentgroup": "True",
         "hovertemplate": "Preco Unitario=%{y}<br>Primeiro Nome=%{x}<extra></extra>",
         "legendgroup": "R$ 35700.00",
         "marker": {
          "color": "#00cc96",
          "pattern": {
           "shape": ""
          }
         },
         "name": "R$ 35700.00",
         "offsetgroup": "R$ 35700.00",
         "orientation": "v",
         "showlegend": true,
         "textposition": "auto",
         "type": "bar",
         "x": [
          "Douglas"
         ],
         "xaxis": "x",
         "y": [
          "R$ 35700.00"
         ],
         "yaxis": "y"
        },
        {
         "alignmentgroup": "True",
         "hovertemplate": "Preco Unitario=%{y}<br>Primeiro Nome=%{x}<extra></extra>",
         "legendgroup": "R$ 35400.00",
         "marker": {
          "color": "#ab63fa",
          "pattern": {
           "shape": ""
          }
         },
         "name": "R$ 35400.00",
         "offsetgroup": "R$ 35400.00",
         "orientation": "v",
         "showlegend": true,
         "textposition": "auto",
         "type": "bar",
         "x": [
          "Willian"
         ],
         "xaxis": "x",
         "y": [
          "R$ 35400.00"
         ],
         "yaxis": "y"
        },
        {
         "alignmentgroup": "True",
         "hovertemplate": "Preco Unitario=%{y}<br>Primeiro Nome=%{x}<extra></extra>",
         "legendgroup": "R$ 35000.00",
         "marker": {
          "color": "#FFA15A",
          "pattern": {
           "shape": ""
          }
         },
         "name": "R$ 35000.00",
         "offsetgroup": "R$ 35000.00",
         "orientation": "v",
         "showlegend": true,
         "textposition": "auto",
         "type": "bar",
         "x": [
          "Jackson"
         ],
         "xaxis": "x",
         "y": [
          "R$ 35000.00"
         ],
         "yaxis": "y"
        },
        {
         "alignmentgroup": "True",
         "hovertemplate": "Preco Unitario=%{y}<br>Primeiro Nome=%{x}<extra></extra>",
         "legendgroup": "R$ 34800.00",
         "marker": {
          "color": "#19d3f3",
          "pattern": {
           "shape": ""
          }
         },
         "name": "R$ 34800.00",
         "offsetgroup": "R$ 34800.00",
         "orientation": "v",
         "showlegend": true,
         "textposition": "auto",
         "type": "bar",
         "x": [
          "Fillipe"
         ],
         "xaxis": "x",
         "y": [
          "R$ 34800.00"
         ],
         "yaxis": "y"
        },
        {
         "alignmentgroup": "True",
         "hovertemplate": "Preco Unitario=%{y}<br>Primeiro Nome=%{x}<extra></extra>",
         "legendgroup": "R$ 34100.00",
         "marker": {
          "color": "#FF6692",
          "pattern": {
           "shape": ""
          }
         },
         "name": "R$ 34100.00",
         "offsetgroup": "R$ 34100.00",
         "orientation": "v",
         "showlegend": true,
         "textposition": "auto",
         "type": "bar",
         "x": [
          "Alex"
         ],
         "xaxis": "x",
         "y": [
          "R$ 34100.00"
         ],
         "yaxis": "y"
        },
        {
         "alignmentgroup": "True",
         "hovertemplate": "Preco Unitario=%{y}<br>Primeiro Nome=%{x}<extra></extra>",
         "legendgroup": "R$ 33900.00",
         "marker": {
          "color": "#B6E880",
          "pattern": {
           "shape": ""
          }
         },
         "name": "R$ 33900.00",
         "offsetgroup": "R$ 33900.00",
         "orientation": "v",
         "showlegend": true,
         "textposition": "auto",
         "type": "bar",
         "x": [
          "Khaio"
         ],
         "xaxis": "x",
         "y": [
          "R$ 33900.00"
         ],
         "yaxis": "y"
        },
        {
         "alignmentgroup": "True",
         "hovertemplate": "Preco Unitario=%{y}<br>Primeiro Nome=%{x}<extra></extra>",
         "legendgroup": "R$ 33800.00",
         "marker": {
          "color": "#FF97FF",
          "pattern": {
           "shape": ""
          }
         },
         "name": "R$ 33800.00",
         "offsetgroup": "R$ 33800.00",
         "orientation": "v",
         "showlegend": true,
         "textposition": "auto",
         "type": "bar",
         "x": [
          "Jonas"
         ],
         "xaxis": "x",
         "y": [
          "R$ 33800.00"
         ],
         "yaxis": "y"
        },
        {
         "alignmentgroup": "True",
         "hovertemplate": "Preco Unitario=%{y}<br>Primeiro Nome=%{x}<extra></extra>",
         "legendgroup": "R$ 33600.00",
         "marker": {
          "color": "#FECB52",
          "pattern": {
           "shape": ""
          }
         },
         "name": "R$ 33600.00",
         "offsetgroup": "R$ 33600.00",
         "orientation": "v",
         "showlegend": true,
         "textposition": "auto",
         "type": "bar",
         "x": [
          "Laís"
         ],
         "xaxis": "x",
         "y": [
          "R$ 33600.00"
         ],
         "yaxis": "y"
        },
        {
         "alignmentgroup": "True",
         "hovertemplate": "Preco Unitario=%{y}<br>Primeiro Nome=%{x}<extra></extra>",
         "legendgroup": "R$ 33500.00",
         "marker": {
          "color": "#636efa",
          "pattern": {
           "shape": ""
          }
         },
         "name": "R$ 33500.00",
         "offsetgroup": "R$ 33500.00",
         "orientation": "v",
         "showlegend": true,
         "textposition": "auto",
         "type": "bar",
         "x": [
          "Júlia"
         ],
         "xaxis": "x",
         "y": [
          "R$ 33500.00"
         ],
         "yaxis": "y"
        },
        {
         "alignmentgroup": "True",
         "hovertemplate": "Preco Unitario=%{y}<br>Primeiro Nome=%{x}<extra></extra>",
         "legendgroup": "R$ 33300.00",
         "marker": {
          "color": "#EF553B",
          "pattern": {
           "shape": ""
          }
         },
         "name": "R$ 33300.00",
         "offsetgroup": "R$ 33300.00",
         "orientation": "v",
         "showlegend": true,
         "textposition": "auto",
         "type": "bar",
         "x": [
          "Caroll"
         ],
         "xaxis": "x",
         "y": [
          "R$ 33300.00"
         ],
         "yaxis": "y"
        },
        {
         "alignmentgroup": "True",
         "hovertemplate": "Preco Unitario=%{y}<br>Primeiro Nome=%{x}<extra></extra>",
         "legendgroup": "R$ 33100.00",
         "marker": {
          "color": "#00cc96",
          "pattern": {
           "shape": ""
          }
         },
         "name": "R$ 33100.00",
         "offsetgroup": "R$ 33100.00",
         "orientation": "v",
         "showlegend": true,
         "textposition": "auto",
         "type": "bar",
         "x": [
          "Natália"
         ],
         "xaxis": "x",
         "y": [
          "R$ 33100.00"
         ],
         "yaxis": "y"
        },
        {
         "alignmentgroup": "True",
         "hovertemplate": "Preco Unitario=%{y}<br>Primeiro Nome=%{x}<extra></extra>",
         "legendgroup": "R$ 33000.00",
         "marker": {
          "color": "#ab63fa",
          "pattern": {
           "shape": ""
          }
         },
         "name": "R$ 33000.00",
         "offsetgroup": "R$ 33000.00",
         "orientation": "v",
         "showlegend": true,
         "textposition": "auto",
         "type": "bar",
         "x": [
          "Leticia"
         ],
         "xaxis": "x",
         "y": [
          "R$ 33000.00"
         ],
         "yaxis": "y"
        },
        {
         "alignmentgroup": "True",
         "hovertemplate": "Preco Unitario=%{y}<br>Primeiro Nome=%{x}<extra></extra>",
         "legendgroup": "R$ 32700.00",
         "marker": {
          "color": "#FFA15A",
          "pattern": {
           "shape": ""
          }
         },
         "name": "R$ 32700.00",
         "offsetgroup": "R$ 32700.00",
         "orientation": "v",
         "showlegend": true,
         "textposition": "auto",
         "type": "bar",
         "x": [
          "Rojane"
         ],
         "xaxis": "x",
         "y": [
          "R$ 32700.00"
         ],
         "yaxis": "y"
        },
        {
         "alignmentgroup": "True",
         "hovertemplate": "Preco Unitario=%{y}<br>Primeiro Nome=%{x}<extra></extra>",
         "legendgroup": "R$ 32600.00",
         "marker": {
          "color": "#19d3f3",
          "pattern": {
           "shape": ""
          }
         },
         "name": "R$ 32600.00",
         "offsetgroup": "R$ 32600.00",
         "orientation": "v",
         "showlegend": true,
         "textposition": "auto",
         "type": "bar",
         "x": [
          "Sarah"
         ],
         "xaxis": "x",
         "y": [
          "R$ 32600.00"
         ],
         "yaxis": "y"
        },
        {
         "alignmentgroup": "True",
         "hovertemplate": "Preco Unitario=%{y}<br>Primeiro Nome=%{x}<extra></extra>",
         "legendgroup": "R$ 32300.00",
         "marker": {
          "color": "#FF6692",
          "pattern": {
           "shape": ""
          }
         },
         "name": "R$ 32300.00",
         "offsetgroup": "R$ 32300.00",
         "orientation": "v",
         "showlegend": true,
         "textposition": "auto",
         "type": "bar",
         "x": [
          "Audir",
          "Chan"
         ],
         "xaxis": "x",
         "y": [
          "R$ 32300.00",
          "R$ 32300.00"
         ],
         "yaxis": "y"
        },
        {
         "alignmentgroup": "True",
         "hovertemplate": "Preco Unitario=%{y}<br>Primeiro Nome=%{x}<extra></extra>",
         "legendgroup": "R$ 31600.00",
         "marker": {
          "color": "#B6E880",
          "pattern": {
           "shape": ""
          }
         },
         "name": "R$ 31600.00",
         "offsetgroup": "R$ 31600.00",
         "orientation": "v",
         "showlegend": true,
         "textposition": "auto",
         "type": "bar",
         "x": [
          "Cassio"
         ],
         "xaxis": "x",
         "y": [
          "R$ 31600.00"
         ],
         "yaxis": "y"
        },
        {
         "alignmentgroup": "True",
         "hovertemplate": "Preco Unitario=%{y}<br>Primeiro Nome=%{x}<extra></extra>",
         "legendgroup": "R$ 31400.00",
         "marker": {
          "color": "#FF97FF",
          "pattern": {
           "shape": ""
          }
         },
         "name": "R$ 31400.00",
         "offsetgroup": "R$ 31400.00",
         "orientation": "v",
         "showlegend": true,
         "textposition": "auto",
         "type": "bar",
         "x": [
          "Stela"
         ],
         "xaxis": "x",
         "y": [
          "R$ 31400.00"
         ],
         "yaxis": "y"
        },
        {
         "alignmentgroup": "True",
         "hovertemplate": "Preco Unitario=%{y}<br>Primeiro Nome=%{x}<extra></extra>",
         "legendgroup": "R$ 30700.00",
         "marker": {
          "color": "#FECB52",
          "pattern": {
           "shape": ""
          }
         },
         "name": "R$ 30700.00",
         "offsetgroup": "R$ 30700.00",
         "orientation": "v",
         "showlegend": true,
         "textposition": "auto",
         "type": "bar",
         "x": [
          "Alvaro",
          "André"
         ],
         "xaxis": "x",
         "y": [
          "R$ 30700.00",
          "R$ 30700.00"
         ],
         "yaxis": "y"
        },
        {
         "alignmentgroup": "True",
         "hovertemplate": "Preco Unitario=%{y}<br>Primeiro Nome=%{x}<extra></extra>",
         "legendgroup": "R$ 30300.00",
         "marker": {
          "color": "#636efa",
          "pattern": {
           "shape": ""
          }
         },
         "name": "R$ 30300.00",
         "offsetgroup": "R$ 30300.00",
         "orientation": "v",
         "showlegend": true,
         "textposition": "auto",
         "type": "bar",
         "x": [
          "Nathalia"
         ],
         "xaxis": "x",
         "y": [
          "R$ 30300.00"
         ],
         "yaxis": "y"
        },
        {
         "alignmentgroup": "True",
         "hovertemplate": "Preco Unitario=%{y}<br>Primeiro Nome=%{x}<extra></extra>",
         "legendgroup": "R$ 29900.00",
         "marker": {
          "color": "#EF553B",
          "pattern": {
           "shape": ""
          }
         },
         "name": "R$ 29900.00",
         "offsetgroup": "R$ 29900.00",
         "orientation": "v",
         "showlegend": true,
         "textposition": "auto",
         "type": "bar",
         "x": [
          "Alessandra",
          "Andreza"
         ],
         "xaxis": "x",
         "y": [
          "R$ 29900.00",
          "R$ 29900.00"
         ],
         "yaxis": "y"
        },
        {
         "alignmentgroup": "True",
         "hovertemplate": "Preco Unitario=%{y}<br>Primeiro Nome=%{x}<extra></extra>",
         "legendgroup": "R$ 29600.00",
         "marker": {
          "color": "#00cc96",
          "pattern": {
           "shape": ""
          }
         },
         "name": "R$ 29600.00",
         "offsetgroup": "R$ 29600.00",
         "orientation": "v",
         "showlegend": true,
         "textposition": "auto",
         "type": "bar",
         "x": [
          "Dandara"
         ],
         "xaxis": "x",
         "y": [
          "R$ 29600.00"
         ],
         "yaxis": "y"
        },
        {
         "alignmentgroup": "True",
         "hovertemplate": "Preco Unitario=%{y}<br>Primeiro Nome=%{x}<extra></extra>",
         "legendgroup": "R$ 29300.00",
         "marker": {
          "color": "#ab63fa",
          "pattern": {
           "shape": ""
          }
         },
         "name": "R$ 29300.00",
         "offsetgroup": "R$ 29300.00",
         "orientation": "v",
         "showlegend": true,
         "textposition": "auto",
         "type": "bar",
         "x": [
          "Ananda"
         ],
         "xaxis": "x",
         "y": [
          "R$ 29300.00"
         ],
         "yaxis": "y"
        },
        {
         "alignmentgroup": "True",
         "hovertemplate": "Preco Unitario=%{y}<br>Primeiro Nome=%{x}<extra></extra>",
         "legendgroup": "R$ 29100.00",
         "marker": {
          "color": "#FFA15A",
          "pattern": {
           "shape": ""
          }
         },
         "name": "R$ 29100.00",
         "offsetgroup": "R$ 29100.00",
         "orientation": "v",
         "showlegend": true,
         "textposition": "auto",
         "type": "bar",
         "x": [
          "Natali"
         ],
         "xaxis": "x",
         "y": [
          "R$ 29100.00"
         ],
         "yaxis": "y"
        },
        {
         "alignmentgroup": "True",
         "hovertemplate": "Preco Unitario=%{y}<br>Primeiro Nome=%{x}<extra></extra>",
         "legendgroup": "R$ 28200.00",
         "marker": {
          "color": "#19d3f3",
          "pattern": {
           "shape": ""
          }
         },
         "name": "R$ 28200.00",
         "offsetgroup": "R$ 28200.00",
         "orientation": "v",
         "showlegend": true,
         "textposition": "auto",
         "type": "bar",
         "x": [
          "Helvio",
          "Elaine"
         ],
         "xaxis": "x",
         "y": [
          "R$ 28200.00",
          "R$ 28200.00"
         ],
         "yaxis": "y"
        },
        {
         "alignmentgroup": "True",
         "hovertemplate": "Preco Unitario=%{y}<br>Primeiro Nome=%{x}<extra></extra>",
         "legendgroup": "R$ 27900.00",
         "marker": {
          "color": "#FF6692",
          "pattern": {
           "shape": ""
          }
         },
         "name": "R$ 27900.00",
         "offsetgroup": "R$ 27900.00",
         "orientation": "v",
         "showlegend": true,
         "textposition": "auto",
         "type": "bar",
         "x": [
          "Ramon"
         ],
         "xaxis": "x",
         "y": [
          "R$ 27900.00"
         ],
         "yaxis": "y"
        },
        {
         "alignmentgroup": "True",
         "hovertemplate": "Preco Unitario=%{y}<br>Primeiro Nome=%{x}<extra></extra>",
         "legendgroup": "R$ 27700.00",
         "marker": {
          "color": "#B6E880",
          "pattern": {
           "shape": ""
          }
         },
         "name": "R$ 27700.00",
         "offsetgroup": "R$ 27700.00",
         "orientation": "v",
         "showlegend": true,
         "textposition": "auto",
         "type": "bar",
         "x": [
          "Maurício"
         ],
         "xaxis": "x",
         "y": [
          "R$ 27700.00"
         ],
         "yaxis": "y"
        },
        {
         "alignmentgroup": "True",
         "hovertemplate": "Preco Unitario=%{y}<br>Primeiro Nome=%{x}<extra></extra>",
         "legendgroup": "R$ 27600.00",
         "marker": {
          "color": "#FF97FF",
          "pattern": {
           "shape": ""
          }
         },
         "name": "R$ 27600.00",
         "offsetgroup": "R$ 27600.00",
         "orientation": "v",
         "showlegend": true,
         "textposition": "auto",
         "type": "bar",
         "x": [
          "Joana"
         ],
         "xaxis": "x",
         "y": [
          "R$ 27600.00"
         ],
         "yaxis": "y"
        },
        {
         "alignmentgroup": "True",
         "hovertemplate": "Preco Unitario=%{y}<br>Primeiro Nome=%{x}<extra></extra>",
         "legendgroup": "R$ 26700.00",
         "marker": {
          "color": "#FECB52",
          "pattern": {
           "shape": ""
          }
         },
         "name": "R$ 26700.00",
         "offsetgroup": "R$ 26700.00",
         "orientation": "v",
         "showlegend": true,
         "textposition": "auto",
         "type": "bar",
         "x": [
          "Hiaiune"
         ],
         "xaxis": "x",
         "y": [
          "R$ 26700.00"
         ],
         "yaxis": "y"
        },
        {
         "alignmentgroup": "True",
         "hovertemplate": "Preco Unitario=%{y}<br>Primeiro Nome=%{x}<extra></extra>",
         "legendgroup": "R$ 26500.00",
         "marker": {
          "color": "#636efa",
          "pattern": {
           "shape": ""
          }
         },
         "name": "R$ 26500.00",
         "offsetgroup": "R$ 26500.00",
         "orientation": "v",
         "showlegend": true,
         "textposition": "auto",
         "type": "bar",
         "x": [
          "Desirée"
         ],
         "xaxis": "x",
         "y": [
          "R$ 26500.00"
         ],
         "yaxis": "y"
        },
        {
         "alignmentgroup": "True",
         "hovertemplate": "Preco Unitario=%{y}<br>Primeiro Nome=%{x}<extra></extra>",
         "legendgroup": "R$ 23800.00",
         "marker": {
          "color": "#EF553B",
          "pattern": {
           "shape": ""
          }
         },
         "name": "R$ 23800.00",
         "offsetgroup": "R$ 23800.00",
         "orientation": "v",
         "showlegend": true,
         "textposition": "auto",
         "type": "bar",
         "x": [
          "Karine"
         ],
         "xaxis": "x",
         "y": [
          "R$ 23800.00"
         ],
         "yaxis": "y"
        },
        {
         "alignmentgroup": "True",
         "hovertemplate": "Preco Unitario=%{y}<br>Primeiro Nome=%{x}<extra></extra>",
         "legendgroup": "R$ 22300.00",
         "marker": {
          "color": "#00cc96",
          "pattern": {
           "shape": ""
          }
         },
         "name": "R$ 22300.00",
         "offsetgroup": "R$ 22300.00",
         "orientation": "v",
         "showlegend": true,
         "textposition": "auto",
         "type": "bar",
         "x": [
          "Platini"
         ],
         "xaxis": "x",
         "y": [
          "R$ 22300.00"
         ],
         "yaxis": "y"
        },
        {
         "alignmentgroup": "True",
         "hovertemplate": "Preco Unitario=%{y}<br>Primeiro Nome=%{x}<extra></extra>",
         "legendgroup": "R$ 21500.00",
         "marker": {
          "color": "#ab63fa",
          "pattern": {
           "shape": ""
          }
         },
         "name": "R$ 21500.00",
         "offsetgroup": "R$ 21500.00",
         "orientation": "v",
         "showlegend": true,
         "textposition": "auto",
         "type": "bar",
         "x": [
          "Rafaella"
         ],
         "xaxis": "x",
         "y": [
          "R$ 21500.00"
         ],
         "yaxis": "y"
        },
        {
         "alignmentgroup": "True",
         "hovertemplate": "Preco Unitario=%{y}<br>Primeiro Nome=%{x}<extra></extra>",
         "legendgroup": "R$ 21200.00",
         "marker": {
          "color": "#FFA15A",
          "pattern": {
           "shape": ""
          }
         },
         "name": "R$ 21200.00",
         "offsetgroup": "R$ 21200.00",
         "orientation": "v",
         "showlegend": true,
         "textposition": "auto",
         "type": "bar",
         "x": [
          "Vittorio"
         ],
         "xaxis": "x",
         "y": [
          "R$ 21200.00"
         ],
         "yaxis": "y"
        },
        {
         "alignmentgroup": "True",
         "hovertemplate": "Preco Unitario=%{y}<br>Primeiro Nome=%{x}<extra></extra>",
         "legendgroup": "R$ 20400.00",
         "marker": {
          "color": "#19d3f3",
          "pattern": {
           "shape": ""
          }
         },
         "name": "R$ 20400.00",
         "offsetgroup": "R$ 20400.00",
         "orientation": "v",
         "showlegend": true,
         "textposition": "auto",
         "type": "bar",
         "x": [
          "Isaac"
         ],
         "xaxis": "x",
         "y": [
          "R$ 20400.00"
         ],
         "yaxis": "y"
        },
        {
         "alignmentgroup": "True",
         "hovertemplate": "Preco Unitario=%{y}<br>Primeiro Nome=%{x}<extra></extra>",
         "legendgroup": "R$ 19700.00",
         "marker": {
          "color": "#FF6692",
          "pattern": {
           "shape": ""
          }
         },
         "name": "R$ 19700.00",
         "offsetgroup": "R$ 19700.00",
         "orientation": "v",
         "showlegend": true,
         "textposition": "auto",
         "type": "bar",
         "x": [
          "Monique"
         ],
         "xaxis": "x",
         "y": [
          "R$ 19700.00"
         ],
         "yaxis": "y"
        },
        {
         "alignmentgroup": "True",
         "hovertemplate": "Preco Unitario=%{y}<br>Primeiro Nome=%{x}<extra></extra>",
         "legendgroup": "R$ 17700.00",
         "marker": {
          "color": "#B6E880",
          "pattern": {
           "shape": ""
          }
         },
         "name": "R$ 17700.00",
         "offsetgroup": "R$ 17700.00",
         "orientation": "v",
         "showlegend": true,
         "textposition": "auto",
         "type": "bar",
         "x": [
          "Ian"
         ],
         "xaxis": "x",
         "y": [
          "R$ 17700.00"
         ],
         "yaxis": "y"
        },
        {
         "alignmentgroup": "True",
         "hovertemplate": "Preco Unitario=%{y}<br>Primeiro Nome=%{x}<extra></extra>",
         "legendgroup": "R$ 16100.00",
         "marker": {
          "color": "#FF97FF",
          "pattern": {
           "shape": ""
          }
         },
         "name": "R$ 16100.00",
         "offsetgroup": "R$ 16100.00",
         "orientation": "v",
         "showlegend": true,
         "textposition": "auto",
         "type": "bar",
         "x": [
          "Maike"
         ],
         "xaxis": "x",
         "y": [
          "R$ 16100.00"
         ],
         "yaxis": "y"
        },
        {
         "alignmentgroup": "True",
         "hovertemplate": "Preco Unitario=%{y}<br>Primeiro Nome=%{x}<extra></extra>",
         "legendgroup": "R$ 16000.00",
         "marker": {
          "color": "#FECB52",
          "pattern": {
           "shape": ""
          }
         },
         "name": "R$ 16000.00",
         "offsetgroup": "R$ 16000.00",
         "orientation": "v",
         "showlegend": true,
         "textposition": "auto",
         "type": "bar",
         "x": [
          "Marianna"
         ],
         "xaxis": "x",
         "y": [
          "R$ 16000.00"
         ],
         "yaxis": "y"
        },
        {
         "alignmentgroup": "True",
         "hovertemplate": "Preco Unitario=%{y}<br>Primeiro Nome=%{x}<extra></extra>",
         "legendgroup": "R$ 15400.00",
         "marker": {
          "color": "#636efa",
          "pattern": {
           "shape": ""
          }
         },
         "name": "R$ 15400.00",
         "offsetgroup": "R$ 15400.00",
         "orientation": "v",
         "showlegend": true,
         "textposition": "auto",
         "type": "bar",
         "x": [
          "Melissa"
         ],
         "xaxis": "x",
         "y": [
          "R$ 15400.00"
         ],
         "yaxis": "y"
        },
        {
         "alignmentgroup": "True",
         "hovertemplate": "Preco Unitario=%{y}<br>Primeiro Nome=%{x}<extra></extra>",
         "legendgroup": "R$ 12200.00",
         "marker": {
          "color": "#EF553B",
          "pattern": {
           "shape": ""
          }
         },
         "name": "R$ 12200.00",
         "offsetgroup": "R$ 12200.00",
         "orientation": "v",
         "showlegend": true,
         "textposition": "auto",
         "type": "bar",
         "x": [
          "Filipe"
         ],
         "xaxis": "x",
         "y": [
          "R$ 12200.00"
         ],
         "yaxis": "y"
        },
        {
         "alignmentgroup": "True",
         "hovertemplate": "Preco Unitario=%{y}<br>Primeiro Nome=%{x}<extra></extra>",
         "legendgroup": "R$ 4600.00",
         "marker": {
          "color": "#00cc96",
          "pattern": {
           "shape": ""
          }
         },
         "name": "R$ 4600.00",
         "offsetgroup": "R$ 4600.00",
         "orientation": "v",
         "showlegend": true,
         "textposition": "auto",
         "type": "bar",
         "x": [
          "Adriano"
         ],
         "xaxis": "x",
         "y": [
          "R$ 4600.00"
         ],
         "yaxis": "y"
        }
       ],
       "layout": {
        "barmode": "relative",
        "height": 400,
        "legend": {
         "title": {
          "text": "Preco Unitario"
         },
         "tracegroupgap": 0
        },
        "margin": {
         "t": 60
        },
        "template": {
         "data": {
          "bar": [
           {
            "error_x": {
             "color": "#2a3f5f"
            },
            "error_y": {
             "color": "#2a3f5f"
            },
            "marker": {
             "line": {
              "color": "#E5ECF6",
              "width": 0.5
             },
             "pattern": {
              "fillmode": "overlay",
              "size": 10,
              "solidity": 0.2
             }
            },
            "type": "bar"
           }
          ],
          "barpolar": [
           {
            "marker": {
             "line": {
              "color": "#E5ECF6",
              "width": 0.5
             },
             "pattern": {
              "fillmode": "overlay",
              "size": 10,
              "solidity": 0.2
             }
            },
            "type": "barpolar"
           }
          ],
          "carpet": [
           {
            "aaxis": {
             "endlinecolor": "#2a3f5f",
             "gridcolor": "white",
             "linecolor": "white",
             "minorgridcolor": "white",
             "startlinecolor": "#2a3f5f"
            },
            "baxis": {
             "endlinecolor": "#2a3f5f",
             "gridcolor": "white",
             "linecolor": "white",
             "minorgridcolor": "white",
             "startlinecolor": "#2a3f5f"
            },
            "type": "carpet"
           }
          ],
          "choropleth": [
           {
            "colorbar": {
             "outlinewidth": 0,
             "ticks": ""
            },
            "type": "choropleth"
           }
          ],
          "contour": [
           {
            "colorbar": {
             "outlinewidth": 0,
             "ticks": ""
            },
            "colorscale": [
             [
              0,
              "#0d0887"
             ],
             [
              0.1111111111111111,
              "#46039f"
             ],
             [
              0.2222222222222222,
              "#7201a8"
             ],
             [
              0.3333333333333333,
              "#9c179e"
             ],
             [
              0.4444444444444444,
              "#bd3786"
             ],
             [
              0.5555555555555556,
              "#d8576b"
             ],
             [
              0.6666666666666666,
              "#ed7953"
             ],
             [
              0.7777777777777778,
              "#fb9f3a"
             ],
             [
              0.8888888888888888,
              "#fdca26"
             ],
             [
              1,
              "#f0f921"
             ]
            ],
            "type": "contour"
           }
          ],
          "contourcarpet": [
           {
            "colorbar": {
             "outlinewidth": 0,
             "ticks": ""
            },
            "type": "contourcarpet"
           }
          ],
          "heatmap": [
           {
            "colorbar": {
             "outlinewidth": 0,
             "ticks": ""
            },
            "colorscale": [
             [
              0,
              "#0d0887"
             ],
             [
              0.1111111111111111,
              "#46039f"
             ],
             [
              0.2222222222222222,
              "#7201a8"
             ],
             [
              0.3333333333333333,
              "#9c179e"
             ],
             [
              0.4444444444444444,
              "#bd3786"
             ],
             [
              0.5555555555555556,
              "#d8576b"
             ],
             [
              0.6666666666666666,
              "#ed7953"
             ],
             [
              0.7777777777777778,
              "#fb9f3a"
             ],
             [
              0.8888888888888888,
              "#fdca26"
             ],
             [
              1,
              "#f0f921"
             ]
            ],
            "type": "heatmap"
           }
          ],
          "heatmapgl": [
           {
            "colorbar": {
             "outlinewidth": 0,
             "ticks": ""
            },
            "colorscale": [
             [
              0,
              "#0d0887"
             ],
             [
              0.1111111111111111,
              "#46039f"
             ],
             [
              0.2222222222222222,
              "#7201a8"
             ],
             [
              0.3333333333333333,
              "#9c179e"
             ],
             [
              0.4444444444444444,
              "#bd3786"
             ],
             [
              0.5555555555555556,
              "#d8576b"
             ],
             [
              0.6666666666666666,
              "#ed7953"
             ],
             [
              0.7777777777777778,
              "#fb9f3a"
             ],
             [
              0.8888888888888888,
              "#fdca26"
             ],
             [
              1,
              "#f0f921"
             ]
            ],
            "type": "heatmapgl"
           }
          ],
          "histogram": [
           {
            "marker": {
             "pattern": {
              "fillmode": "overlay",
              "size": 10,
              "solidity": 0.2
             }
            },
            "type": "histogram"
           }
          ],
          "histogram2d": [
           {
            "colorbar": {
             "outlinewidth": 0,
             "ticks": ""
            },
            "colorscale": [
             [
              0,
              "#0d0887"
             ],
             [
              0.1111111111111111,
              "#46039f"
             ],
             [
              0.2222222222222222,
              "#7201a8"
             ],
             [
              0.3333333333333333,
              "#9c179e"
             ],
             [
              0.4444444444444444,
              "#bd3786"
             ],
             [
              0.5555555555555556,
              "#d8576b"
             ],
             [
              0.6666666666666666,
              "#ed7953"
             ],
             [
              0.7777777777777778,
              "#fb9f3a"
             ],
             [
              0.8888888888888888,
              "#fdca26"
             ],
             [
              1,
              "#f0f921"
             ]
            ],
            "type": "histogram2d"
           }
          ],
          "histogram2dcontour": [
           {
            "colorbar": {
             "outlinewidth": 0,
             "ticks": ""
            },
            "colorscale": [
             [
              0,
              "#0d0887"
             ],
             [
              0.1111111111111111,
              "#46039f"
             ],
             [
              0.2222222222222222,
              "#7201a8"
             ],
             [
              0.3333333333333333,
              "#9c179e"
             ],
             [
              0.4444444444444444,
              "#bd3786"
             ],
             [
              0.5555555555555556,
              "#d8576b"
             ],
             [
              0.6666666666666666,
              "#ed7953"
             ],
             [
              0.7777777777777778,
              "#fb9f3a"
             ],
             [
              0.8888888888888888,
              "#fdca26"
             ],
             [
              1,
              "#f0f921"
             ]
            ],
            "type": "histogram2dcontour"
           }
          ],
          "mesh3d": [
           {
            "colorbar": {
             "outlinewidth": 0,
             "ticks": ""
            },
            "type": "mesh3d"
           }
          ],
          "parcoords": [
           {
            "line": {
             "colorbar": {
              "outlinewidth": 0,
              "ticks": ""
             }
            },
            "type": "parcoords"
           }
          ],
          "pie": [
           {
            "automargin": true,
            "type": "pie"
           }
          ],
          "scatter": [
           {
            "fillpattern": {
             "fillmode": "overlay",
             "size": 10,
             "solidity": 0.2
            },
            "type": "scatter"
           }
          ],
          "scatter3d": [
           {
            "line": {
             "colorbar": {
              "outlinewidth": 0,
              "ticks": ""
             }
            },
            "marker": {
             "colorbar": {
              "outlinewidth": 0,
              "ticks": ""
             }
            },
            "type": "scatter3d"
           }
          ],
          "scattercarpet": [
           {
            "marker": {
             "colorbar": {
              "outlinewidth": 0,
              "ticks": ""
             }
            },
            "type": "scattercarpet"
           }
          ],
          "scattergeo": [
           {
            "marker": {
             "colorbar": {
              "outlinewidth": 0,
              "ticks": ""
             }
            },
            "type": "scattergeo"
           }
          ],
          "scattergl": [
           {
            "marker": {
             "colorbar": {
              "outlinewidth": 0,
              "ticks": ""
             }
            },
            "type": "scattergl"
           }
          ],
          "scattermapbox": [
           {
            "marker": {
             "colorbar": {
              "outlinewidth": 0,
              "ticks": ""
             }
            },
            "type": "scattermapbox"
           }
          ],
          "scatterpolar": [
           {
            "marker": {
             "colorbar": {
              "outlinewidth": 0,
              "ticks": ""
             }
            },
            "type": "scatterpolar"
           }
          ],
          "scatterpolargl": [
           {
            "marker": {
             "colorbar": {
              "outlinewidth": 0,
              "ticks": ""
             }
            },
            "type": "scatterpolargl"
           }
          ],
          "scatterternary": [
           {
            "marker": {
             "colorbar": {
              "outlinewidth": 0,
              "ticks": ""
             }
            },
            "type": "scatterternary"
           }
          ],
          "surface": [
           {
            "colorbar": {
             "outlinewidth": 0,
             "ticks": ""
            },
            "colorscale": [
             [
              0,
              "#0d0887"
             ],
             [
              0.1111111111111111,
              "#46039f"
             ],
             [
              0.2222222222222222,
              "#7201a8"
             ],
             [
              0.3333333333333333,
              "#9c179e"
             ],
             [
              0.4444444444444444,
              "#bd3786"
             ],
             [
              0.5555555555555556,
              "#d8576b"
             ],
             [
              0.6666666666666666,
              "#ed7953"
             ],
             [
              0.7777777777777778,
              "#fb9f3a"
             ],
             [
              0.8888888888888888,
              "#fdca26"
             ],
             [
              1,
              "#f0f921"
             ]
            ],
            "type": "surface"
           }
          ],
          "table": [
           {
            "cells": {
             "fill": {
              "color": "#EBF0F8"
             },
             "line": {
              "color": "white"
             }
            },
            "header": {
             "fill": {
              "color": "#C8D4E3"
             },
             "line": {
              "color": "white"
             }
            },
            "type": "table"
           }
          ]
         },
         "layout": {
          "annotationdefaults": {
           "arrowcolor": "#2a3f5f",
           "arrowhead": 0,
           "arrowwidth": 1
          },
          "autotypenumbers": "strict",
          "coloraxis": {
           "colorbar": {
            "outlinewidth": 0,
            "ticks": ""
           }
          },
          "colorscale": {
           "diverging": [
            [
             0,
             "#8e0152"
            ],
            [
             0.1,
             "#c51b7d"
            ],
            [
             0.2,
             "#de77ae"
            ],
            [
             0.3,
             "#f1b6da"
            ],
            [
             0.4,
             "#fde0ef"
            ],
            [
             0.5,
             "#f7f7f7"
            ],
            [
             0.6,
             "#e6f5d0"
            ],
            [
             0.7,
             "#b8e186"
            ],
            [
             0.8,
             "#7fbc41"
            ],
            [
             0.9,
             "#4d9221"
            ],
            [
             1,
             "#276419"
            ]
           ],
           "sequential": [
            [
             0,
             "#0d0887"
            ],
            [
             0.1111111111111111,
             "#46039f"
            ],
            [
             0.2222222222222222,
             "#7201a8"
            ],
            [
             0.3333333333333333,
             "#9c179e"
            ],
            [
             0.4444444444444444,
             "#bd3786"
            ],
            [
             0.5555555555555556,
             "#d8576b"
            ],
            [
             0.6666666666666666,
             "#ed7953"
            ],
            [
             0.7777777777777778,
             "#fb9f3a"
            ],
            [
             0.8888888888888888,
             "#fdca26"
            ],
            [
             1,
             "#f0f921"
            ]
           ],
           "sequentialminus": [
            [
             0,
             "#0d0887"
            ],
            [
             0.1111111111111111,
             "#46039f"
            ],
            [
             0.2222222222222222,
             "#7201a8"
            ],
            [
             0.3333333333333333,
             "#9c179e"
            ],
            [
             0.4444444444444444,
             "#bd3786"
            ],
            [
             0.5555555555555556,
             "#d8576b"
            ],
            [
             0.6666666666666666,
             "#ed7953"
            ],
            [
             0.7777777777777778,
             "#fb9f3a"
            ],
            [
             0.8888888888888888,
             "#fdca26"
            ],
            [
             1,
             "#f0f921"
            ]
           ]
          },
          "colorway": [
           "#636efa",
           "#EF553B",
           "#00cc96",
           "#ab63fa",
           "#FFA15A",
           "#19d3f3",
           "#FF6692",
           "#B6E880",
           "#FF97FF",
           "#FECB52"
          ],
          "font": {
           "color": "#2a3f5f"
          },
          "geo": {
           "bgcolor": "white",
           "lakecolor": "white",
           "landcolor": "#E5ECF6",
           "showlakes": true,
           "showland": true,
           "subunitcolor": "white"
          },
          "hoverlabel": {
           "align": "left"
          },
          "hovermode": "closest",
          "mapbox": {
           "style": "light"
          },
          "paper_bgcolor": "white",
          "plot_bgcolor": "#E5ECF6",
          "polar": {
           "angularaxis": {
            "gridcolor": "white",
            "linecolor": "white",
            "ticks": ""
           },
           "bgcolor": "#E5ECF6",
           "radialaxis": {
            "gridcolor": "white",
            "linecolor": "white",
            "ticks": ""
           }
          },
          "scene": {
           "xaxis": {
            "backgroundcolor": "#E5ECF6",
            "gridcolor": "white",
            "gridwidth": 2,
            "linecolor": "white",
            "showbackground": true,
            "ticks": "",
            "zerolinecolor": "white"
           },
           "yaxis": {
            "backgroundcolor": "#E5ECF6",
            "gridcolor": "white",
            "gridwidth": 2,
            "linecolor": "white",
            "showbackground": true,
            "ticks": "",
            "zerolinecolor": "white"
           },
           "zaxis": {
            "backgroundcolor": "#E5ECF6",
            "gridcolor": "white",
            "gridwidth": 2,
            "linecolor": "white",
            "showbackground": true,
            "ticks": "",
            "zerolinecolor": "white"
           }
          },
          "shapedefaults": {
           "line": {
            "color": "#2a3f5f"
           }
          },
          "ternary": {
           "aaxis": {
            "gridcolor": "white",
            "linecolor": "white",
            "ticks": ""
           },
           "baxis": {
            "gridcolor": "white",
            "linecolor": "white",
            "ticks": ""
           },
           "bgcolor": "#E5ECF6",
           "caxis": {
            "gridcolor": "white",
            "linecolor": "white",
            "ticks": ""
           }
          },
          "title": {
           "x": 0.05
          },
          "xaxis": {
           "automargin": true,
           "gridcolor": "white",
           "linecolor": "white",
           "ticks": "",
           "title": {
            "standoff": 15
           },
           "zerolinecolor": "white",
           "zerolinewidth": 2
          },
          "yaxis": {
           "automargin": true,
           "gridcolor": "white",
           "linecolor": "white",
           "ticks": "",
           "title": {
            "standoff": 15
           },
           "zerolinecolor": "white",
           "zerolinewidth": 2
          }
         }
        },
        "xaxis": {
         "anchor": "y",
         "domain": [
          0,
          1
         ],
         "title": {
          "text": "Primeiro Nome"
         }
        },
        "yaxis": {
         "anchor": "x",
         "categoryarray": [
          "R$ 4600.00",
          "R$ 12200.00",
          "R$ 15400.00",
          "R$ 16000.00",
          "R$ 16100.00",
          "R$ 17700.00",
          "R$ 19700.00",
          "R$ 20400.00",
          "R$ 21200.00",
          "R$ 21500.00",
          "R$ 22300.00",
          "R$ 23800.00",
          "R$ 26500.00",
          "R$ 26700.00",
          "R$ 27600.00",
          "R$ 27700.00",
          "R$ 27900.00",
          "R$ 28200.00",
          "R$ 29100.00",
          "R$ 29300.00",
          "R$ 29600.00",
          "R$ 29900.00",
          "R$ 30300.00",
          "R$ 30700.00",
          "R$ 31400.00",
          "R$ 31600.00",
          "R$ 32300.00",
          "R$ 32600.00",
          "R$ 32700.00",
          "R$ 33000.00",
          "R$ 33100.00",
          "R$ 33300.00",
          "R$ 33500.00",
          "R$ 33600.00",
          "R$ 33800.00",
          "R$ 33900.00",
          "R$ 34100.00",
          "R$ 34800.00",
          "R$ 35000.00",
          "R$ 35400.00",
          "R$ 35700.00",
          "R$ 35800.00",
          "R$ 36200.00",
          "R$ 36300.00",
          "R$ 37000.00",
          "R$ 37400.00",
          "R$ 37600.00",
          "R$ 38200.00",
          "R$ 38300.00",
          "R$ 38400.00",
          "R$ 39300.00",
          "R$ 40200.00",
          "R$ 40800.00",
          "R$ 41200.00",
          "R$ 41500.00",
          "R$ 41800.00",
          "R$ 42600.00",
          "R$ 43200.00",
          "R$ 43300.00",
          "R$ 43800.00",
          "R$ 43900.00",
          "R$ 44500.00",
          "R$ 44700.00",
          "R$ 45500.00",
          "R$ 45800.00",
          "R$ 46300.00",
          "R$ 47100.00",
          "R$ 47600.00",
          "R$ 47800.00",
          "R$ 49200.00",
          "R$ 49800.00",
          "R$ 50300.00",
          "R$ 50600.00",
          "R$ 50800.00",
          "R$ 51500.00",
          "R$ 51600.00",
          "R$ 51700.00",
          "R$ 52000.00",
          "R$ 52100.00",
          "R$ 52400.00",
          "R$ 53000.00",
          "R$ 53300.00",
          "R$ 53500.00",
          "R$ 53600.00",
          "R$ 53900.00",
          "R$ 54400.00",
          "R$ 55500.00",
          "R$ 55700.00",
          "R$ 56100.00",
          "R$ 56200.00",
          "R$ 56300.00",
          "R$ 56600.00",
          "R$ 56800.00",
          "R$ 57600.00",
          "R$ 58500.00",
          "R$ 58600.00",
          "R$ 58700.00",
          "R$ 59100.00",
          "R$ 59600.00",
          "R$ 60200.00",
          "R$ 60300.00",
          "R$ 62200.00",
          "R$ 62900.00",
          "R$ 63200.00",
          "R$ 63500.00",
          "R$ 63600.00",
          "R$ 64400.00",
          "R$ 65800.00",
          "R$ 69300.00",
          "R$ 69700.00",
          "R$ 72200.00",
          "R$ 73400.00",
          "R$ 74200.00",
          "R$ 74400.00",
          "R$ 74800.00",
          "R$ 76800.00",
          "R$ 76900.00",
          "R$ 77000.00",
          "R$ 78800.00",
          "R$ 79400.00",
          "R$ 81700.00",
          "R$ 81800.00",
          "R$ 83000.00",
          "R$ 83700.00",
          "R$ 84300.00",
          "R$ 84600.00",
          "R$ 85000.00",
          "R$ 85100.00",
          "R$ 85200.00",
          "R$ 85700.00",
          "R$ 86000.00",
          "R$ 87300.00",
          "R$ 88500.00",
          "R$ 88700.00",
          "R$ 88900.00",
          "R$ 90200.00",
          "R$ 90300.00",
          "R$ 91100.00",
          "R$ 91300.00",
          "R$ 91700.00",
          "R$ 91900.00",
          "R$ 92000.00",
          "R$ 93400.00",
          "R$ 98400.00",
          "R$ 99900.00",
          "R$ 100900.00",
          "R$ 101200.00",
          "R$ 101700.00",
          "R$ 102800.00",
          "R$ 103800.00",
          "R$ 104000.00",
          "R$ 104900.00",
          "R$ 105600.00",
          "R$ 105700.00",
          "R$ 109200.00",
          "R$ 111700.00",
          "R$ 112100.00",
          "R$ 112500.00",
          "R$ 115000.00",
          "R$ 119300.00",
          "R$ 120000.00",
          "R$ 120900.00",
          "R$ 121200.00",
          "R$ 121400.00",
          "R$ 121500.00",
          "R$ 122400.00",
          "R$ 124500.00",
          "R$ 126400.00",
          "R$ 127600.00",
          "R$ 127700.00",
          "R$ 128300.00",
          "R$ 129600.00",
          "R$ 129700.00",
          "R$ 130500.00",
          "R$ 131800.00",
          "R$ 132200.00",
          "R$ 133000.00",
          "R$ 138400.00",
          "R$ 139000.00",
          "R$ 139400.00",
          "R$ 140000.00",
          "R$ 140500.00",
          "R$ 143500.00",
          "R$ 146100.00",
          "R$ 149100.00",
          "R$ 150200.00",
          "R$ 153600.00",
          "R$ 154600.00",
          "R$ 155300.00",
          "R$ 156900.00",
          "R$ 160800.00",
          "R$ 173100.00",
          "R$ 175600.00",
          "R$ 183900.00",
          "R$ 187100.00",
          "R$ 187800.00",
          "R$ 197600.00",
          "R$ 200100.00",
          "R$ 204100.00",
          "R$ 206100.00",
          "R$ 206800.00",
          "R$ 208900.00",
          "R$ 213300.00",
          "R$ 213900.00",
          "R$ 218000.00",
          "R$ 218100.00",
          "R$ 223300.00",
          "R$ 227900.00",
          "R$ 243200.00",
          "R$ 249900.00",
          "R$ 254400.00",
          "R$ 256800.00",
          "R$ 256900.00",
          "R$ 275400.00",
          "R$ 279100.00",
          "R$ 298700.00",
          "R$ 301100.00",
          "R$ 307600.00",
          "R$ 310200.00",
          "R$ 317900.00",
          "R$ 318400.00",
          "R$ 326100.00",
          "R$ 344900.00",
          "R$ 345800.00",
          "R$ 368100.00",
          "R$ 371600.00",
          "R$ 384300.00",
          "R$ 405300.00",
          "R$ 410800.00",
          "R$ 413400.00",
          "R$ 440800.00",
          "R$ 452400.00",
          "R$ 475700.00",
          "R$ 482000.00",
          "R$ 536700.00",
          "R$ 553400.00",
          "R$ 570800.00",
          "R$ 573800.00",
          "R$ 575900.00",
          "R$ 603600.00",
          "R$ 893500.00",
          "R$ 897100.00",
          "R$ 1077200.00"
         ],
         "categoryorder": "array",
         "domain": [
          0,
          1
         ],
         "title": {
          "text": "Preco Unitario"
         }
        }
       }
      }
     },
     "metadata": {},
     "output_type": "display_data"
    },
    {
     "data": {
      "text/html": [
       "<div>\n",
       "<style scoped>\n",
       "    .dataframe tbody tr th:only-of-type {\n",
       "        vertical-align: middle;\n",
       "    }\n",
       "\n",
       "    .dataframe tbody tr th {\n",
       "        vertical-align: top;\n",
       "    }\n",
       "\n",
       "    .dataframe thead th {\n",
       "        text-align: right;\n",
       "    }\n",
       "</style>\n",
       "<table border=\"1\" class=\"dataframe\">\n",
       "  <thead>\n",
       "    <tr style=\"text-align: right;\">\n",
       "      <th></th>\n",
       "      <th>Preco Unitario</th>\n",
       "    </tr>\n",
       "    <tr>\n",
       "      <th>Primeiro Nome</th>\n",
       "      <th></th>\n",
       "    </tr>\n",
       "  </thead>\n",
       "  <tbody>\n",
       "    <tr>\n",
       "      <th>Lucas</th>\n",
       "      <td>R$ 1077200.00</td>\n",
       "    </tr>\n",
       "    <tr>\n",
       "      <th>João</th>\n",
       "      <td>R$ 897100.00</td>\n",
       "    </tr>\n",
       "    <tr>\n",
       "      <th>Pedro</th>\n",
       "      <td>R$ 893500.00</td>\n",
       "    </tr>\n",
       "    <tr>\n",
       "      <th>Ana</th>\n",
       "      <td>R$ 603600.00</td>\n",
       "    </tr>\n",
       "    <tr>\n",
       "      <th>Matheus</th>\n",
       "      <td>R$ 575900.00</td>\n",
       "    </tr>\n",
       "    <tr>\n",
       "      <th>...</th>\n",
       "      <td>...</td>\n",
       "    </tr>\n",
       "    <tr>\n",
       "      <th>Maike</th>\n",
       "      <td>R$ 16100.00</td>\n",
       "    </tr>\n",
       "    <tr>\n",
       "      <th>Marianna</th>\n",
       "      <td>R$ 16000.00</td>\n",
       "    </tr>\n",
       "    <tr>\n",
       "      <th>Melissa</th>\n",
       "      <td>R$ 15400.00</td>\n",
       "    </tr>\n",
       "    <tr>\n",
       "      <th>Filipe</th>\n",
       "      <td>R$ 12200.00</td>\n",
       "    </tr>\n",
       "    <tr>\n",
       "      <th>Adriano</th>\n",
       "      <td>R$ 4600.00</td>\n",
       "    </tr>\n",
       "  </tbody>\n",
       "</table>\n",
       "<p>260 rows × 1 columns</p>\n",
       "</div>"
      ],
      "text/plain": [
       "              Preco Unitario\n",
       "Primeiro Nome               \n",
       "Lucas          R$ 1077200.00\n",
       "João            R$ 897100.00\n",
       "Pedro           R$ 893500.00\n",
       "Ana             R$ 603600.00\n",
       "Matheus         R$ 575900.00\n",
       "...                      ...\n",
       "Maike            R$ 16100.00\n",
       "Marianna         R$ 16000.00\n",
       "Melissa          R$ 15400.00\n",
       "Filipe           R$ 12200.00\n",
       "Adriano           R$ 4600.00\n",
       "\n",
       "[260 rows x 1 columns]"
      ]
     },
     "execution_count": 8,
     "metadata": {},
     "output_type": "execute_result"
    }
   ],
   "source": [
    "# Vendedor que mais vendeu:\n",
    "\n",
    "Vendedor_Mais_Vendeu = dados_combinados_vendas.groupby(['Primeiro Nome']).sum()\n",
    "Vendedor_Mais_Vendeu=Vendedor_Mais_Vendeu[['Preco Unitario']].sort_values(by='Preco Unitario', ascending=False)\n",
    "\n",
    "Vendedor_Mais_Vendeu['Preco Unitario']=Vendedor_Mais_Vendeu['Preco Unitario'].map(formata_valor)\n",
    "\n",
    "fig4 = px.bar(Vendedor_Mais_Vendeu, x=Vendedor_Mais_Vendeu.index, y='Preco Unitario',\n",
    "              hover_data=[Vendedor_Mais_Vendeu.index, 'Preco Unitario'], color='Preco Unitario',\n",
    "              labels={'Preco Unitario':'Preco Unitario'}, height=400)\n",
    "fig4.show()\n",
    "Vendedor_Mais_Vendeu\n"
   ]
  },
  {
   "cell_type": "code",
   "execution_count": 9,
   "metadata": {},
   "outputs": [
    {
     "data": {
      "application/vnd.plotly.v1+json": {
       "config": {
        "plotlyServerURL": "https://plot.ly"
       },
       "data": [
        {
         "alignmentgroup": "True",
         "hovertemplate": "Faturamento=%{y}<br>Produto=%{x}<extra></extra>",
         "legendgroup": "R$ 47562200.00",
         "marker": {
          "color": "#636efa",
          "pattern": {
           "shape": ""
          }
         },
         "name": "R$ 47562200.00",
         "offsetgroup": "R$ 47562200.00",
         "orientation": "v",
         "showlegend": true,
         "textposition": "auto",
         "type": "bar",
         "x": [
          "iPhone"
         ],
         "xaxis": "x",
         "y": [
          "R$ 47562200.00"
         ],
         "yaxis": "y"
        },
        {
         "alignmentgroup": "True",
         "hovertemplate": "Faturamento=%{y}<br>Produto=%{x}<extra></extra>",
         "legendgroup": "R$ 14827500.00",
         "marker": {
          "color": "#EF553B",
          "pattern": {
           "shape": ""
          }
         },
         "name": "R$ 14827500.00",
         "offsetgroup": "R$ 14827500.00",
         "orientation": "v",
         "showlegend": true,
         "textposition": "auto",
         "type": "bar",
         "x": [
          "Televisão"
         ],
         "xaxis": "x",
         "y": [
          "R$ 14827500.00"
         ],
         "yaxis": "y"
        },
        {
         "alignmentgroup": "True",
         "hovertemplate": "Faturamento=%{y}<br>Produto=%{x}<extra></extra>",
         "legendgroup": "R$ 11371500.00",
         "marker": {
          "color": "#00cc96",
          "pattern": {
           "shape": ""
          }
         },
         "name": "R$ 11371500.00",
         "offsetgroup": "R$ 11371500.00",
         "orientation": "v",
         "showlegend": true,
         "textposition": "auto",
         "type": "bar",
         "x": [
          "Notebook"
         ],
         "xaxis": "x",
         "y": [
          "R$ 11371500.00"
         ],
         "yaxis": "y"
        },
        {
         "alignmentgroup": "True",
         "hovertemplate": "Faturamento=%{y}<br>Produto=%{x}<extra></extra>",
         "legendgroup": "R$ 10822200.00",
         "marker": {
          "color": "#ab63fa",
          "pattern": {
           "shape": ""
          }
         },
         "name": "R$ 10822200.00",
         "offsetgroup": "R$ 10822200.00",
         "orientation": "v",
         "showlegend": true,
         "textposition": "auto",
         "type": "bar",
         "x": [
          "Android"
         ],
         "xaxis": "x",
         "y": [
          "R$ 10822200.00"
         ],
         "yaxis": "y"
        },
        {
         "alignmentgroup": "True",
         "hovertemplate": "Faturamento=%{y}<br>Produto=%{x}<extra></extra>",
         "legendgroup": "R$ 5890500.00",
         "marker": {
          "color": "#FFA15A",
          "pattern": {
           "shape": ""
          }
         },
         "name": "R$ 5890500.00",
         "offsetgroup": "R$ 5890500.00",
         "orientation": "v",
         "showlegend": true,
         "textposition": "auto",
         "type": "bar",
         "x": [
          "Câmera"
         ],
         "xaxis": "x",
         "y": [
          "R$ 5890500.00"
         ],
         "yaxis": "y"
        },
        {
         "alignmentgroup": "True",
         "hovertemplate": "Faturamento=%{y}<br>Produto=%{x}<extra></extra>",
         "legendgroup": "R$ 4673600.00",
         "marker": {
          "color": "#19d3f3",
          "pattern": {
           "shape": ""
          }
         },
         "name": "R$ 4673600.00",
         "offsetgroup": "R$ 4673600.00",
         "orientation": "v",
         "showlegend": true,
         "textposition": "auto",
         "type": "bar",
         "x": [
          "Tablet"
         ],
         "xaxis": "x",
         "y": [
          "R$ 4673600.00"
         ],
         "yaxis": "y"
        },
        {
         "alignmentgroup": "True",
         "hovertemplate": "Faturamento=%{y}<br>Produto=%{x}<extra></extra>",
         "legendgroup": "R$ 4172000.00",
         "marker": {
          "color": "#FF6692",
          "pattern": {
           "shape": ""
          }
         },
         "name": "R$ 4172000.00",
         "offsetgroup": "R$ 4172000.00",
         "orientation": "v",
         "showlegend": true,
         "textposition": "auto",
         "type": "bar",
         "x": [
          "SmartWatch"
         ],
         "xaxis": "x",
         "y": [
          "R$ 4172000.00"
         ],
         "yaxis": "y"
        }
       ],
       "layout": {
        "barmode": "relative",
        "height": 400,
        "legend": {
         "title": {
          "text": "Faturamento"
         },
         "tracegroupgap": 0
        },
        "margin": {
         "t": 60
        },
        "template": {
         "data": {
          "bar": [
           {
            "error_x": {
             "color": "#2a3f5f"
            },
            "error_y": {
             "color": "#2a3f5f"
            },
            "marker": {
             "line": {
              "color": "#E5ECF6",
              "width": 0.5
             },
             "pattern": {
              "fillmode": "overlay",
              "size": 10,
              "solidity": 0.2
             }
            },
            "type": "bar"
           }
          ],
          "barpolar": [
           {
            "marker": {
             "line": {
              "color": "#E5ECF6",
              "width": 0.5
             },
             "pattern": {
              "fillmode": "overlay",
              "size": 10,
              "solidity": 0.2
             }
            },
            "type": "barpolar"
           }
          ],
          "carpet": [
           {
            "aaxis": {
             "endlinecolor": "#2a3f5f",
             "gridcolor": "white",
             "linecolor": "white",
             "minorgridcolor": "white",
             "startlinecolor": "#2a3f5f"
            },
            "baxis": {
             "endlinecolor": "#2a3f5f",
             "gridcolor": "white",
             "linecolor": "white",
             "minorgridcolor": "white",
             "startlinecolor": "#2a3f5f"
            },
            "type": "carpet"
           }
          ],
          "choropleth": [
           {
            "colorbar": {
             "outlinewidth": 0,
             "ticks": ""
            },
            "type": "choropleth"
           }
          ],
          "contour": [
           {
            "colorbar": {
             "outlinewidth": 0,
             "ticks": ""
            },
            "colorscale": [
             [
              0,
              "#0d0887"
             ],
             [
              0.1111111111111111,
              "#46039f"
             ],
             [
              0.2222222222222222,
              "#7201a8"
             ],
             [
              0.3333333333333333,
              "#9c179e"
             ],
             [
              0.4444444444444444,
              "#bd3786"
             ],
             [
              0.5555555555555556,
              "#d8576b"
             ],
             [
              0.6666666666666666,
              "#ed7953"
             ],
             [
              0.7777777777777778,
              "#fb9f3a"
             ],
             [
              0.8888888888888888,
              "#fdca26"
             ],
             [
              1,
              "#f0f921"
             ]
            ],
            "type": "contour"
           }
          ],
          "contourcarpet": [
           {
            "colorbar": {
             "outlinewidth": 0,
             "ticks": ""
            },
            "type": "contourcarpet"
           }
          ],
          "heatmap": [
           {
            "colorbar": {
             "outlinewidth": 0,
             "ticks": ""
            },
            "colorscale": [
             [
              0,
              "#0d0887"
             ],
             [
              0.1111111111111111,
              "#46039f"
             ],
             [
              0.2222222222222222,
              "#7201a8"
             ],
             [
              0.3333333333333333,
              "#9c179e"
             ],
             [
              0.4444444444444444,
              "#bd3786"
             ],
             [
              0.5555555555555556,
              "#d8576b"
             ],
             [
              0.6666666666666666,
              "#ed7953"
             ],
             [
              0.7777777777777778,
              "#fb9f3a"
             ],
             [
              0.8888888888888888,
              "#fdca26"
             ],
             [
              1,
              "#f0f921"
             ]
            ],
            "type": "heatmap"
           }
          ],
          "heatmapgl": [
           {
            "colorbar": {
             "outlinewidth": 0,
             "ticks": ""
            },
            "colorscale": [
             [
              0,
              "#0d0887"
             ],
             [
              0.1111111111111111,
              "#46039f"
             ],
             [
              0.2222222222222222,
              "#7201a8"
             ],
             [
              0.3333333333333333,
              "#9c179e"
             ],
             [
              0.4444444444444444,
              "#bd3786"
             ],
             [
              0.5555555555555556,
              "#d8576b"
             ],
             [
              0.6666666666666666,
              "#ed7953"
             ],
             [
              0.7777777777777778,
              "#fb9f3a"
             ],
             [
              0.8888888888888888,
              "#fdca26"
             ],
             [
              1,
              "#f0f921"
             ]
            ],
            "type": "heatmapgl"
           }
          ],
          "histogram": [
           {
            "marker": {
             "pattern": {
              "fillmode": "overlay",
              "size": 10,
              "solidity": 0.2
             }
            },
            "type": "histogram"
           }
          ],
          "histogram2d": [
           {
            "colorbar": {
             "outlinewidth": 0,
             "ticks": ""
            },
            "colorscale": [
             [
              0,
              "#0d0887"
             ],
             [
              0.1111111111111111,
              "#46039f"
             ],
             [
              0.2222222222222222,
              "#7201a8"
             ],
             [
              0.3333333333333333,
              "#9c179e"
             ],
             [
              0.4444444444444444,
              "#bd3786"
             ],
             [
              0.5555555555555556,
              "#d8576b"
             ],
             [
              0.6666666666666666,
              "#ed7953"
             ],
             [
              0.7777777777777778,
              "#fb9f3a"
             ],
             [
              0.8888888888888888,
              "#fdca26"
             ],
             [
              1,
              "#f0f921"
             ]
            ],
            "type": "histogram2d"
           }
          ],
          "histogram2dcontour": [
           {
            "colorbar": {
             "outlinewidth": 0,
             "ticks": ""
            },
            "colorscale": [
             [
              0,
              "#0d0887"
             ],
             [
              0.1111111111111111,
              "#46039f"
             ],
             [
              0.2222222222222222,
              "#7201a8"
             ],
             [
              0.3333333333333333,
              "#9c179e"
             ],
             [
              0.4444444444444444,
              "#bd3786"
             ],
             [
              0.5555555555555556,
              "#d8576b"
             ],
             [
              0.6666666666666666,
              "#ed7953"
             ],
             [
              0.7777777777777778,
              "#fb9f3a"
             ],
             [
              0.8888888888888888,
              "#fdca26"
             ],
             [
              1,
              "#f0f921"
             ]
            ],
            "type": "histogram2dcontour"
           }
          ],
          "mesh3d": [
           {
            "colorbar": {
             "outlinewidth": 0,
             "ticks": ""
            },
            "type": "mesh3d"
           }
          ],
          "parcoords": [
           {
            "line": {
             "colorbar": {
              "outlinewidth": 0,
              "ticks": ""
             }
            },
            "type": "parcoords"
           }
          ],
          "pie": [
           {
            "automargin": true,
            "type": "pie"
           }
          ],
          "scatter": [
           {
            "fillpattern": {
             "fillmode": "overlay",
             "size": 10,
             "solidity": 0.2
            },
            "type": "scatter"
           }
          ],
          "scatter3d": [
           {
            "line": {
             "colorbar": {
              "outlinewidth": 0,
              "ticks": ""
             }
            },
            "marker": {
             "colorbar": {
              "outlinewidth": 0,
              "ticks": ""
             }
            },
            "type": "scatter3d"
           }
          ],
          "scattercarpet": [
           {
            "marker": {
             "colorbar": {
              "outlinewidth": 0,
              "ticks": ""
             }
            },
            "type": "scattercarpet"
           }
          ],
          "scattergeo": [
           {
            "marker": {
             "colorbar": {
              "outlinewidth": 0,
              "ticks": ""
             }
            },
            "type": "scattergeo"
           }
          ],
          "scattergl": [
           {
            "marker": {
             "colorbar": {
              "outlinewidth": 0,
              "ticks": ""
             }
            },
            "type": "scattergl"
           }
          ],
          "scattermapbox": [
           {
            "marker": {
             "colorbar": {
              "outlinewidth": 0,
              "ticks": ""
             }
            },
            "type": "scattermapbox"
           }
          ],
          "scatterpolar": [
           {
            "marker": {
             "colorbar": {
              "outlinewidth": 0,
              "ticks": ""
             }
            },
            "type": "scatterpolar"
           }
          ],
          "scatterpolargl": [
           {
            "marker": {
             "colorbar": {
              "outlinewidth": 0,
              "ticks": ""
             }
            },
            "type": "scatterpolargl"
           }
          ],
          "scatterternary": [
           {
            "marker": {
             "colorbar": {
              "outlinewidth": 0,
              "ticks": ""
             }
            },
            "type": "scatterternary"
           }
          ],
          "surface": [
           {
            "colorbar": {
             "outlinewidth": 0,
             "ticks": ""
            },
            "colorscale": [
             [
              0,
              "#0d0887"
             ],
             [
              0.1111111111111111,
              "#46039f"
             ],
             [
              0.2222222222222222,
              "#7201a8"
             ],
             [
              0.3333333333333333,
              "#9c179e"
             ],
             [
              0.4444444444444444,
              "#bd3786"
             ],
             [
              0.5555555555555556,
              "#d8576b"
             ],
             [
              0.6666666666666666,
              "#ed7953"
             ],
             [
              0.7777777777777778,
              "#fb9f3a"
             ],
             [
              0.8888888888888888,
              "#fdca26"
             ],
             [
              1,
              "#f0f921"
             ]
            ],
            "type": "surface"
           }
          ],
          "table": [
           {
            "cells": {
             "fill": {
              "color": "#EBF0F8"
             },
             "line": {
              "color": "white"
             }
            },
            "header": {
             "fill": {
              "color": "#C8D4E3"
             },
             "line": {
              "color": "white"
             }
            },
            "type": "table"
           }
          ]
         },
         "layout": {
          "annotationdefaults": {
           "arrowcolor": "#2a3f5f",
           "arrowhead": 0,
           "arrowwidth": 1
          },
          "autotypenumbers": "strict",
          "coloraxis": {
           "colorbar": {
            "outlinewidth": 0,
            "ticks": ""
           }
          },
          "colorscale": {
           "diverging": [
            [
             0,
             "#8e0152"
            ],
            [
             0.1,
             "#c51b7d"
            ],
            [
             0.2,
             "#de77ae"
            ],
            [
             0.3,
             "#f1b6da"
            ],
            [
             0.4,
             "#fde0ef"
            ],
            [
             0.5,
             "#f7f7f7"
            ],
            [
             0.6,
             "#e6f5d0"
            ],
            [
             0.7,
             "#b8e186"
            ],
            [
             0.8,
             "#7fbc41"
            ],
            [
             0.9,
             "#4d9221"
            ],
            [
             1,
             "#276419"
            ]
           ],
           "sequential": [
            [
             0,
             "#0d0887"
            ],
            [
             0.1111111111111111,
             "#46039f"
            ],
            [
             0.2222222222222222,
             "#7201a8"
            ],
            [
             0.3333333333333333,
             "#9c179e"
            ],
            [
             0.4444444444444444,
             "#bd3786"
            ],
            [
             0.5555555555555556,
             "#d8576b"
            ],
            [
             0.6666666666666666,
             "#ed7953"
            ],
            [
             0.7777777777777778,
             "#fb9f3a"
            ],
            [
             0.8888888888888888,
             "#fdca26"
            ],
            [
             1,
             "#f0f921"
            ]
           ],
           "sequentialminus": [
            [
             0,
             "#0d0887"
            ],
            [
             0.1111111111111111,
             "#46039f"
            ],
            [
             0.2222222222222222,
             "#7201a8"
            ],
            [
             0.3333333333333333,
             "#9c179e"
            ],
            [
             0.4444444444444444,
             "#bd3786"
            ],
            [
             0.5555555555555556,
             "#d8576b"
            ],
            [
             0.6666666666666666,
             "#ed7953"
            ],
            [
             0.7777777777777778,
             "#fb9f3a"
            ],
            [
             0.8888888888888888,
             "#fdca26"
            ],
            [
             1,
             "#f0f921"
            ]
           ]
          },
          "colorway": [
           "#636efa",
           "#EF553B",
           "#00cc96",
           "#ab63fa",
           "#FFA15A",
           "#19d3f3",
           "#FF6692",
           "#B6E880",
           "#FF97FF",
           "#FECB52"
          ],
          "font": {
           "color": "#2a3f5f"
          },
          "geo": {
           "bgcolor": "white",
           "lakecolor": "white",
           "landcolor": "#E5ECF6",
           "showlakes": true,
           "showland": true,
           "subunitcolor": "white"
          },
          "hoverlabel": {
           "align": "left"
          },
          "hovermode": "closest",
          "mapbox": {
           "style": "light"
          },
          "paper_bgcolor": "white",
          "plot_bgcolor": "#E5ECF6",
          "polar": {
           "angularaxis": {
            "gridcolor": "white",
            "linecolor": "white",
            "ticks": ""
           },
           "bgcolor": "#E5ECF6",
           "radialaxis": {
            "gridcolor": "white",
            "linecolor": "white",
            "ticks": ""
           }
          },
          "scene": {
           "xaxis": {
            "backgroundcolor": "#E5ECF6",
            "gridcolor": "white",
            "gridwidth": 2,
            "linecolor": "white",
            "showbackground": true,
            "ticks": "",
            "zerolinecolor": "white"
           },
           "yaxis": {
            "backgroundcolor": "#E5ECF6",
            "gridcolor": "white",
            "gridwidth": 2,
            "linecolor": "white",
            "showbackground": true,
            "ticks": "",
            "zerolinecolor": "white"
           },
           "zaxis": {
            "backgroundcolor": "#E5ECF6",
            "gridcolor": "white",
            "gridwidth": 2,
            "linecolor": "white",
            "showbackground": true,
            "ticks": "",
            "zerolinecolor": "white"
           }
          },
          "shapedefaults": {
           "line": {
            "color": "#2a3f5f"
           }
          },
          "ternary": {
           "aaxis": {
            "gridcolor": "white",
            "linecolor": "white",
            "ticks": ""
           },
           "baxis": {
            "gridcolor": "white",
            "linecolor": "white",
            "ticks": ""
           },
           "bgcolor": "#E5ECF6",
           "caxis": {
            "gridcolor": "white",
            "linecolor": "white",
            "ticks": ""
           }
          },
          "title": {
           "x": 0.05
          },
          "xaxis": {
           "automargin": true,
           "gridcolor": "white",
           "linecolor": "white",
           "ticks": "",
           "title": {
            "standoff": 15
           },
           "zerolinecolor": "white",
           "zerolinewidth": 2
          },
          "yaxis": {
           "automargin": true,
           "gridcolor": "white",
           "linecolor": "white",
           "ticks": "",
           "title": {
            "standoff": 15
           },
           "zerolinecolor": "white",
           "zerolinewidth": 2
          }
         }
        },
        "xaxis": {
         "anchor": "y",
         "domain": [
          0,
          1
         ],
         "title": {
          "text": "Produto"
         }
        },
        "yaxis": {
         "anchor": "x",
         "categoryarray": [
          "R$ 4172000.00",
          "R$ 4673600.00",
          "R$ 5890500.00",
          "R$ 10822200.00",
          "R$ 11371500.00",
          "R$ 14827500.00",
          "R$ 47562200.00"
         ],
         "categoryorder": "array",
         "domain": [
          0,
          1
         ],
         "title": {
          "text": "Faturamento"
         }
        }
       }
      }
     },
     "metadata": {},
     "output_type": "display_data"
    },
    {
     "data": {
      "text/html": [
       "<div>\n",
       "<style scoped>\n",
       "    .dataframe tbody tr th:only-of-type {\n",
       "        vertical-align: middle;\n",
       "    }\n",
       "\n",
       "    .dataframe tbody tr th {\n",
       "        vertical-align: top;\n",
       "    }\n",
       "\n",
       "    .dataframe thead th {\n",
       "        text-align: right;\n",
       "    }\n",
       "</style>\n",
       "<table border=\"1\" class=\"dataframe\">\n",
       "  <thead>\n",
       "    <tr style=\"text-align: right;\">\n",
       "      <th></th>\n",
       "      <th>Faturamento</th>\n",
       "    </tr>\n",
       "    <tr>\n",
       "      <th>Produto</th>\n",
       "      <th></th>\n",
       "    </tr>\n",
       "  </thead>\n",
       "  <tbody>\n",
       "    <tr>\n",
       "      <th>iPhone</th>\n",
       "      <td>R$ 47562200.00</td>\n",
       "    </tr>\n",
       "    <tr>\n",
       "      <th>Televisão</th>\n",
       "      <td>R$ 14827500.00</td>\n",
       "    </tr>\n",
       "    <tr>\n",
       "      <th>Notebook</th>\n",
       "      <td>R$ 11371500.00</td>\n",
       "    </tr>\n",
       "    <tr>\n",
       "      <th>Android</th>\n",
       "      <td>R$ 10822200.00</td>\n",
       "    </tr>\n",
       "    <tr>\n",
       "      <th>Câmera</th>\n",
       "      <td>R$ 5890500.00</td>\n",
       "    </tr>\n",
       "    <tr>\n",
       "      <th>Tablet</th>\n",
       "      <td>R$ 4673600.00</td>\n",
       "    </tr>\n",
       "    <tr>\n",
       "      <th>SmartWatch</th>\n",
       "      <td>R$ 4172000.00</td>\n",
       "    </tr>\n",
       "  </tbody>\n",
       "</table>\n",
       "</div>"
      ],
      "text/plain": [
       "               Faturamento\n",
       "Produto                   \n",
       "iPhone      R$ 47562200.00\n",
       "Televisão   R$ 14827500.00\n",
       "Notebook    R$ 11371500.00\n",
       "Android     R$ 10822200.00\n",
       "Câmera       R$ 5890500.00\n",
       "Tablet       R$ 4673600.00\n",
       "SmartWatch   R$ 4172000.00"
      ]
     },
     "execution_count": 9,
     "metadata": {},
     "output_type": "execute_result"
    }
   ],
   "source": [
    "# Produto que mais faturou:\n",
    "\n",
    "dados_combinados_vendas['Faturamento']=dados_combinados_vendas['Quantidade Vendida'] * dados_combinados_vendas['Preco Unitario']\n",
    "dados_faturamento = dados_combinados_vendas.groupby('Produto').sum()\n",
    "dados_faturamento = dados_faturamento[['Faturamento']].sort_values(by='Faturamento', ascending=False)\n",
    "\n",
    "dados_faturamento['Faturamento']=dados_faturamento['Faturamento'].map(formata_valor)\n",
    "\n",
    "fig5 = px.bar(dados_faturamento, x=dados_faturamento.index, y='Faturamento',\n",
    "              hover_data=['Faturamento', dados_faturamento.index],\n",
    "              labels={'Faturamento':'Faturamento'}, color='Faturamento',\n",
    "              height=400)\n",
    "fig5.show()\n",
    "dados_faturamento"
   ]
  },
  {
   "cell_type": "code",
   "execution_count": 10,
   "metadata": {},
   "outputs": [],
   "source": [
    "# Opções para os filtro da Loja:\n",
    "\n",
    "options_shop=[{'lebel': 'Todas as Equipes', 'value': 0}] # Inicialização da lista\n",
    "for i in dados_combinados_vendas['Loja'].unique():\n",
    "    options_shop.append({'label':i, 'value':i})\n",
    "\n",
    "# Função do filtro:\n",
    "\n",
    "def shop_filter(shop):\n",
    "    if shop == 0:\n",
    "        mask = dados_combinados_vendas['Loja'].isin(dados_combinados_vendas['Loja'].unique())\n",
    "    else:\n",
    "        mask = dados_combinados_vendas['Loja'].isin([shop])\n",
    "\n"
   ]
  },
  {
   "cell_type": "code",
   "execution_count": 11,
   "metadata": {},
   "outputs": [
    {
     "data": {
      "text/plain": [
       "[{'lebel': 'Todas as Equipes', 'value': 0},\n",
       " {'label': 'Belo Horizonte', 'value': 'Belo Horizonte'},\n",
       " {'label': 'Curitiba', 'value': 'Curitiba'},\n",
       " {'label': 'Fortaleza', 'value': 'Fortaleza'},\n",
       " {'label': 'Goiás', 'value': 'Goiás'},\n",
       " {'label': 'Porto Alegre', 'value': 'Porto Alegre'},\n",
       " {'label': 'Recife', 'value': 'Recife'},\n",
       " {'label': 'Rio de Janeiro', 'value': 'Rio de Janeiro'},\n",
       " {'label': 'Salvador', 'value': 'Salvador'},\n",
       " {'label': 'São Paulo', 'value': 'São Paulo'}]"
      ]
     },
     "execution_count": 11,
     "metadata": {},
     "output_type": "execute_result"
    }
   ],
   "source": [
    "options_shop"
   ]
  },
  {
   "cell_type": "code",
   "execution_count": 35,
   "metadata": {},
   "outputs": [
    {
     "data": {
      "application/vnd.plotly.v1+json": {
       "config": {
        "plotlyServerURL": "https://plot.ly"
       },
       "data": [
        {
         "hole": 0.5,
         "labels": [
          "São Paulo-iPhone",
          "Rio de Janeiro-iPhone",
          "Fortaleza-iPhone",
          "Salvador-iPhone",
          "Recife-iPhone",
          "Goiás-iPhone",
          "Belo Horizonte-iPhone",
          "Curitiba-iPhone",
          "Porto Alegre-iPhone"
         ],
         "type": "pie",
         "values": [
          1981,
          1444,
          1209,
          1174,
          698,
          697,
          600,
          595,
          576
         ]
        }
       ],
       "layout": {
        "template": {
         "data": {
          "bar": [
           {
            "error_x": {
             "color": "#2a3f5f"
            },
            "error_y": {
             "color": "#2a3f5f"
            },
            "marker": {
             "line": {
              "color": "#E5ECF6",
              "width": 0.5
             },
             "pattern": {
              "fillmode": "overlay",
              "size": 10,
              "solidity": 0.2
             }
            },
            "type": "bar"
           }
          ],
          "barpolar": [
           {
            "marker": {
             "line": {
              "color": "#E5ECF6",
              "width": 0.5
             },
             "pattern": {
              "fillmode": "overlay",
              "size": 10,
              "solidity": 0.2
             }
            },
            "type": "barpolar"
           }
          ],
          "carpet": [
           {
            "aaxis": {
             "endlinecolor": "#2a3f5f",
             "gridcolor": "white",
             "linecolor": "white",
             "minorgridcolor": "white",
             "startlinecolor": "#2a3f5f"
            },
            "baxis": {
             "endlinecolor": "#2a3f5f",
             "gridcolor": "white",
             "linecolor": "white",
             "minorgridcolor": "white",
             "startlinecolor": "#2a3f5f"
            },
            "type": "carpet"
           }
          ],
          "choropleth": [
           {
            "colorbar": {
             "outlinewidth": 0,
             "ticks": ""
            },
            "type": "choropleth"
           }
          ],
          "contour": [
           {
            "colorbar": {
             "outlinewidth": 0,
             "ticks": ""
            },
            "colorscale": [
             [
              0,
              "#0d0887"
             ],
             [
              0.1111111111111111,
              "#46039f"
             ],
             [
              0.2222222222222222,
              "#7201a8"
             ],
             [
              0.3333333333333333,
              "#9c179e"
             ],
             [
              0.4444444444444444,
              "#bd3786"
             ],
             [
              0.5555555555555556,
              "#d8576b"
             ],
             [
              0.6666666666666666,
              "#ed7953"
             ],
             [
              0.7777777777777778,
              "#fb9f3a"
             ],
             [
              0.8888888888888888,
              "#fdca26"
             ],
             [
              1,
              "#f0f921"
             ]
            ],
            "type": "contour"
           }
          ],
          "contourcarpet": [
           {
            "colorbar": {
             "outlinewidth": 0,
             "ticks": ""
            },
            "type": "contourcarpet"
           }
          ],
          "heatmap": [
           {
            "colorbar": {
             "outlinewidth": 0,
             "ticks": ""
            },
            "colorscale": [
             [
              0,
              "#0d0887"
             ],
             [
              0.1111111111111111,
              "#46039f"
             ],
             [
              0.2222222222222222,
              "#7201a8"
             ],
             [
              0.3333333333333333,
              "#9c179e"
             ],
             [
              0.4444444444444444,
              "#bd3786"
             ],
             [
              0.5555555555555556,
              "#d8576b"
             ],
             [
              0.6666666666666666,
              "#ed7953"
             ],
             [
              0.7777777777777778,
              "#fb9f3a"
             ],
             [
              0.8888888888888888,
              "#fdca26"
             ],
             [
              1,
              "#f0f921"
             ]
            ],
            "type": "heatmap"
           }
          ],
          "heatmapgl": [
           {
            "colorbar": {
             "outlinewidth": 0,
             "ticks": ""
            },
            "colorscale": [
             [
              0,
              "#0d0887"
             ],
             [
              0.1111111111111111,
              "#46039f"
             ],
             [
              0.2222222222222222,
              "#7201a8"
             ],
             [
              0.3333333333333333,
              "#9c179e"
             ],
             [
              0.4444444444444444,
              "#bd3786"
             ],
             [
              0.5555555555555556,
              "#d8576b"
             ],
             [
              0.6666666666666666,
              "#ed7953"
             ],
             [
              0.7777777777777778,
              "#fb9f3a"
             ],
             [
              0.8888888888888888,
              "#fdca26"
             ],
             [
              1,
              "#f0f921"
             ]
            ],
            "type": "heatmapgl"
           }
          ],
          "histogram": [
           {
            "marker": {
             "pattern": {
              "fillmode": "overlay",
              "size": 10,
              "solidity": 0.2
             }
            },
            "type": "histogram"
           }
          ],
          "histogram2d": [
           {
            "colorbar": {
             "outlinewidth": 0,
             "ticks": ""
            },
            "colorscale": [
             [
              0,
              "#0d0887"
             ],
             [
              0.1111111111111111,
              "#46039f"
             ],
             [
              0.2222222222222222,
              "#7201a8"
             ],
             [
              0.3333333333333333,
              "#9c179e"
             ],
             [
              0.4444444444444444,
              "#bd3786"
             ],
             [
              0.5555555555555556,
              "#d8576b"
             ],
             [
              0.6666666666666666,
              "#ed7953"
             ],
             [
              0.7777777777777778,
              "#fb9f3a"
             ],
             [
              0.8888888888888888,
              "#fdca26"
             ],
             [
              1,
              "#f0f921"
             ]
            ],
            "type": "histogram2d"
           }
          ],
          "histogram2dcontour": [
           {
            "colorbar": {
             "outlinewidth": 0,
             "ticks": ""
            },
            "colorscale": [
             [
              0,
              "#0d0887"
             ],
             [
              0.1111111111111111,
              "#46039f"
             ],
             [
              0.2222222222222222,
              "#7201a8"
             ],
             [
              0.3333333333333333,
              "#9c179e"
             ],
             [
              0.4444444444444444,
              "#bd3786"
             ],
             [
              0.5555555555555556,
              "#d8576b"
             ],
             [
              0.6666666666666666,
              "#ed7953"
             ],
             [
              0.7777777777777778,
              "#fb9f3a"
             ],
             [
              0.8888888888888888,
              "#fdca26"
             ],
             [
              1,
              "#f0f921"
             ]
            ],
            "type": "histogram2dcontour"
           }
          ],
          "mesh3d": [
           {
            "colorbar": {
             "outlinewidth": 0,
             "ticks": ""
            },
            "type": "mesh3d"
           }
          ],
          "parcoords": [
           {
            "line": {
             "colorbar": {
              "outlinewidth": 0,
              "ticks": ""
             }
            },
            "type": "parcoords"
           }
          ],
          "pie": [
           {
            "automargin": true,
            "type": "pie"
           }
          ],
          "scatter": [
           {
            "fillpattern": {
             "fillmode": "overlay",
             "size": 10,
             "solidity": 0.2
            },
            "type": "scatter"
           }
          ],
          "scatter3d": [
           {
            "line": {
             "colorbar": {
              "outlinewidth": 0,
              "ticks": ""
             }
            },
            "marker": {
             "colorbar": {
              "outlinewidth": 0,
              "ticks": ""
             }
            },
            "type": "scatter3d"
           }
          ],
          "scattercarpet": [
           {
            "marker": {
             "colorbar": {
              "outlinewidth": 0,
              "ticks": ""
             }
            },
            "type": "scattercarpet"
           }
          ],
          "scattergeo": [
           {
            "marker": {
             "colorbar": {
              "outlinewidth": 0,
              "ticks": ""
             }
            },
            "type": "scattergeo"
           }
          ],
          "scattergl": [
           {
            "marker": {
             "colorbar": {
              "outlinewidth": 0,
              "ticks": ""
             }
            },
            "type": "scattergl"
           }
          ],
          "scattermapbox": [
           {
            "marker": {
             "colorbar": {
              "outlinewidth": 0,
              "ticks": ""
             }
            },
            "type": "scattermapbox"
           }
          ],
          "scatterpolar": [
           {
            "marker": {
             "colorbar": {
              "outlinewidth": 0,
              "ticks": ""
             }
            },
            "type": "scatterpolar"
           }
          ],
          "scatterpolargl": [
           {
            "marker": {
             "colorbar": {
              "outlinewidth": 0,
              "ticks": ""
             }
            },
            "type": "scatterpolargl"
           }
          ],
          "scatterternary": [
           {
            "marker": {
             "colorbar": {
              "outlinewidth": 0,
              "ticks": ""
             }
            },
            "type": "scatterternary"
           }
          ],
          "surface": [
           {
            "colorbar": {
             "outlinewidth": 0,
             "ticks": ""
            },
            "colorscale": [
             [
              0,
              "#0d0887"
             ],
             [
              0.1111111111111111,
              "#46039f"
             ],
             [
              0.2222222222222222,
              "#7201a8"
             ],
             [
              0.3333333333333333,
              "#9c179e"
             ],
             [
              0.4444444444444444,
              "#bd3786"
             ],
             [
              0.5555555555555556,
              "#d8576b"
             ],
             [
              0.6666666666666666,
              "#ed7953"
             ],
             [
              0.7777777777777778,
              "#fb9f3a"
             ],
             [
              0.8888888888888888,
              "#fdca26"
             ],
             [
              1,
              "#f0f921"
             ]
            ],
            "type": "surface"
           }
          ],
          "table": [
           {
            "cells": {
             "fill": {
              "color": "#EBF0F8"
             },
             "line": {
              "color": "white"
             }
            },
            "header": {
             "fill": {
              "color": "#C8D4E3"
             },
             "line": {
              "color": "white"
             }
            },
            "type": "table"
           }
          ]
         },
         "layout": {
          "annotationdefaults": {
           "arrowcolor": "#2a3f5f",
           "arrowhead": 0,
           "arrowwidth": 1
          },
          "autotypenumbers": "strict",
          "coloraxis": {
           "colorbar": {
            "outlinewidth": 0,
            "ticks": ""
           }
          },
          "colorscale": {
           "diverging": [
            [
             0,
             "#8e0152"
            ],
            [
             0.1,
             "#c51b7d"
            ],
            [
             0.2,
             "#de77ae"
            ],
            [
             0.3,
             "#f1b6da"
            ],
            [
             0.4,
             "#fde0ef"
            ],
            [
             0.5,
             "#f7f7f7"
            ],
            [
             0.6,
             "#e6f5d0"
            ],
            [
             0.7,
             "#b8e186"
            ],
            [
             0.8,
             "#7fbc41"
            ],
            [
             0.9,
             "#4d9221"
            ],
            [
             1,
             "#276419"
            ]
           ],
           "sequential": [
            [
             0,
             "#0d0887"
            ],
            [
             0.1111111111111111,
             "#46039f"
            ],
            [
             0.2222222222222222,
             "#7201a8"
            ],
            [
             0.3333333333333333,
             "#9c179e"
            ],
            [
             0.4444444444444444,
             "#bd3786"
            ],
            [
             0.5555555555555556,
             "#d8576b"
            ],
            [
             0.6666666666666666,
             "#ed7953"
            ],
            [
             0.7777777777777778,
             "#fb9f3a"
            ],
            [
             0.8888888888888888,
             "#fdca26"
            ],
            [
             1,
             "#f0f921"
            ]
           ],
           "sequentialminus": [
            [
             0,
             "#0d0887"
            ],
            [
             0.1111111111111111,
             "#46039f"
            ],
            [
             0.2222222222222222,
             "#7201a8"
            ],
            [
             0.3333333333333333,
             "#9c179e"
            ],
            [
             0.4444444444444444,
             "#bd3786"
            ],
            [
             0.5555555555555556,
             "#d8576b"
            ],
            [
             0.6666666666666666,
             "#ed7953"
            ],
            [
             0.7777777777777778,
             "#fb9f3a"
            ],
            [
             0.8888888888888888,
             "#fdca26"
            ],
            [
             1,
             "#f0f921"
            ]
           ]
          },
          "colorway": [
           "#636efa",
           "#EF553B",
           "#00cc96",
           "#ab63fa",
           "#FFA15A",
           "#19d3f3",
           "#FF6692",
           "#B6E880",
           "#FF97FF",
           "#FECB52"
          ],
          "font": {
           "color": "#2a3f5f"
          },
          "geo": {
           "bgcolor": "white",
           "lakecolor": "white",
           "landcolor": "#E5ECF6",
           "showlakes": true,
           "showland": true,
           "subunitcolor": "white"
          },
          "hoverlabel": {
           "align": "left"
          },
          "hovermode": "closest",
          "mapbox": {
           "style": "light"
          },
          "paper_bgcolor": "white",
          "plot_bgcolor": "#E5ECF6",
          "polar": {
           "angularaxis": {
            "gridcolor": "white",
            "linecolor": "white",
            "ticks": ""
           },
           "bgcolor": "#E5ECF6",
           "radialaxis": {
            "gridcolor": "white",
            "linecolor": "white",
            "ticks": ""
           }
          },
          "scene": {
           "xaxis": {
            "backgroundcolor": "#E5ECF6",
            "gridcolor": "white",
            "gridwidth": 2,
            "linecolor": "white",
            "showbackground": true,
            "ticks": "",
            "zerolinecolor": "white"
           },
           "yaxis": {
            "backgroundcolor": "#E5ECF6",
            "gridcolor": "white",
            "gridwidth": 2,
            "linecolor": "white",
            "showbackground": true,
            "ticks": "",
            "zerolinecolor": "white"
           },
           "zaxis": {
            "backgroundcolor": "#E5ECF6",
            "gridcolor": "white",
            "gridwidth": 2,
            "linecolor": "white",
            "showbackground": true,
            "ticks": "",
            "zerolinecolor": "white"
           }
          },
          "shapedefaults": {
           "line": {
            "color": "#2a3f5f"
           }
          },
          "ternary": {
           "aaxis": {
            "gridcolor": "white",
            "linecolor": "white",
            "ticks": ""
           },
           "baxis": {
            "gridcolor": "white",
            "linecolor": "white",
            "ticks": ""
           },
           "bgcolor": "#E5ECF6",
           "caxis": {
            "gridcolor": "white",
            "linecolor": "white",
            "ticks": ""
           }
          },
          "title": {
           "x": 0.05
          },
          "xaxis": {
           "automargin": true,
           "gridcolor": "white",
           "linecolor": "white",
           "ticks": "",
           "title": {
            "standoff": 15
           },
           "zerolinecolor": "white",
           "zerolinewidth": 2
          },
          "yaxis": {
           "automargin": true,
           "gridcolor": "white",
           "linecolor": "white",
           "ticks": "",
           "title": {
            "standoff": 15
           },
           "zerolinecolor": "white",
           "zerolinewidth": 2
          }
         }
        }
       }
      }
     },
     "metadata": {},
     "output_type": "display_data"
    },
    {
     "data": {
      "text/html": [
       "<div>\n",
       "<style scoped>\n",
       "    .dataframe tbody tr th:only-of-type {\n",
       "        vertical-align: middle;\n",
       "    }\n",
       "\n",
       "    .dataframe tbody tr th {\n",
       "        vertical-align: top;\n",
       "    }\n",
       "\n",
       "    .dataframe thead th {\n",
       "        text-align: right;\n",
       "    }\n",
       "</style>\n",
       "<table border=\"1\" class=\"dataframe\">\n",
       "  <thead>\n",
       "    <tr style=\"text-align: right;\">\n",
       "      <th></th>\n",
       "      <th>Loja</th>\n",
       "      <th>Produto</th>\n",
       "      <th>Quantidade Vendida</th>\n",
       "    </tr>\n",
       "  </thead>\n",
       "  <tbody>\n",
       "    <tr>\n",
       "      <th>0</th>\n",
       "      <td>São Paulo</td>\n",
       "      <td>iPhone</td>\n",
       "      <td>1981</td>\n",
       "    </tr>\n",
       "    <tr>\n",
       "      <th>1</th>\n",
       "      <td>Rio de Janeiro</td>\n",
       "      <td>iPhone</td>\n",
       "      <td>1444</td>\n",
       "    </tr>\n",
       "    <tr>\n",
       "      <th>2</th>\n",
       "      <td>Fortaleza</td>\n",
       "      <td>iPhone</td>\n",
       "      <td>1209</td>\n",
       "    </tr>\n",
       "    <tr>\n",
       "      <th>3</th>\n",
       "      <td>Salvador</td>\n",
       "      <td>iPhone</td>\n",
       "      <td>1174</td>\n",
       "    </tr>\n",
       "    <tr>\n",
       "      <th>4</th>\n",
       "      <td>Recife</td>\n",
       "      <td>iPhone</td>\n",
       "      <td>698</td>\n",
       "    </tr>\n",
       "    <tr>\n",
       "      <th>5</th>\n",
       "      <td>Goiás</td>\n",
       "      <td>iPhone</td>\n",
       "      <td>697</td>\n",
       "    </tr>\n",
       "    <tr>\n",
       "      <th>6</th>\n",
       "      <td>Belo Horizonte</td>\n",
       "      <td>iPhone</td>\n",
       "      <td>600</td>\n",
       "    </tr>\n",
       "    <tr>\n",
       "      <th>7</th>\n",
       "      <td>Curitiba</td>\n",
       "      <td>iPhone</td>\n",
       "      <td>595</td>\n",
       "    </tr>\n",
       "    <tr>\n",
       "      <th>8</th>\n",
       "      <td>Porto Alegre</td>\n",
       "      <td>iPhone</td>\n",
       "      <td>576</td>\n",
       "    </tr>\n",
       "  </tbody>\n",
       "</table>\n",
       "</div>"
      ],
      "text/plain": [
       "             Loja Produto  Quantidade Vendida\n",
       "0       São Paulo  iPhone                1981\n",
       "1  Rio de Janeiro  iPhone                1444\n",
       "2       Fortaleza  iPhone                1209\n",
       "3        Salvador  iPhone                1174\n",
       "4          Recife  iPhone                 698\n",
       "5           Goiás  iPhone                 697\n",
       "6  Belo Horizonte  iPhone                 600\n",
       "7        Curitiba  iPhone                 595\n",
       "8    Porto Alegre  iPhone                 576"
      ]
     },
     "execution_count": 35,
     "metadata": {},
     "output_type": "execute_result"
    }
   ],
   "source": [
    "# Produto mais vendido por loja:\n",
    "\n",
    "Produto_mais_vendido_Loja = dados_combinados_vendas.groupby(['Loja', 'Produto'])['Quantidade Vendida'].sum()\n",
    "Produto_mais_vendido_Loja = Produto_mais_vendido_Loja.sort_values(ascending=False)\n",
    "Produto_mais_vendido_Loja = Produto_mais_vendido_Loja.groupby('Loja').head(1).reset_index()\n",
    "\n",
    "fig7 = go.Figure()\n",
    "fig7.add_trace(go.Pie(labels=Produto_mais_vendido_Loja['Loja']+'-'+Produto_mais_vendido_Loja['Produto'], values=Produto_mais_vendido_Loja['Quantidade Vendida'], hole=.5))\n",
    "fig7.show()\n",
    "\n",
    "Produto_mais_vendido_Loja\n"
   ]
  }
 ],
 "metadata": {
  "kernelspec": {
   "display_name": "Python 3",
   "language": "python",
   "name": "python3"
  },
  "language_info": {
   "codemirror_mode": {
    "name": "ipython",
    "version": 3
   },
   "file_extension": ".py",
   "mimetype": "text/x-python",
   "name": "python",
   "nbconvert_exporter": "python",
   "pygments_lexer": "ipython3",
   "version": "3.11.4"
  },
  "orig_nbformat": 4
 },
 "nbformat": 4,
 "nbformat_minor": 2
}
