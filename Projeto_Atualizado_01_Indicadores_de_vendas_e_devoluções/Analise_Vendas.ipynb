{
 "cells": [
  {
   "cell_type": "code",
   "execution_count": 41,
   "metadata": {},
   "outputs": [],
   "source": [
    "import os\n",
    "import pandas as pd\n",
    "import plotly_express as px\n",
    "import plotly.graph_objects as go\n",
    "\n",
    "\n",
    "def formata_valor(valor):\n",
    "    return \"R$ {:.2f}\".format(valor)\n",
    "\n",
    "dados_vendas = []\n",
    "lista_arquivos = os.listdir(r'E:\\Documentos-Victor\\GitHub_Novo\\Analise-De-Dados-E-Automacao-De-Processos\\Projeto_Atualizado_01_Indicadores_de_vendas_e_devoluções\\Vendas')\n",
    "\n",
    "for arquivos in lista_arquivos:\n",
    "    if \"Vendas\" in arquivos:\n",
    "        dados_doc = pd.read_csv(fr'E:\\Documentos-Victor\\GitHub_Novo\\Analise-De-Dados-E-Automacao-De-Processos\\Projeto_Atualizado_01_Indicadores_de_vendas_e_devoluções\\Vendas\\{arquivos}')\n",
    "        dados_vendas.append(dados_doc)\n",
    "        \n",
    "dados_combinados_vendas=pd.concat(dados_vendas)\n",
    "dados_combinados_vendas.to_csv('dados_combinados.csv', index=False)\n",
    "      "
   ]
  },
  {
   "cell_type": "code",
   "execution_count": 36,
   "metadata": {},
   "outputs": [
    {
     "data": {
      "text/html": [
       "<div>\n",
       "<style scoped>\n",
       "    .dataframe tbody tr th:only-of-type {\n",
       "        vertical-align: middle;\n",
       "    }\n",
       "\n",
       "    .dataframe tbody tr th {\n",
       "        vertical-align: top;\n",
       "    }\n",
       "\n",
       "    .dataframe thead th {\n",
       "        text-align: right;\n",
       "    }\n",
       "</style>\n",
       "<table border=\"1\" class=\"dataframe\">\n",
       "  <thead>\n",
       "    <tr style=\"text-align: right;\">\n",
       "      <th></th>\n",
       "      <th>Unnamed: 0</th>\n",
       "      <th>SKU</th>\n",
       "      <th>Produto</th>\n",
       "      <th>Quantidade Vendida</th>\n",
       "      <th>Primeiro Nome</th>\n",
       "      <th>Sobrenome</th>\n",
       "      <th>Data</th>\n",
       "      <th>Loja</th>\n",
       "      <th>Preco Unitario</th>\n",
       "      <th>Unnamed: 8</th>\n",
       "    </tr>\n",
       "  </thead>\n",
       "  <tbody>\n",
       "    <tr>\n",
       "      <th>0</th>\n",
       "      <td>17</td>\n",
       "      <td>HL4379</td>\n",
       "      <td>Televisão</td>\n",
       "      <td>2</td>\n",
       "      <td>Carolina</td>\n",
       "      <td>Alfradique</td>\n",
       "      <td>2/25/2018</td>\n",
       "      <td>Belo Horizonte</td>\n",
       "      <td>2500</td>\n",
       "      <td>NaN</td>\n",
       "    </tr>\n",
       "    <tr>\n",
       "      <th>1</th>\n",
       "      <td>25</td>\n",
       "      <td>HL4379</td>\n",
       "      <td>Televisão</td>\n",
       "      <td>1</td>\n",
       "      <td>Danilo</td>\n",
       "      <td>Rubim</td>\n",
       "      <td>2/20/2018</td>\n",
       "      <td>Belo Horizonte</td>\n",
       "      <td>2500</td>\n",
       "      <td>NaN</td>\n",
       "    </tr>\n",
       "    <tr>\n",
       "      <th>2</th>\n",
       "      <td>27</td>\n",
       "      <td>HL1918</td>\n",
       "      <td>iPhone</td>\n",
       "      <td>5</td>\n",
       "      <td>Bernard</td>\n",
       "      <td>Pedrosa</td>\n",
       "      <td>7/7/2018</td>\n",
       "      <td>Belo Horizonte</td>\n",
       "      <td>5300</td>\n",
       "      <td>NaN</td>\n",
       "    </tr>\n",
       "    <tr>\n",
       "      <th>3</th>\n",
       "      <td>54</td>\n",
       "      <td>HL1918</td>\n",
       "      <td>iPhone</td>\n",
       "      <td>5</td>\n",
       "      <td>Lucas</td>\n",
       "      <td>Lemos</td>\n",
       "      <td>12/26/2018</td>\n",
       "      <td>Belo Horizonte</td>\n",
       "      <td>5300</td>\n",
       "      <td>NaN</td>\n",
       "    </tr>\n",
       "    <tr>\n",
       "      <th>4</th>\n",
       "      <td>67</td>\n",
       "      <td>HL8851</td>\n",
       "      <td>Notebook</td>\n",
       "      <td>5</td>\n",
       "      <td>Bernardo</td>\n",
       "      <td>Botelho</td>\n",
       "      <td>6/8/2018</td>\n",
       "      <td>Belo Horizonte</td>\n",
       "      <td>3500</td>\n",
       "      <td>NaN</td>\n",
       "    </tr>\n",
       "    <tr>\n",
       "      <th>...</th>\n",
       "      <td>...</td>\n",
       "      <td>...</td>\n",
       "      <td>...</td>\n",
       "      <td>...</td>\n",
       "      <td>...</td>\n",
       "      <td>...</td>\n",
       "      <td>...</td>\n",
       "      <td>...</td>\n",
       "      <td>...</td>\n",
       "      <td>...</td>\n",
       "    </tr>\n",
       "    <tr>\n",
       "      <th>2221</th>\n",
       "      <td>9981</td>\n",
       "      <td>HL7348</td>\n",
       "      <td>SmartWatch</td>\n",
       "      <td>4</td>\n",
       "      <td>João</td>\n",
       "      <td>Junior</td>\n",
       "      <td>4/14/2018</td>\n",
       "      <td>São Paulo</td>\n",
       "      <td>1400</td>\n",
       "      <td>NaN</td>\n",
       "    </tr>\n",
       "    <tr>\n",
       "      <th>2222</th>\n",
       "      <td>9984</td>\n",
       "      <td>HL1918</td>\n",
       "      <td>iPhone</td>\n",
       "      <td>4</td>\n",
       "      <td>Itai</td>\n",
       "      <td>Puntel</td>\n",
       "      <td>5/2/2018</td>\n",
       "      <td>São Paulo</td>\n",
       "      <td>5300</td>\n",
       "      <td>NaN</td>\n",
       "    </tr>\n",
       "    <tr>\n",
       "      <th>2223</th>\n",
       "      <td>9985</td>\n",
       "      <td>HL1918</td>\n",
       "      <td>iPhone</td>\n",
       "      <td>1</td>\n",
       "      <td>Guilherme</td>\n",
       "      <td>Vianna</td>\n",
       "      <td>3/18/2018</td>\n",
       "      <td>São Paulo</td>\n",
       "      <td>5300</td>\n",
       "      <td>NaN</td>\n",
       "    </tr>\n",
       "    <tr>\n",
       "      <th>2224</th>\n",
       "      <td>9991</td>\n",
       "      <td>HL7348</td>\n",
       "      <td>SmartWatch</td>\n",
       "      <td>5</td>\n",
       "      <td>Antônio</td>\n",
       "      <td>Soares</td>\n",
       "      <td>11/21/2018</td>\n",
       "      <td>São Paulo</td>\n",
       "      <td>1400</td>\n",
       "      <td>NaN</td>\n",
       "    </tr>\n",
       "    <tr>\n",
       "      <th>2225</th>\n",
       "      <td>9996</td>\n",
       "      <td>HL4379</td>\n",
       "      <td>Televisão</td>\n",
       "      <td>5</td>\n",
       "      <td>Caio</td>\n",
       "      <td>Moraes</td>\n",
       "      <td>1/22/2018</td>\n",
       "      <td>São Paulo</td>\n",
       "      <td>2500</td>\n",
       "      <td>NaN</td>\n",
       "    </tr>\n",
       "  </tbody>\n",
       "</table>\n",
       "<p>9999 rows × 10 columns</p>\n",
       "</div>"
      ],
      "text/plain": [
       "      Unnamed: 0     SKU     Produto  Quantidade Vendida Primeiro Nome  \\\n",
       "0             17  HL4379   Televisão                   2      Carolina   \n",
       "1             25  HL4379   Televisão                   1        Danilo   \n",
       "2             27  HL1918      iPhone                   5       Bernard   \n",
       "3             54  HL1918      iPhone                   5         Lucas   \n",
       "4             67  HL8851    Notebook                   5      Bernardo   \n",
       "...          ...     ...         ...                 ...           ...   \n",
       "2221        9981  HL7348  SmartWatch                   4          João   \n",
       "2222        9984  HL1918      iPhone                   4          Itai   \n",
       "2223        9985  HL1918      iPhone                   1     Guilherme   \n",
       "2224        9991  HL7348  SmartWatch                   5       Antônio   \n",
       "2225        9996  HL4379   Televisão                   5          Caio   \n",
       "\n",
       "       Sobrenome        Data            Loja  Preco Unitario  Unnamed: 8  \n",
       "0     Alfradique   2/25/2018  Belo Horizonte            2500         NaN  \n",
       "1          Rubim   2/20/2018  Belo Horizonte            2500         NaN  \n",
       "2        Pedrosa    7/7/2018  Belo Horizonte            5300         NaN  \n",
       "3          Lemos  12/26/2018  Belo Horizonte            5300         NaN  \n",
       "4        Botelho    6/8/2018  Belo Horizonte            3500         NaN  \n",
       "...          ...         ...             ...             ...         ...  \n",
       "2221      Junior   4/14/2018       São Paulo            1400         NaN  \n",
       "2222      Puntel    5/2/2018       São Paulo            5300         NaN  \n",
       "2223      Vianna   3/18/2018       São Paulo            5300         NaN  \n",
       "2224      Soares  11/21/2018       São Paulo            1400         NaN  \n",
       "2225      Moraes   1/22/2018       São Paulo            2500         NaN  \n",
       "\n",
       "[9999 rows x 10 columns]"
      ]
     },
     "execution_count": 36,
     "metadata": {},
     "output_type": "execute_result"
    }
   ],
   "source": [
    "dados_combinados_vendas"
   ]
  },
  {
   "cell_type": "code",
   "execution_count": null,
   "metadata": {},
   "outputs": [],
   "source": [
    "# Produtos mais vendidos:\n",
    "\n",
    "Produtos_mais_vendidos=dados_combinados_vendas.groupby('Produto').sum()\n",
    "Produtos_mais_vendidos=Produtos_mais_vendidos[['Quantidade Vendida']].sort_values(by='Quantidade Vendida', ascending=False)\n",
    "Produtos_mais_vendidos\n",
    "\n",
    "fig1 = px.bar(Produtos_mais_vendidos, x=Produtos_mais_vendidos.index, y='Quantidade Vendida',\n",
    "              hover_data=['Quantidade Vendida', Produtos_mais_vendidos.index], color='Quantidade Vendida',\n",
    "              labels={'Quantidade Vendida':'Quantidade Vendida'}, height=400)\n",
    "fig1.show()\n"
   ]
  },
  {
   "cell_type": "code",
   "execution_count": 51,
   "metadata": {},
   "outputs": [
    {
     "data": {
      "application/vnd.plotly.v1+json": {
       "config": {
        "plotlyServerURL": "https://plot.ly"
       },
       "data": [
        {
         "alignmentgroup": "True",
         "hovertemplate": "index=%{x}<br>Quantidade Vendida=%{y}<extra></extra>",
         "legendgroup": "",
         "marker": {
          "color": "#636efa",
          "pattern": {
           "shape": ""
          }
         },
         "name": "",
         "offsetgroup": "",
         "orientation": "v",
         "showlegend": false,
         "textposition": "auto",
         "type": "bar",
         "x": [
          0,
          1,
          2,
          3,
          4,
          5,
          6,
          7,
          8
         ],
         "xaxis": "x",
         "y": [
          6674,
          4393,
          4320,
          4027,
          2242,
          2208,
          2151,
          2103,
          1925
         ],
         "yaxis": "y"
        }
       ],
       "layout": {
        "barmode": "relative",
        "height": 400,
        "legend": {
         "tracegroupgap": 0
        },
        "margin": {
         "t": 60
        },
        "template": {
         "data": {
          "bar": [
           {
            "error_x": {
             "color": "#2a3f5f"
            },
            "error_y": {
             "color": "#2a3f5f"
            },
            "marker": {
             "line": {
              "color": "#E5ECF6",
              "width": 0.5
             },
             "pattern": {
              "fillmode": "overlay",
              "size": 10,
              "solidity": 0.2
             }
            },
            "type": "bar"
           }
          ],
          "barpolar": [
           {
            "marker": {
             "line": {
              "color": "#E5ECF6",
              "width": 0.5
             },
             "pattern": {
              "fillmode": "overlay",
              "size": 10,
              "solidity": 0.2
             }
            },
            "type": "barpolar"
           }
          ],
          "carpet": [
           {
            "aaxis": {
             "endlinecolor": "#2a3f5f",
             "gridcolor": "white",
             "linecolor": "white",
             "minorgridcolor": "white",
             "startlinecolor": "#2a3f5f"
            },
            "baxis": {
             "endlinecolor": "#2a3f5f",
             "gridcolor": "white",
             "linecolor": "white",
             "minorgridcolor": "white",
             "startlinecolor": "#2a3f5f"
            },
            "type": "carpet"
           }
          ],
          "choropleth": [
           {
            "colorbar": {
             "outlinewidth": 0,
             "ticks": ""
            },
            "type": "choropleth"
           }
          ],
          "contour": [
           {
            "colorbar": {
             "outlinewidth": 0,
             "ticks": ""
            },
            "colorscale": [
             [
              0,
              "#0d0887"
             ],
             [
              0.1111111111111111,
              "#46039f"
             ],
             [
              0.2222222222222222,
              "#7201a8"
             ],
             [
              0.3333333333333333,
              "#9c179e"
             ],
             [
              0.4444444444444444,
              "#bd3786"
             ],
             [
              0.5555555555555556,
              "#d8576b"
             ],
             [
              0.6666666666666666,
              "#ed7953"
             ],
             [
              0.7777777777777778,
              "#fb9f3a"
             ],
             [
              0.8888888888888888,
              "#fdca26"
             ],
             [
              1,
              "#f0f921"
             ]
            ],
            "type": "contour"
           }
          ],
          "contourcarpet": [
           {
            "colorbar": {
             "outlinewidth": 0,
             "ticks": ""
            },
            "type": "contourcarpet"
           }
          ],
          "heatmap": [
           {
            "colorbar": {
             "outlinewidth": 0,
             "ticks": ""
            },
            "colorscale": [
             [
              0,
              "#0d0887"
             ],
             [
              0.1111111111111111,
              "#46039f"
             ],
             [
              0.2222222222222222,
              "#7201a8"
             ],
             [
              0.3333333333333333,
              "#9c179e"
             ],
             [
              0.4444444444444444,
              "#bd3786"
             ],
             [
              0.5555555555555556,
              "#d8576b"
             ],
             [
              0.6666666666666666,
              "#ed7953"
             ],
             [
              0.7777777777777778,
              "#fb9f3a"
             ],
             [
              0.8888888888888888,
              "#fdca26"
             ],
             [
              1,
              "#f0f921"
             ]
            ],
            "type": "heatmap"
           }
          ],
          "heatmapgl": [
           {
            "colorbar": {
             "outlinewidth": 0,
             "ticks": ""
            },
            "colorscale": [
             [
              0,
              "#0d0887"
             ],
             [
              0.1111111111111111,
              "#46039f"
             ],
             [
              0.2222222222222222,
              "#7201a8"
             ],
             [
              0.3333333333333333,
              "#9c179e"
             ],
             [
              0.4444444444444444,
              "#bd3786"
             ],
             [
              0.5555555555555556,
              "#d8576b"
             ],
             [
              0.6666666666666666,
              "#ed7953"
             ],
             [
              0.7777777777777778,
              "#fb9f3a"
             ],
             [
              0.8888888888888888,
              "#fdca26"
             ],
             [
              1,
              "#f0f921"
             ]
            ],
            "type": "heatmapgl"
           }
          ],
          "histogram": [
           {
            "marker": {
             "pattern": {
              "fillmode": "overlay",
              "size": 10,
              "solidity": 0.2
             }
            },
            "type": "histogram"
           }
          ],
          "histogram2d": [
           {
            "colorbar": {
             "outlinewidth": 0,
             "ticks": ""
            },
            "colorscale": [
             [
              0,
              "#0d0887"
             ],
             [
              0.1111111111111111,
              "#46039f"
             ],
             [
              0.2222222222222222,
              "#7201a8"
             ],
             [
              0.3333333333333333,
              "#9c179e"
             ],
             [
              0.4444444444444444,
              "#bd3786"
             ],
             [
              0.5555555555555556,
              "#d8576b"
             ],
             [
              0.6666666666666666,
              "#ed7953"
             ],
             [
              0.7777777777777778,
              "#fb9f3a"
             ],
             [
              0.8888888888888888,
              "#fdca26"
             ],
             [
              1,
              "#f0f921"
             ]
            ],
            "type": "histogram2d"
           }
          ],
          "histogram2dcontour": [
           {
            "colorbar": {
             "outlinewidth": 0,
             "ticks": ""
            },
            "colorscale": [
             [
              0,
              "#0d0887"
             ],
             [
              0.1111111111111111,
              "#46039f"
             ],
             [
              0.2222222222222222,
              "#7201a8"
             ],
             [
              0.3333333333333333,
              "#9c179e"
             ],
             [
              0.4444444444444444,
              "#bd3786"
             ],
             [
              0.5555555555555556,
              "#d8576b"
             ],
             [
              0.6666666666666666,
              "#ed7953"
             ],
             [
              0.7777777777777778,
              "#fb9f3a"
             ],
             [
              0.8888888888888888,
              "#fdca26"
             ],
             [
              1,
              "#f0f921"
             ]
            ],
            "type": "histogram2dcontour"
           }
          ],
          "mesh3d": [
           {
            "colorbar": {
             "outlinewidth": 0,
             "ticks": ""
            },
            "type": "mesh3d"
           }
          ],
          "parcoords": [
           {
            "line": {
             "colorbar": {
              "outlinewidth": 0,
              "ticks": ""
             }
            },
            "type": "parcoords"
           }
          ],
          "pie": [
           {
            "automargin": true,
            "type": "pie"
           }
          ],
          "scatter": [
           {
            "fillpattern": {
             "fillmode": "overlay",
             "size": 10,
             "solidity": 0.2
            },
            "type": "scatter"
           }
          ],
          "scatter3d": [
           {
            "line": {
             "colorbar": {
              "outlinewidth": 0,
              "ticks": ""
             }
            },
            "marker": {
             "colorbar": {
              "outlinewidth": 0,
              "ticks": ""
             }
            },
            "type": "scatter3d"
           }
          ],
          "scattercarpet": [
           {
            "marker": {
             "colorbar": {
              "outlinewidth": 0,
              "ticks": ""
             }
            },
            "type": "scattercarpet"
           }
          ],
          "scattergeo": [
           {
            "marker": {
             "colorbar": {
              "outlinewidth": 0,
              "ticks": ""
             }
            },
            "type": "scattergeo"
           }
          ],
          "scattergl": [
           {
            "marker": {
             "colorbar": {
              "outlinewidth": 0,
              "ticks": ""
             }
            },
            "type": "scattergl"
           }
          ],
          "scattermapbox": [
           {
            "marker": {
             "colorbar": {
              "outlinewidth": 0,
              "ticks": ""
             }
            },
            "type": "scattermapbox"
           }
          ],
          "scatterpolar": [
           {
            "marker": {
             "colorbar": {
              "outlinewidth": 0,
              "ticks": ""
             }
            },
            "type": "scatterpolar"
           }
          ],
          "scatterpolargl": [
           {
            "marker": {
             "colorbar": {
              "outlinewidth": 0,
              "ticks": ""
             }
            },
            "type": "scatterpolargl"
           }
          ],
          "scatterternary": [
           {
            "marker": {
             "colorbar": {
              "outlinewidth": 0,
              "ticks": ""
             }
            },
            "type": "scatterternary"
           }
          ],
          "surface": [
           {
            "colorbar": {
             "outlinewidth": 0,
             "ticks": ""
            },
            "colorscale": [
             [
              0,
              "#0d0887"
             ],
             [
              0.1111111111111111,
              "#46039f"
             ],
             [
              0.2222222222222222,
              "#7201a8"
             ],
             [
              0.3333333333333333,
              "#9c179e"
             ],
             [
              0.4444444444444444,
              "#bd3786"
             ],
             [
              0.5555555555555556,
              "#d8576b"
             ],
             [
              0.6666666666666666,
              "#ed7953"
             ],
             [
              0.7777777777777778,
              "#fb9f3a"
             ],
             [
              0.8888888888888888,
              "#fdca26"
             ],
             [
              1,
              "#f0f921"
             ]
            ],
            "type": "surface"
           }
          ],
          "table": [
           {
            "cells": {
             "fill": {
              "color": "#EBF0F8"
             },
             "line": {
              "color": "white"
             }
            },
            "header": {
             "fill": {
              "color": "#C8D4E3"
             },
             "line": {
              "color": "white"
             }
            },
            "type": "table"
           }
          ]
         },
         "layout": {
          "annotationdefaults": {
           "arrowcolor": "#2a3f5f",
           "arrowhead": 0,
           "arrowwidth": 1
          },
          "autotypenumbers": "strict",
          "coloraxis": {
           "colorbar": {
            "outlinewidth": 0,
            "ticks": ""
           }
          },
          "colorscale": {
           "diverging": [
            [
             0,
             "#8e0152"
            ],
            [
             0.1,
             "#c51b7d"
            ],
            [
             0.2,
             "#de77ae"
            ],
            [
             0.3,
             "#f1b6da"
            ],
            [
             0.4,
             "#fde0ef"
            ],
            [
             0.5,
             "#f7f7f7"
            ],
            [
             0.6,
             "#e6f5d0"
            ],
            [
             0.7,
             "#b8e186"
            ],
            [
             0.8,
             "#7fbc41"
            ],
            [
             0.9,
             "#4d9221"
            ],
            [
             1,
             "#276419"
            ]
           ],
           "sequential": [
            [
             0,
             "#0d0887"
            ],
            [
             0.1111111111111111,
             "#46039f"
            ],
            [
             0.2222222222222222,
             "#7201a8"
            ],
            [
             0.3333333333333333,
             "#9c179e"
            ],
            [
             0.4444444444444444,
             "#bd3786"
            ],
            [
             0.5555555555555556,
             "#d8576b"
            ],
            [
             0.6666666666666666,
             "#ed7953"
            ],
            [
             0.7777777777777778,
             "#fb9f3a"
            ],
            [
             0.8888888888888888,
             "#fdca26"
            ],
            [
             1,
             "#f0f921"
            ]
           ],
           "sequentialminus": [
            [
             0,
             "#0d0887"
            ],
            [
             0.1111111111111111,
             "#46039f"
            ],
            [
             0.2222222222222222,
             "#7201a8"
            ],
            [
             0.3333333333333333,
             "#9c179e"
            ],
            [
             0.4444444444444444,
             "#bd3786"
            ],
            [
             0.5555555555555556,
             "#d8576b"
            ],
            [
             0.6666666666666666,
             "#ed7953"
            ],
            [
             0.7777777777777778,
             "#fb9f3a"
            ],
            [
             0.8888888888888888,
             "#fdca26"
            ],
            [
             1,
             "#f0f921"
            ]
           ]
          },
          "colorway": [
           "#636efa",
           "#EF553B",
           "#00cc96",
           "#ab63fa",
           "#FFA15A",
           "#19d3f3",
           "#FF6692",
           "#B6E880",
           "#FF97FF",
           "#FECB52"
          ],
          "font": {
           "color": "#2a3f5f"
          },
          "geo": {
           "bgcolor": "white",
           "lakecolor": "white",
           "landcolor": "#E5ECF6",
           "showlakes": true,
           "showland": true,
           "subunitcolor": "white"
          },
          "hoverlabel": {
           "align": "left"
          },
          "hovermode": "closest",
          "mapbox": {
           "style": "light"
          },
          "paper_bgcolor": "white",
          "plot_bgcolor": "#E5ECF6",
          "polar": {
           "angularaxis": {
            "gridcolor": "white",
            "linecolor": "white",
            "ticks": ""
           },
           "bgcolor": "#E5ECF6",
           "radialaxis": {
            "gridcolor": "white",
            "linecolor": "white",
            "ticks": ""
           }
          },
          "scene": {
           "xaxis": {
            "backgroundcolor": "#E5ECF6",
            "gridcolor": "white",
            "gridwidth": 2,
            "linecolor": "white",
            "showbackground": true,
            "ticks": "",
            "zerolinecolor": "white"
           },
           "yaxis": {
            "backgroundcolor": "#E5ECF6",
            "gridcolor": "white",
            "gridwidth": 2,
            "linecolor": "white",
            "showbackground": true,
            "ticks": "",
            "zerolinecolor": "white"
           },
           "zaxis": {
            "backgroundcolor": "#E5ECF6",
            "gridcolor": "white",
            "gridwidth": 2,
            "linecolor": "white",
            "showbackground": true,
            "ticks": "",
            "zerolinecolor": "white"
           }
          },
          "shapedefaults": {
           "line": {
            "color": "#2a3f5f"
           }
          },
          "ternary": {
           "aaxis": {
            "gridcolor": "white",
            "linecolor": "white",
            "ticks": ""
           },
           "baxis": {
            "gridcolor": "white",
            "linecolor": "white",
            "ticks": ""
           },
           "bgcolor": "#E5ECF6",
           "caxis": {
            "gridcolor": "white",
            "linecolor": "white",
            "ticks": ""
           }
          },
          "title": {
           "x": 0.05
          },
          "xaxis": {
           "automargin": true,
           "gridcolor": "white",
           "linecolor": "white",
           "ticks": "",
           "title": {
            "standoff": 15
           },
           "zerolinecolor": "white",
           "zerolinewidth": 2
          },
          "yaxis": {
           "automargin": true,
           "gridcolor": "white",
           "linecolor": "white",
           "ticks": "",
           "title": {
            "standoff": 15
           },
           "zerolinecolor": "white",
           "zerolinewidth": 2
          }
         }
        },
        "xaxis": {
         "anchor": "y",
         "domain": [
          0,
          1
         ],
         "title": {
          "text": "index"
         }
        },
        "yaxis": {
         "anchor": "x",
         "domain": [
          0,
          1
         ],
         "title": {
          "text": "Quantidade Vendida"
         }
        }
       }
      }
     },
     "metadata": {},
     "output_type": "display_data"
    },
    {
     "data": {
      "text/html": [
       "<div>\n",
       "<style scoped>\n",
       "    .dataframe tbody tr th:only-of-type {\n",
       "        vertical-align: middle;\n",
       "    }\n",
       "\n",
       "    .dataframe tbody tr th {\n",
       "        vertical-align: top;\n",
       "    }\n",
       "\n",
       "    .dataframe thead th {\n",
       "        text-align: right;\n",
       "    }\n",
       "</style>\n",
       "<table border=\"1\" class=\"dataframe\">\n",
       "  <thead>\n",
       "    <tr style=\"text-align: right;\">\n",
       "      <th></th>\n",
       "      <th>Loja</th>\n",
       "      <th>Quantidade Vendida</th>\n",
       "    </tr>\n",
       "  </thead>\n",
       "  <tbody>\n",
       "    <tr>\n",
       "      <th>0</th>\n",
       "      <td>São Paulo</td>\n",
       "      <td>6674</td>\n",
       "    </tr>\n",
       "    <tr>\n",
       "      <th>1</th>\n",
       "      <td>Rio de Janeiro</td>\n",
       "      <td>4393</td>\n",
       "    </tr>\n",
       "    <tr>\n",
       "      <th>2</th>\n",
       "      <td>Fortaleza</td>\n",
       "      <td>4320</td>\n",
       "    </tr>\n",
       "    <tr>\n",
       "      <th>3</th>\n",
       "      <td>Salvador</td>\n",
       "      <td>4027</td>\n",
       "    </tr>\n",
       "    <tr>\n",
       "      <th>4</th>\n",
       "      <td>Goiás</td>\n",
       "      <td>2242</td>\n",
       "    </tr>\n",
       "    <tr>\n",
       "      <th>5</th>\n",
       "      <td>Recife</td>\n",
       "      <td>2208</td>\n",
       "    </tr>\n",
       "    <tr>\n",
       "      <th>6</th>\n",
       "      <td>Curitiba</td>\n",
       "      <td>2151</td>\n",
       "    </tr>\n",
       "    <tr>\n",
       "      <th>7</th>\n",
       "      <td>Porto Alegre</td>\n",
       "      <td>2103</td>\n",
       "    </tr>\n",
       "    <tr>\n",
       "      <th>8</th>\n",
       "      <td>Belo Horizonte</td>\n",
       "      <td>1925</td>\n",
       "    </tr>\n",
       "  </tbody>\n",
       "</table>\n",
       "</div>"
      ],
      "text/plain": [
       "             Loja  Quantidade Vendida\n",
       "0       São Paulo                6674\n",
       "1  Rio de Janeiro                4393\n",
       "2       Fortaleza                4320\n",
       "3        Salvador                4027\n",
       "4           Goiás                2242\n",
       "5          Recife                2208\n",
       "6        Curitiba                2151\n",
       "7    Porto Alegre                2103\n",
       "8  Belo Horizonte                1925"
      ]
     },
     "execution_count": 51,
     "metadata": {},
     "output_type": "execute_result"
    }
   ],
   "source": [
    "# Loja que mais vendeu (Em quantidade de produtos):\n",
    "\n",
    "Loja_Mais_Produtiva = dados_combinados_vendas.groupby('Loja').sum()\n",
    "Loja_Mais_Produtiva=Loja_Mais_Produtiva[['Quantidade Vendida']].sort_values(by='Quantidade Vendida', ascending=False).reset_index()\n",
    "\n",
    "fig2 = px.bar(Loja_Mais_Produtiva, x=Loja_Mais_Produtiva.index, y='Quantidade Vendida',\n",
    "             hover_data=['Quantidade Vendida', Loja_Mais_Produtiva.index], color='Quantidade Vendida',\n",
    "             labels={'Quantidade Vendida':'Quantidade Vendida'}, height=400)\n",
    "fig2.show()\n",
    "\n",
    "Loja_Mais_Produtiva"
   ]
  },
  {
   "cell_type": "code",
   "execution_count": null,
   "metadata": {},
   "outputs": [],
   "source": [
    "# Loja que mais vendeu (Em valores unitários):\n",
    "\n",
    "Loja_Mais_Vendeu = dados_combinados_vendas.groupby('Loja').sum()\n",
    "Loja_Mais_Vendeu=Loja_Mais_Vendeu[['Preco Unitario']].sort_values(by='Preco Unitario', ascending=False)\n",
    "\n",
    "Loja_Mais_Vendeu['Preco Unitario']=Loja_Mais_Vendeu['Preco Unitario'].map(formata_valor)\n",
    "\n",
    "fig3 = px.bar(Loja_Mais_Vendeu, x=Loja_Mais_Vendeu.index, y='Preco Unitario',\n",
    "              hover_data=[Loja_Mais_Vendeu.index, 'Preco Unitario'], color='Preco Unitario',\n",
    "              labels={'Preco Unitario': 'Preco Unitario'}, height=400)\n",
    "fig3.show()\n",
    "Loja_Mais_Vendeu"
   ]
  },
  {
   "cell_type": "code",
   "execution_count": null,
   "metadata": {},
   "outputs": [],
   "source": [
    "# Vendedor que mais vendeu:\n",
    "\n",
    "Vendedor_Mais_Vendeu = dados_combinados_vendas.groupby(['Primeiro Nome']).sum()\n",
    "Vendedor_Mais_Vendeu=Vendedor_Mais_Vendeu[['Preco Unitario']].sort_values(by='Preco Unitario', ascending=False)\n",
    "\n",
    "Vendedor_Mais_Vendeu['Preco Unitario']=Vendedor_Mais_Vendeu['Preco Unitario'].map(formata_valor)\n",
    "\n",
    "fig4 = px.bar(Vendedor_Mais_Vendeu, x=Vendedor_Mais_Vendeu.index, y='Preco Unitario',\n",
    "              hover_data=[Vendedor_Mais_Vendeu.index, 'Preco Unitario'], color='Preco Unitario',\n",
    "              labels={'Preco Unitario':'Preco Unitario'}, height=400)\n",
    "fig4.show()\n",
    "Vendedor_Mais_Vendeu\n"
   ]
  },
  {
   "cell_type": "code",
   "execution_count": null,
   "metadata": {},
   "outputs": [],
   "source": [
    "# Produto que mais faturou:\n",
    "\n",
    "dados_combinados_vendas['Faturamento']=dados_combinados_vendas['Quantidade Vendida'] * dados_combinados_vendas['Preco Unitario']\n",
    "dados_faturamento = dados_combinados_vendas.groupby('Produto').sum()\n",
    "dados_faturamento = dados_faturamento[['Faturamento']].sort_values(by='Faturamento', ascending=False)\n",
    "\n",
    "dados_faturamento['Faturamento']=dados_faturamento['Faturamento'].map(formata_valor)\n",
    "\n",
    "fig5 = px.bar(dados_faturamento, x=dados_faturamento.index, y='Faturamento',\n",
    "              hover_data=['Faturamento', dados_faturamento.index],\n",
    "              labels={'Faturamento':'Faturamento'}, color='Faturamento',\n",
    "              height=400)\n",
    "fig5.show()\n",
    "dados_faturamento"
   ]
  }
 ],
 "metadata": {
  "kernelspec": {
   "display_name": "Python 3",
   "language": "python",
   "name": "python3"
  },
  "language_info": {
   "codemirror_mode": {
    "name": "ipython",
    "version": 3
   },
   "file_extension": ".py",
   "mimetype": "text/x-python",
   "name": "python",
   "nbconvert_exporter": "python",
   "pygments_lexer": "ipython3",
   "version": "3.11.4"
  },
  "orig_nbformat": 4
 },
 "nbformat": 4,
 "nbformat_minor": 2
}
